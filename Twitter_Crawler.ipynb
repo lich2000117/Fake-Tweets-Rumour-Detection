{
 "cells": [
  {
   "cell_type": "markdown",
   "id": "13697ecd",
   "metadata": {},
   "source": [
    "## How to Use this File?\n",
    "\n",
    "make sure added your personal bearer_token, define the path of the data and save path of the tweets.\n",
    "\n",
    "DATA_PATH is the destination of a txt file containing comma-separated twitter IDs.\n",
    "JSON_PATH is the save location of the crawlling tweets, it is a json file containing a list of tweets\n",
    "\n",
    "def Extend_Json: the function takes a list of dictionary as input, to extend the destination json file without reading it into memory\n",
    "\n",
    "def get_tweet: use API to get twitter from the web, it separates a list of IDs into 100-sized list chunks, so the number of requests sent should be \n",
    "\n",
    "#Requests = #ofIDs/100\n"
   ]
  },
  {
   "cell_type": "code",
   "execution_count": 1,
   "id": "970ddaf8",
   "metadata": {},
   "outputs": [],
   "source": [
    "import tweepy\n",
    "import numpy as np\n",
    "import time\n",
    "import json\n",
    "import os"
   ]
  },
  {
   "cell_type": "code",
   "execution_count": 2,
   "id": "21d3708d",
   "metadata": {},
   "outputs": [],
   "source": [
    "DATA_PATH = \"./id_data/train.data.txt\"   # train\n",
    "DEV_DATA_PATH = \"./id_data/dev.data.txt\"  # dev\n",
    "\n",
    "AUTHOR_JSON_PATH = \"./full_data/author_ids.json\"\n",
    "\n",
    "SOURCE_STORY_ONLY = False\n",
    "if SOURCE_STORY_ONLY:\n",
    "    JSON_PATH = \"./full_data/full_source_only.json\"   # SOURCE_STORY_ONLY=True\n",
    "else:\n",
    "    JSON_PATH = \"./full_data/full_dev_train.json\"\n"
   ]
  },
  {
   "cell_type": "markdown",
   "id": "e603572e",
   "metadata": {},
   "source": [
    "## Twitter API V2.0"
   ]
  },
  {
   "cell_type": "code",
   "execution_count": 3,
   "id": "dd4a6266",
   "metadata": {},
   "outputs": [],
   "source": [
    "bearer_token = \"AAAAAAAAAAAAAAAAAAAAAJzFbwEAAAAAiw1m4S%2FgkghMs%2BWfiVo6OswWgYE%3DGRQPPybZpQuJ1g2lFvxyH9yogZRQatwb6gT8X8ShhyYdjmqXGu\"\n",
    "\n",
    "client = tweepy.Client(bearer_token)"
   ]
  },
  {
   "cell_type": "markdown",
   "id": "e0556e63",
   "metadata": {},
   "source": [
    "## Twitter API V1.1"
   ]
  },
  {
   "cell_type": "code",
   "execution_count": 4,
   "id": "fb1877b2",
   "metadata": {},
   "outputs": [
    {
     "name": "stdout",
     "output_type": "stream",
     "text": [
      "FAAT_JOEY\n"
     ]
    }
   ],
   "source": [
    "## Twitter API V1.1\n",
    "consumer_key = \"PCyRF0jWO12cgQ88uQDkDoBes\"  # API_Key and secret\n",
    "consumer_secret = \"whVymp4fEIeKQEy1hrDghwRxKyW515QeUzFKq5fMvryoe1mOxT\"\n",
    "access_token = \"1357932194019217410-RmO2xXuajMNs98s6qw5DYHLAFzMcLZ\"\n",
    "access_token_secret = \"ptzYrYJF10qnGf8vU9wPdiuRNOAM3BXFxjMhOcxBZZcKz\"\n",
    "\n",
    "auth = tweepy.OAuth1UserHandler(\n",
    "    consumer_key, consumer_secret, access_token, access_token_secret\n",
    ")\n",
    "api = tweepy.API(auth)\n",
    "# If the authentication was successful, this should print the\n",
    "# screen name / username of the account\n",
    "print(api.verify_credentials().screen_name)"
   ]
  },
  {
   "cell_type": "code",
   "execution_count": 5,
   "id": "b1645ac7",
   "metadata": {},
   "outputs": [],
   "source": [
    "def Extend_Json(new_list_dict, File_PATH):\n",
    "    \"\"\"Extend a huge json file without loading it to the memory, input: new_dict is a list of json dictionary objects\"\"\"\n",
    "    # if file exists:\n",
    "    if os.path.exists(File_PATH):\n",
    "        if os.stat(File_PATH).st_size == 0:\n",
    "            print(\"asasdasdasd\")\n",
    "            # if file contains nothing, delete the file\n",
    "            os.remove(File_PATH)\n",
    "            # create another new json file\n",
    "            with open (File_PATH, mode=\"w\") as file:\n",
    "                json.dump(new_list_dict, file, indent=2)\n",
    "        else:\n",
    "            if new_list_dict: # if dict has value\n",
    "                with open (File_PATH, mode=\"r\") as file:\n",
    "                    data = json.load(file)\n",
    "                # Source: https://stackoverflow.com/questions/18087397/append-list-of-python-dictionaries-to-a-file-without-loading-it/31224105#31224105?newreg=6b7713ed96df42959bb9443daf7bb8ec\n",
    "                # two methods\n",
    "                # with open (File_PATH, mode=\"r+\") as file:\n",
    "                #     file.seek(0,2)  # 0 byte (0) from the end of file (2)\n",
    "                #     position = file.tell() -1\n",
    "                #     file.seek(position)\n",
    "                #     file.write( \",{}]\".format(json.dumps(new_dict)[1:-1]) )\n",
    "                with open (File_PATH, mode=\"r+\") as file:\n",
    "                    file.seek(os.stat(File_PATH).st_size -1)\n",
    "                    file.write( \",{}]\".format(json.dumps(new_list_dict, indent=2)[1:-1]) )\n",
    "    else:\n",
    "        # else, create a new json file\n",
    "        with open (File_PATH, mode=\"w\") as file:\n",
    "            json.dump(new_list_dict, file, indent=2)"
   ]
  },
  {
   "cell_type": "markdown",
   "id": "ad77f876",
   "metadata": {},
   "source": [
    "## Twitter Part\n",
    "Add dev and train twitter together"
   ]
  },
  {
   "cell_type": "code",
   "execution_count": 6,
   "id": "7583e67a",
   "metadata": {},
   "outputs": [
    {
     "data": {
      "text/plain": [
       "28633"
      ]
     },
     "execution_count": 6,
     "metadata": {},
     "output_type": "execute_result"
    }
   ],
   "source": [
    "train_id_list = []\n",
    "with open(DATA_PATH, \"r\") as f:\n",
    "    for line in f:\n",
    "        line = line.strip() # remove next line\n",
    "        if SOURCE_STORY_ONLY:\n",
    "            line = line.split(',')[0] # split into list\\\n",
    "        else:\n",
    "            line = line.split(',')\n",
    "        train_id_list.append(line)\n",
    "if not SOURCE_STORY_ONLY:\n",
    "    train_id_list = [item for sublist in train_id_list for item in sublist] # Flat into a single list\n",
    "train_id_list = list(set(train_id_list))\n",
    "len(train_id_list)"
   ]
  },
  {
   "cell_type": "code",
   "execution_count": 7,
   "id": "a36bb052",
   "metadata": {},
   "outputs": [
    {
     "data": {
      "text/plain": [
       "10172"
      ]
     },
     "execution_count": 7,
     "metadata": {},
     "output_type": "execute_result"
    }
   ],
   "source": [
    "dev_list = []\n",
    "with open(\"./id_data/dev.data.txt\", \"r\") as f:\n",
    "    for line in f:\n",
    "        line = line.strip() # remove next line\n",
    "        if SOURCE_STORY_ONLY:\n",
    "            line = line.split(',')[0] # split into list\\\n",
    "        else:\n",
    "            line = line.split(',')\n",
    "        dev_list.append(line)\n",
    "if not SOURCE_STORY_ONLY:\n",
    "    dev_list = [item for sublist in dev_list for item in sublist] # Flat into a single list\n",
    "dev_list = list(set(dev_list))\n",
    "len(dev_list)"
   ]
  },
  {
   "cell_type": "code",
   "execution_count": 8,
   "id": "301f10a9",
   "metadata": {},
   "outputs": [
    {
     "data": {
      "text/plain": [
       "38168"
      ]
     },
     "execution_count": 8,
     "metadata": {},
     "output_type": "execute_result"
    }
   ],
   "source": [
    "total_id_list = set(train_id_list + dev_list)\n",
    "len(total_id_list)"
   ]
  },
  {
   "cell_type": "code",
   "execution_count": 9,
   "id": "874c1a68",
   "metadata": {},
   "outputs": [],
   "source": [
    "def get_twitter(client, list_ids, JSON_PATH, tweet_fields=[\"created_at\", \"author_id\", \"entities\", \"withheld\", \"public_metrics\", \"lang\", \"reply_settings\", \"source\"]):\n",
    "    \"\"\"Automatically get a list of tweeters, the function auto divide ids into chunks of size 800 to avoid excessive use of API,\n",
    "        auto create a Json file in the designated path.\"\"\"\n",
    "    CHUNK_SIZE = 99\n",
    "    ## Auto divide into sub-tasks\n",
    "    list_ids = list(set(list_ids))\n",
    "    if len(list_ids) > CHUNK_SIZE:\n",
    "        chunks_of_list = np.array_split(list_ids, int(len(list_ids)/CHUNK_SIZE)+1)\n",
    "    else:\n",
    "        chunks_of_list = list_ids\n",
    "    count = 0\n",
    "    \n",
    "    for sub_list in chunks_of_list:\n",
    "        ## Main loop to get twitter by chunks\n",
    "        output_list = []   # output list of dictionary of tweets\n",
    "        author_id_list = []  # store author ids to produce author database\n",
    "\n",
    "        tweet_ids = list(sub_list)\n",
    "        \n",
    "        # This endpoint/method returns a variety of information about the Tweet(s)\n",
    "        # specified by the requested ID or list of IDs\n",
    "        # By default, only the ID and text fields of each Tweet will be returned\n",
    "        # Additional fields are retrieved using the tweet_fields parameter, selected by hands to make sure we capture useful informations\n",
    "        response = client.get_tweets(tweet_ids, tweet_fields=tweet_fields)\n",
    "\n",
    "        for tweet in response.data:\n",
    "            # set withheld to true or false based on return\n",
    "            if tweet.withheld:\n",
    "                withheld = True\n",
    "            else:\n",
    "                withheld = False\n",
    "            tweet_dict = {\n",
    "                \"id\":              tweet.id,\n",
    "                \"created_at\":      str(tweet.created_at),\n",
    "                \"author_id\":       tweet.author_id, \n",
    "                \"lang\":            tweet.lang,\n",
    "                \"reply_settings\":  tweet.reply_settings,\n",
    "                \"source\":          tweet.source,\n",
    "                \"withheld\":        withheld,\n",
    "                \"public_metrics\":  tweet.public_metrics,\n",
    "                \"entities\":        tweet.entities,\n",
    "                \"text\":            tweet.text,\n",
    "            }\n",
    "            output_list.append(tweet_dict)\n",
    "            author_id_list.append(tweet.author_id) # record author informations as well\n",
    "            count += 1\n",
    "        \n",
    "        # Save to json file\n",
    "        Extend_Json(output_list, JSON_PATH)\n",
    "        Extend_Json(author_id_list, AUTHOR_JSON_PATH)\n",
    "        # Sleep 15 minutes to avoid API restrictions after processing 900 tweets\n",
    "        #if loop_count == 8: \n",
    "            #time.sleep(15*60)\n",
    "            #loop_count = 0\n",
    "    print(\"Total Tweeter :\", count)\n",
    "        "
   ]
  },
  {
   "cell_type": "code",
   "execution_count": 10,
   "id": "84b7302d",
   "metadata": {},
   "outputs": [
    {
     "ename": "KeyboardInterrupt",
     "evalue": "",
     "output_type": "error",
     "traceback": [
      "\u001b[1;31m---------------------------------------------------------------------------\u001b[0m",
      "\u001b[1;31mKeyboardInterrupt\u001b[0m                         Traceback (most recent call last)",
      "\u001b[1;32mf:\\GithubRepo\\Rumour-Detection-and-Analysis-on-Twitter\\Twitter_Crawler.ipynb Cell 14'\u001b[0m in \u001b[0;36m<cell line: 2>\u001b[1;34m()\u001b[0m\n\u001b[0;32m      <a href='vscode-notebook-cell:/f%3A/GithubRepo/Rumour-Detection-and-Analysis-on-Twitter/Twitter_Crawler.ipynb#ch0000011?line=0'>1</a>\u001b[0m \u001b[39m# Run getter.\u001b[39;00m\n\u001b[1;32m----> <a href='vscode-notebook-cell:/f%3A/GithubRepo/Rumour-Detection-and-Analysis-on-Twitter/Twitter_Crawler.ipynb#ch0000011?line=1'>2</a>\u001b[0m get_twitter(client, total_id_list, JSON_PATH)\n",
      "\u001b[1;32mf:\\GithubRepo\\Rumour-Detection-and-Analysis-on-Twitter\\Twitter_Crawler.ipynb Cell 13'\u001b[0m in \u001b[0;36mget_twitter\u001b[1;34m(client, list_ids, JSON_PATH, tweet_fields)\u001b[0m\n\u001b[0;32m     <a href='vscode-notebook-cell:/f%3A/GithubRepo/Rumour-Detection-and-Analysis-on-Twitter/Twitter_Crawler.ipynb#ch0000010?line=17'>18</a>\u001b[0m tweet_ids \u001b[39m=\u001b[39m \u001b[39mlist\u001b[39m(sub_list)\n\u001b[0;32m     <a href='vscode-notebook-cell:/f%3A/GithubRepo/Rumour-Detection-and-Analysis-on-Twitter/Twitter_Crawler.ipynb#ch0000010?line=19'>20</a>\u001b[0m \u001b[39m# This endpoint/method returns a variety of information about the Tweet(s)\u001b[39;00m\n\u001b[0;32m     <a href='vscode-notebook-cell:/f%3A/GithubRepo/Rumour-Detection-and-Analysis-on-Twitter/Twitter_Crawler.ipynb#ch0000010?line=20'>21</a>\u001b[0m \u001b[39m# specified by the requested ID or list of IDs\u001b[39;00m\n\u001b[0;32m     <a href='vscode-notebook-cell:/f%3A/GithubRepo/Rumour-Detection-and-Analysis-on-Twitter/Twitter_Crawler.ipynb#ch0000010?line=21'>22</a>\u001b[0m \u001b[39m# By default, only the ID and text fields of each Tweet will be returned\u001b[39;00m\n\u001b[0;32m     <a href='vscode-notebook-cell:/f%3A/GithubRepo/Rumour-Detection-and-Analysis-on-Twitter/Twitter_Crawler.ipynb#ch0000010?line=22'>23</a>\u001b[0m \u001b[39m# Additional fields are retrieved using the tweet_fields parameter, selected by hands to make sure we capture useful informations\u001b[39;00m\n\u001b[1;32m---> <a href='vscode-notebook-cell:/f%3A/GithubRepo/Rumour-Detection-and-Analysis-on-Twitter/Twitter_Crawler.ipynb#ch0000010?line=23'>24</a>\u001b[0m response \u001b[39m=\u001b[39m client\u001b[39m.\u001b[39;49mget_tweets(tweet_ids, tweet_fields\u001b[39m=\u001b[39;49mtweet_fields)\n\u001b[0;32m     <a href='vscode-notebook-cell:/f%3A/GithubRepo/Rumour-Detection-and-Analysis-on-Twitter/Twitter_Crawler.ipynb#ch0000010?line=25'>26</a>\u001b[0m \u001b[39mfor\u001b[39;00m tweet \u001b[39min\u001b[39;00m response\u001b[39m.\u001b[39mdata:\n\u001b[0;32m     <a href='vscode-notebook-cell:/f%3A/GithubRepo/Rumour-Detection-and-Analysis-on-Twitter/Twitter_Crawler.ipynb#ch0000010?line=26'>27</a>\u001b[0m     \u001b[39m# set withheld to true or false based on return\u001b[39;00m\n\u001b[0;32m     <a href='vscode-notebook-cell:/f%3A/GithubRepo/Rumour-Detection-and-Analysis-on-Twitter/Twitter_Crawler.ipynb#ch0000010?line=27'>28</a>\u001b[0m     \u001b[39mif\u001b[39;00m tweet\u001b[39m.\u001b[39mwithheld:\n",
      "File \u001b[1;32m~\\AppData\\Local\\Programs\\Python\\Python310\\lib\\site-packages\\tweepy\\client.py:1698\u001b[0m, in \u001b[0;36mClient.get_tweets\u001b[1;34m(self, ids, user_auth, **params)\u001b[0m\n\u001b[0;32m   <a href='file:///c%3A/Users/Lee/AppData/Local/Programs/Python/Python310/lib/site-packages/tweepy/client.py?line=1658'>1659</a>\u001b[0m \u001b[39m\"\"\"get_tweets( \\\u001b[39;00m\n\u001b[0;32m   <a href='file:///c%3A/Users/Lee/AppData/Local/Programs/Python/Python310/lib/site-packages/tweepy/client.py?line=1659'>1660</a>\u001b[0m \u001b[39m    ids, *, expansions=None, media_fields=None, place_fields=None, \\\u001b[39;00m\n\u001b[0;32m   <a href='file:///c%3A/Users/Lee/AppData/Local/Programs/Python/Python310/lib/site-packages/tweepy/client.py?line=1660'>1661</a>\u001b[0m \u001b[39m    poll_fields=None, tweet_fields=None, user_fields=None, \\\u001b[39;00m\n\u001b[1;32m   (...)\u001b[0m\n\u001b[0;32m   <a href='file:///c%3A/Users/Lee/AppData/Local/Programs/Python/Python310/lib/site-packages/tweepy/client.py?line=1694'>1695</a>\u001b[0m \u001b[39mhttps://developer.twitter.com/en/docs/twitter-api/tweets/lookup/api-reference/get-tweets\u001b[39;00m\n\u001b[0;32m   <a href='file:///c%3A/Users/Lee/AppData/Local/Programs/Python/Python310/lib/site-packages/tweepy/client.py?line=1695'>1696</a>\u001b[0m \u001b[39m\"\"\"\u001b[39;00m\n\u001b[0;32m   <a href='file:///c%3A/Users/Lee/AppData/Local/Programs/Python/Python310/lib/site-packages/tweepy/client.py?line=1696'>1697</a>\u001b[0m params[\u001b[39m\"\u001b[39m\u001b[39mids\u001b[39m\u001b[39m\"\u001b[39m] \u001b[39m=\u001b[39m ids\n\u001b[1;32m-> <a href='file:///c%3A/Users/Lee/AppData/Local/Programs/Python/Python310/lib/site-packages/tweepy/client.py?line=1697'>1698</a>\u001b[0m \u001b[39mreturn\u001b[39;00m \u001b[39mself\u001b[39;49m\u001b[39m.\u001b[39;49m_make_request(\n\u001b[0;32m   <a href='file:///c%3A/Users/Lee/AppData/Local/Programs/Python/Python310/lib/site-packages/tweepy/client.py?line=1698'>1699</a>\u001b[0m     \u001b[39m\"\u001b[39;49m\u001b[39mGET\u001b[39;49m\u001b[39m\"\u001b[39;49m, \u001b[39m\"\u001b[39;49m\u001b[39m/2/tweets\u001b[39;49m\u001b[39m\"\u001b[39;49m, params\u001b[39m=\u001b[39;49mparams,\n\u001b[0;32m   <a href='file:///c%3A/Users/Lee/AppData/Local/Programs/Python/Python310/lib/site-packages/tweepy/client.py?line=1699'>1700</a>\u001b[0m     endpoint_parameters\u001b[39m=\u001b[39;49m(\n\u001b[0;32m   <a href='file:///c%3A/Users/Lee/AppData/Local/Programs/Python/Python310/lib/site-packages/tweepy/client.py?line=1700'>1701</a>\u001b[0m         \u001b[39m\"\u001b[39;49m\u001b[39mids\u001b[39;49m\u001b[39m\"\u001b[39;49m, \u001b[39m\"\u001b[39;49m\u001b[39mexpansions\u001b[39;49m\u001b[39m\"\u001b[39;49m, \u001b[39m\"\u001b[39;49m\u001b[39mmedia.fields\u001b[39;49m\u001b[39m\"\u001b[39;49m, \u001b[39m\"\u001b[39;49m\u001b[39mplace.fields\u001b[39;49m\u001b[39m\"\u001b[39;49m,\n\u001b[0;32m   <a href='file:///c%3A/Users/Lee/AppData/Local/Programs/Python/Python310/lib/site-packages/tweepy/client.py?line=1701'>1702</a>\u001b[0m         \u001b[39m\"\u001b[39;49m\u001b[39mpoll.fields\u001b[39;49m\u001b[39m\"\u001b[39;49m, \u001b[39m\"\u001b[39;49m\u001b[39mtweet.fields\u001b[39;49m\u001b[39m\"\u001b[39;49m, \u001b[39m\"\u001b[39;49m\u001b[39muser.fields\u001b[39;49m\u001b[39m\"\u001b[39;49m\n\u001b[0;32m   <a href='file:///c%3A/Users/Lee/AppData/Local/Programs/Python/Python310/lib/site-packages/tweepy/client.py?line=1702'>1703</a>\u001b[0m     ), data_type\u001b[39m=\u001b[39;49mTweet, user_auth\u001b[39m=\u001b[39;49muser_auth\n\u001b[0;32m   <a href='file:///c%3A/Users/Lee/AppData/Local/Programs/Python/Python310/lib/site-packages/tweepy/client.py?line=1703'>1704</a>\u001b[0m )\n",
      "File \u001b[1;32m~\\AppData\\Local\\Programs\\Python\\Python310\\lib\\site-packages\\tweepy\\client.py:126\u001b[0m, in \u001b[0;36mBaseClient._make_request\u001b[1;34m(self, method, route, params, endpoint_parameters, json, data_type, user_auth)\u001b[0m\n\u001b[0;32m    <a href='file:///c%3A/Users/Lee/AppData/Local/Programs/Python/Python310/lib/site-packages/tweepy/client.py?line=121'>122</a>\u001b[0m \u001b[39mdef\u001b[39;00m \u001b[39m_make_request\u001b[39m(\u001b[39mself\u001b[39m, method, route, params\u001b[39m=\u001b[39m{}, endpoint_parameters\u001b[39m=\u001b[39m\u001b[39mNone\u001b[39;00m,\n\u001b[0;32m    <a href='file:///c%3A/Users/Lee/AppData/Local/Programs/Python/Python310/lib/site-packages/tweepy/client.py?line=122'>123</a>\u001b[0m                   json\u001b[39m=\u001b[39m\u001b[39mNone\u001b[39;00m, data_type\u001b[39m=\u001b[39m\u001b[39mNone\u001b[39;00m, user_auth\u001b[39m=\u001b[39m\u001b[39mFalse\u001b[39;00m):\n\u001b[0;32m    <a href='file:///c%3A/Users/Lee/AppData/Local/Programs/Python/Python310/lib/site-packages/tweepy/client.py?line=123'>124</a>\u001b[0m     request_params \u001b[39m=\u001b[39m \u001b[39mself\u001b[39m\u001b[39m.\u001b[39m_process_params(params, endpoint_parameters)\n\u001b[1;32m--> <a href='file:///c%3A/Users/Lee/AppData/Local/Programs/Python/Python310/lib/site-packages/tweepy/client.py?line=125'>126</a>\u001b[0m     response \u001b[39m=\u001b[39m \u001b[39mself\u001b[39;49m\u001b[39m.\u001b[39;49mrequest(method, route, params\u001b[39m=\u001b[39;49mrequest_params,\n\u001b[0;32m    <a href='file:///c%3A/Users/Lee/AppData/Local/Programs/Python/Python310/lib/site-packages/tweepy/client.py?line=126'>127</a>\u001b[0m                             json\u001b[39m=\u001b[39;49mjson, user_auth\u001b[39m=\u001b[39;49muser_auth)\n\u001b[0;32m    <a href='file:///c%3A/Users/Lee/AppData/Local/Programs/Python/Python310/lib/site-packages/tweepy/client.py?line=128'>129</a>\u001b[0m     \u001b[39mif\u001b[39;00m \u001b[39mself\u001b[39m\u001b[39m.\u001b[39mreturn_type \u001b[39mis\u001b[39;00m requests\u001b[39m.\u001b[39mResponse:\n\u001b[0;32m    <a href='file:///c%3A/Users/Lee/AppData/Local/Programs/Python/Python310/lib/site-packages/tweepy/client.py?line=129'>130</a>\u001b[0m         \u001b[39mreturn\u001b[39;00m response\n",
      "File \u001b[1;32m~\\AppData\\Local\\Programs\\Python\\Python310\\lib\\site-packages\\tweepy\\client.py:83\u001b[0m, in \u001b[0;36mBaseClient.request\u001b[1;34m(self, method, route, params, json, user_auth)\u001b[0m\n\u001b[0;32m     <a href='file:///c%3A/Users/Lee/AppData/Local/Programs/Python/Python310/lib/site-packages/tweepy/client.py?line=73'>74</a>\u001b[0m     headers[\u001b[39m\"\u001b[39m\u001b[39mAuthorization\u001b[39m\u001b[39m\"\u001b[39m] \u001b[39m=\u001b[39m \u001b[39mf\u001b[39m\u001b[39m\"\u001b[39m\u001b[39mBearer \u001b[39m\u001b[39m{\u001b[39;00m\u001b[39mself\u001b[39m\u001b[39m.\u001b[39mbearer_token\u001b[39m}\u001b[39;00m\u001b[39m\"\u001b[39m\n\u001b[0;32m     <a href='file:///c%3A/Users/Lee/AppData/Local/Programs/Python/Python310/lib/site-packages/tweepy/client.py?line=75'>76</a>\u001b[0m log\u001b[39m.\u001b[39mdebug(\n\u001b[0;32m     <a href='file:///c%3A/Users/Lee/AppData/Local/Programs/Python/Python310/lib/site-packages/tweepy/client.py?line=76'>77</a>\u001b[0m     \u001b[39mf\u001b[39m\u001b[39m\"\u001b[39m\u001b[39mMaking API request: \u001b[39m\u001b[39m{\u001b[39;00mmethod\u001b[39m}\u001b[39;00m\u001b[39m \u001b[39m\u001b[39m{\u001b[39;00mhost \u001b[39m+\u001b[39m route\u001b[39m}\u001b[39;00m\u001b[39m\\n\u001b[39;00m\u001b[39m\"\u001b[39m\n\u001b[0;32m     <a href='file:///c%3A/Users/Lee/AppData/Local/Programs/Python/Python310/lib/site-packages/tweepy/client.py?line=77'>78</a>\u001b[0m     \u001b[39mf\u001b[39m\u001b[39m\"\u001b[39m\u001b[39mParameters: \u001b[39m\u001b[39m{\u001b[39;00mparams\u001b[39m}\u001b[39;00m\u001b[39m\\n\u001b[39;00m\u001b[39m\"\u001b[39m\n\u001b[0;32m     <a href='file:///c%3A/Users/Lee/AppData/Local/Programs/Python/Python310/lib/site-packages/tweepy/client.py?line=78'>79</a>\u001b[0m     \u001b[39mf\u001b[39m\u001b[39m\"\u001b[39m\u001b[39mHeaders: \u001b[39m\u001b[39m{\u001b[39;00mheaders\u001b[39m}\u001b[39;00m\u001b[39m\\n\u001b[39;00m\u001b[39m\"\u001b[39m\n\u001b[0;32m     <a href='file:///c%3A/Users/Lee/AppData/Local/Programs/Python/Python310/lib/site-packages/tweepy/client.py?line=79'>80</a>\u001b[0m     \u001b[39mf\u001b[39m\u001b[39m\"\u001b[39m\u001b[39mBody: \u001b[39m\u001b[39m{\u001b[39;00mjson\u001b[39m}\u001b[39;00m\u001b[39m\"\u001b[39m\n\u001b[0;32m     <a href='file:///c%3A/Users/Lee/AppData/Local/Programs/Python/Python310/lib/site-packages/tweepy/client.py?line=80'>81</a>\u001b[0m )\n\u001b[1;32m---> <a href='file:///c%3A/Users/Lee/AppData/Local/Programs/Python/Python310/lib/site-packages/tweepy/client.py?line=82'>83</a>\u001b[0m \u001b[39mwith\u001b[39;00m \u001b[39mself\u001b[39;49m\u001b[39m.\u001b[39;49msession\u001b[39m.\u001b[39;49mrequest(\n\u001b[0;32m     <a href='file:///c%3A/Users/Lee/AppData/Local/Programs/Python/Python310/lib/site-packages/tweepy/client.py?line=83'>84</a>\u001b[0m     method, host \u001b[39m+\u001b[39;49m route, params\u001b[39m=\u001b[39;49mparams, json\u001b[39m=\u001b[39;49mjson, headers\u001b[39m=\u001b[39;49mheaders,\n\u001b[0;32m     <a href='file:///c%3A/Users/Lee/AppData/Local/Programs/Python/Python310/lib/site-packages/tweepy/client.py?line=84'>85</a>\u001b[0m     auth\u001b[39m=\u001b[39;49mauth\n\u001b[0;32m     <a href='file:///c%3A/Users/Lee/AppData/Local/Programs/Python/Python310/lib/site-packages/tweepy/client.py?line=85'>86</a>\u001b[0m ) \u001b[39mas\u001b[39;00m response:\n\u001b[0;32m     <a href='file:///c%3A/Users/Lee/AppData/Local/Programs/Python/Python310/lib/site-packages/tweepy/client.py?line=86'>87</a>\u001b[0m     log\u001b[39m.\u001b[39mdebug(\n\u001b[0;32m     <a href='file:///c%3A/Users/Lee/AppData/Local/Programs/Python/Python310/lib/site-packages/tweepy/client.py?line=87'>88</a>\u001b[0m         \u001b[39m\"\u001b[39m\u001b[39mReceived API response: \u001b[39m\u001b[39m\"\u001b[39m\n\u001b[0;32m     <a href='file:///c%3A/Users/Lee/AppData/Local/Programs/Python/Python310/lib/site-packages/tweepy/client.py?line=88'>89</a>\u001b[0m         \u001b[39mf\u001b[39m\u001b[39m\"\u001b[39m\u001b[39m{\u001b[39;00mresponse\u001b[39m.\u001b[39mstatus_code\u001b[39m}\u001b[39;00m\u001b[39m \u001b[39m\u001b[39m{\u001b[39;00mresponse\u001b[39m.\u001b[39mreason\u001b[39m}\u001b[39;00m\u001b[39m\\n\u001b[39;00m\u001b[39m\"\u001b[39m\n\u001b[0;32m     <a href='file:///c%3A/Users/Lee/AppData/Local/Programs/Python/Python310/lib/site-packages/tweepy/client.py?line=89'>90</a>\u001b[0m         \u001b[39mf\u001b[39m\u001b[39m\"\u001b[39m\u001b[39mHeaders: \u001b[39m\u001b[39m{\u001b[39;00mresponse\u001b[39m.\u001b[39mheaders\u001b[39m}\u001b[39;00m\u001b[39m\\n\u001b[39;00m\u001b[39m\"\u001b[39m\n\u001b[0;32m     <a href='file:///c%3A/Users/Lee/AppData/Local/Programs/Python/Python310/lib/site-packages/tweepy/client.py?line=90'>91</a>\u001b[0m         \u001b[39mf\u001b[39m\u001b[39m\"\u001b[39m\u001b[39mContent: \u001b[39m\u001b[39m{\u001b[39;00mresponse\u001b[39m.\u001b[39mcontent\u001b[39m}\u001b[39;00m\u001b[39m\"\u001b[39m\n\u001b[0;32m     <a href='file:///c%3A/Users/Lee/AppData/Local/Programs/Python/Python310/lib/site-packages/tweepy/client.py?line=91'>92</a>\u001b[0m     )\n\u001b[0;32m     <a href='file:///c%3A/Users/Lee/AppData/Local/Programs/Python/Python310/lib/site-packages/tweepy/client.py?line=93'>94</a>\u001b[0m     \u001b[39mif\u001b[39;00m response\u001b[39m.\u001b[39mstatus_code \u001b[39m==\u001b[39m \u001b[39m400\u001b[39m:\n",
      "File \u001b[1;32m~\\AppData\\Local\\Programs\\Python\\Python310\\lib\\site-packages\\requests\\sessions.py:529\u001b[0m, in \u001b[0;36mSession.request\u001b[1;34m(self, method, url, params, data, headers, cookies, files, auth, timeout, allow_redirects, proxies, hooks, stream, verify, cert, json)\u001b[0m\n\u001b[0;32m    <a href='file:///c%3A/Users/Lee/AppData/Local/Programs/Python/Python310/lib/site-packages/requests/sessions.py?line=523'>524</a>\u001b[0m send_kwargs \u001b[39m=\u001b[39m {\n\u001b[0;32m    <a href='file:///c%3A/Users/Lee/AppData/Local/Programs/Python/Python310/lib/site-packages/requests/sessions.py?line=524'>525</a>\u001b[0m     \u001b[39m'\u001b[39m\u001b[39mtimeout\u001b[39m\u001b[39m'\u001b[39m: timeout,\n\u001b[0;32m    <a href='file:///c%3A/Users/Lee/AppData/Local/Programs/Python/Python310/lib/site-packages/requests/sessions.py?line=525'>526</a>\u001b[0m     \u001b[39m'\u001b[39m\u001b[39mallow_redirects\u001b[39m\u001b[39m'\u001b[39m: allow_redirects,\n\u001b[0;32m    <a href='file:///c%3A/Users/Lee/AppData/Local/Programs/Python/Python310/lib/site-packages/requests/sessions.py?line=526'>527</a>\u001b[0m }\n\u001b[0;32m    <a href='file:///c%3A/Users/Lee/AppData/Local/Programs/Python/Python310/lib/site-packages/requests/sessions.py?line=527'>528</a>\u001b[0m send_kwargs\u001b[39m.\u001b[39mupdate(settings)\n\u001b[1;32m--> <a href='file:///c%3A/Users/Lee/AppData/Local/Programs/Python/Python310/lib/site-packages/requests/sessions.py?line=528'>529</a>\u001b[0m resp \u001b[39m=\u001b[39m \u001b[39mself\u001b[39m\u001b[39m.\u001b[39msend(prep, \u001b[39m*\u001b[39m\u001b[39m*\u001b[39msend_kwargs)\n\u001b[0;32m    <a href='file:///c%3A/Users/Lee/AppData/Local/Programs/Python/Python310/lib/site-packages/requests/sessions.py?line=530'>531</a>\u001b[0m \u001b[39mreturn\u001b[39;00m resp\n",
      "File \u001b[1;32m~\\AppData\\Local\\Programs\\Python\\Python310\\lib\\site-packages\\requests\\sessions.py:645\u001b[0m, in \u001b[0;36mSession.send\u001b[1;34m(self, request, **kwargs)\u001b[0m\n\u001b[0;32m    <a href='file:///c%3A/Users/Lee/AppData/Local/Programs/Python/Python310/lib/site-packages/requests/sessions.py?line=641'>642</a>\u001b[0m start \u001b[39m=\u001b[39m preferred_clock()\n\u001b[0;32m    <a href='file:///c%3A/Users/Lee/AppData/Local/Programs/Python/Python310/lib/site-packages/requests/sessions.py?line=643'>644</a>\u001b[0m \u001b[39m# Send the request\u001b[39;00m\n\u001b[1;32m--> <a href='file:///c%3A/Users/Lee/AppData/Local/Programs/Python/Python310/lib/site-packages/requests/sessions.py?line=644'>645</a>\u001b[0m r \u001b[39m=\u001b[39m adapter\u001b[39m.\u001b[39msend(request, \u001b[39m*\u001b[39m\u001b[39m*\u001b[39mkwargs)\n\u001b[0;32m    <a href='file:///c%3A/Users/Lee/AppData/Local/Programs/Python/Python310/lib/site-packages/requests/sessions.py?line=646'>647</a>\u001b[0m \u001b[39m# Total elapsed time of the request (approximately)\u001b[39;00m\n\u001b[0;32m    <a href='file:///c%3A/Users/Lee/AppData/Local/Programs/Python/Python310/lib/site-packages/requests/sessions.py?line=647'>648</a>\u001b[0m elapsed \u001b[39m=\u001b[39m preferred_clock() \u001b[39m-\u001b[39m start\n",
      "File \u001b[1;32m~\\AppData\\Local\\Programs\\Python\\Python310\\lib\\site-packages\\requests\\adapters.py:440\u001b[0m, in \u001b[0;36mHTTPAdapter.send\u001b[1;34m(self, request, stream, timeout, verify, cert, proxies)\u001b[0m\n\u001b[0;32m    <a href='file:///c%3A/Users/Lee/AppData/Local/Programs/Python/Python310/lib/site-packages/requests/adapters.py?line=437'>438</a>\u001b[0m \u001b[39mtry\u001b[39;00m:\n\u001b[0;32m    <a href='file:///c%3A/Users/Lee/AppData/Local/Programs/Python/Python310/lib/site-packages/requests/adapters.py?line=438'>439</a>\u001b[0m     \u001b[39mif\u001b[39;00m \u001b[39mnot\u001b[39;00m chunked:\n\u001b[1;32m--> <a href='file:///c%3A/Users/Lee/AppData/Local/Programs/Python/Python310/lib/site-packages/requests/adapters.py?line=439'>440</a>\u001b[0m         resp \u001b[39m=\u001b[39m conn\u001b[39m.\u001b[39;49murlopen(\n\u001b[0;32m    <a href='file:///c%3A/Users/Lee/AppData/Local/Programs/Python/Python310/lib/site-packages/requests/adapters.py?line=440'>441</a>\u001b[0m             method\u001b[39m=\u001b[39;49mrequest\u001b[39m.\u001b[39;49mmethod,\n\u001b[0;32m    <a href='file:///c%3A/Users/Lee/AppData/Local/Programs/Python/Python310/lib/site-packages/requests/adapters.py?line=441'>442</a>\u001b[0m             url\u001b[39m=\u001b[39;49murl,\n\u001b[0;32m    <a href='file:///c%3A/Users/Lee/AppData/Local/Programs/Python/Python310/lib/site-packages/requests/adapters.py?line=442'>443</a>\u001b[0m             body\u001b[39m=\u001b[39;49mrequest\u001b[39m.\u001b[39;49mbody,\n\u001b[0;32m    <a href='file:///c%3A/Users/Lee/AppData/Local/Programs/Python/Python310/lib/site-packages/requests/adapters.py?line=443'>444</a>\u001b[0m             headers\u001b[39m=\u001b[39;49mrequest\u001b[39m.\u001b[39;49mheaders,\n\u001b[0;32m    <a href='file:///c%3A/Users/Lee/AppData/Local/Programs/Python/Python310/lib/site-packages/requests/adapters.py?line=444'>445</a>\u001b[0m             redirect\u001b[39m=\u001b[39;49m\u001b[39mFalse\u001b[39;49;00m,\n\u001b[0;32m    <a href='file:///c%3A/Users/Lee/AppData/Local/Programs/Python/Python310/lib/site-packages/requests/adapters.py?line=445'>446</a>\u001b[0m             assert_same_host\u001b[39m=\u001b[39;49m\u001b[39mFalse\u001b[39;49;00m,\n\u001b[0;32m    <a href='file:///c%3A/Users/Lee/AppData/Local/Programs/Python/Python310/lib/site-packages/requests/adapters.py?line=446'>447</a>\u001b[0m             preload_content\u001b[39m=\u001b[39;49m\u001b[39mFalse\u001b[39;49;00m,\n\u001b[0;32m    <a href='file:///c%3A/Users/Lee/AppData/Local/Programs/Python/Python310/lib/site-packages/requests/adapters.py?line=447'>448</a>\u001b[0m             decode_content\u001b[39m=\u001b[39;49m\u001b[39mFalse\u001b[39;49;00m,\n\u001b[0;32m    <a href='file:///c%3A/Users/Lee/AppData/Local/Programs/Python/Python310/lib/site-packages/requests/adapters.py?line=448'>449</a>\u001b[0m             retries\u001b[39m=\u001b[39;49m\u001b[39mself\u001b[39;49m\u001b[39m.\u001b[39;49mmax_retries,\n\u001b[0;32m    <a href='file:///c%3A/Users/Lee/AppData/Local/Programs/Python/Python310/lib/site-packages/requests/adapters.py?line=449'>450</a>\u001b[0m             timeout\u001b[39m=\u001b[39;49mtimeout\n\u001b[0;32m    <a href='file:///c%3A/Users/Lee/AppData/Local/Programs/Python/Python310/lib/site-packages/requests/adapters.py?line=450'>451</a>\u001b[0m         )\n\u001b[0;32m    <a href='file:///c%3A/Users/Lee/AppData/Local/Programs/Python/Python310/lib/site-packages/requests/adapters.py?line=452'>453</a>\u001b[0m     \u001b[39m# Send the request.\u001b[39;00m\n\u001b[0;32m    <a href='file:///c%3A/Users/Lee/AppData/Local/Programs/Python/Python310/lib/site-packages/requests/adapters.py?line=453'>454</a>\u001b[0m     \u001b[39melse\u001b[39;00m:\n\u001b[0;32m    <a href='file:///c%3A/Users/Lee/AppData/Local/Programs/Python/Python310/lib/site-packages/requests/adapters.py?line=454'>455</a>\u001b[0m         \u001b[39mif\u001b[39;00m \u001b[39mhasattr\u001b[39m(conn, \u001b[39m'\u001b[39m\u001b[39mproxy_pool\u001b[39m\u001b[39m'\u001b[39m):\n",
      "File \u001b[1;32m~\\AppData\\Local\\Programs\\Python\\Python310\\lib\\site-packages\\urllib3\\connectionpool.py:703\u001b[0m, in \u001b[0;36mHTTPConnectionPool.urlopen\u001b[1;34m(self, method, url, body, headers, retries, redirect, assert_same_host, timeout, pool_timeout, release_conn, chunked, body_pos, **response_kw)\u001b[0m\n\u001b[0;32m    <a href='file:///c%3A/Users/Lee/AppData/Local/Programs/Python/Python310/lib/site-packages/urllib3/connectionpool.py?line=699'>700</a>\u001b[0m     \u001b[39mself\u001b[39m\u001b[39m.\u001b[39m_prepare_proxy(conn)\n\u001b[0;32m    <a href='file:///c%3A/Users/Lee/AppData/Local/Programs/Python/Python310/lib/site-packages/urllib3/connectionpool.py?line=701'>702</a>\u001b[0m \u001b[39m# Make the request on the httplib connection object.\u001b[39;00m\n\u001b[1;32m--> <a href='file:///c%3A/Users/Lee/AppData/Local/Programs/Python/Python310/lib/site-packages/urllib3/connectionpool.py?line=702'>703</a>\u001b[0m httplib_response \u001b[39m=\u001b[39m \u001b[39mself\u001b[39;49m\u001b[39m.\u001b[39;49m_make_request(\n\u001b[0;32m    <a href='file:///c%3A/Users/Lee/AppData/Local/Programs/Python/Python310/lib/site-packages/urllib3/connectionpool.py?line=703'>704</a>\u001b[0m     conn,\n\u001b[0;32m    <a href='file:///c%3A/Users/Lee/AppData/Local/Programs/Python/Python310/lib/site-packages/urllib3/connectionpool.py?line=704'>705</a>\u001b[0m     method,\n\u001b[0;32m    <a href='file:///c%3A/Users/Lee/AppData/Local/Programs/Python/Python310/lib/site-packages/urllib3/connectionpool.py?line=705'>706</a>\u001b[0m     url,\n\u001b[0;32m    <a href='file:///c%3A/Users/Lee/AppData/Local/Programs/Python/Python310/lib/site-packages/urllib3/connectionpool.py?line=706'>707</a>\u001b[0m     timeout\u001b[39m=\u001b[39;49mtimeout_obj,\n\u001b[0;32m    <a href='file:///c%3A/Users/Lee/AppData/Local/Programs/Python/Python310/lib/site-packages/urllib3/connectionpool.py?line=707'>708</a>\u001b[0m     body\u001b[39m=\u001b[39;49mbody,\n\u001b[0;32m    <a href='file:///c%3A/Users/Lee/AppData/Local/Programs/Python/Python310/lib/site-packages/urllib3/connectionpool.py?line=708'>709</a>\u001b[0m     headers\u001b[39m=\u001b[39;49mheaders,\n\u001b[0;32m    <a href='file:///c%3A/Users/Lee/AppData/Local/Programs/Python/Python310/lib/site-packages/urllib3/connectionpool.py?line=709'>710</a>\u001b[0m     chunked\u001b[39m=\u001b[39;49mchunked,\n\u001b[0;32m    <a href='file:///c%3A/Users/Lee/AppData/Local/Programs/Python/Python310/lib/site-packages/urllib3/connectionpool.py?line=710'>711</a>\u001b[0m )\n\u001b[0;32m    <a href='file:///c%3A/Users/Lee/AppData/Local/Programs/Python/Python310/lib/site-packages/urllib3/connectionpool.py?line=712'>713</a>\u001b[0m \u001b[39m# If we're going to release the connection in ``finally:``, then\u001b[39;00m\n\u001b[0;32m    <a href='file:///c%3A/Users/Lee/AppData/Local/Programs/Python/Python310/lib/site-packages/urllib3/connectionpool.py?line=713'>714</a>\u001b[0m \u001b[39m# the response doesn't need to know about the connection. Otherwise\u001b[39;00m\n\u001b[0;32m    <a href='file:///c%3A/Users/Lee/AppData/Local/Programs/Python/Python310/lib/site-packages/urllib3/connectionpool.py?line=714'>715</a>\u001b[0m \u001b[39m# it will also try to release it and we'll have a double-release\u001b[39;00m\n\u001b[0;32m    <a href='file:///c%3A/Users/Lee/AppData/Local/Programs/Python/Python310/lib/site-packages/urllib3/connectionpool.py?line=715'>716</a>\u001b[0m \u001b[39m# mess.\u001b[39;00m\n\u001b[0;32m    <a href='file:///c%3A/Users/Lee/AppData/Local/Programs/Python/Python310/lib/site-packages/urllib3/connectionpool.py?line=716'>717</a>\u001b[0m response_conn \u001b[39m=\u001b[39m conn \u001b[39mif\u001b[39;00m \u001b[39mnot\u001b[39;00m release_conn \u001b[39melse\u001b[39;00m \u001b[39mNone\u001b[39;00m\n",
      "File \u001b[1;32m~\\AppData\\Local\\Programs\\Python\\Python310\\lib\\site-packages\\urllib3\\connectionpool.py:449\u001b[0m, in \u001b[0;36mHTTPConnectionPool._make_request\u001b[1;34m(self, conn, method, url, timeout, chunked, **httplib_request_kw)\u001b[0m\n\u001b[0;32m    <a href='file:///c%3A/Users/Lee/AppData/Local/Programs/Python/Python310/lib/site-packages/urllib3/connectionpool.py?line=443'>444</a>\u001b[0m             httplib_response \u001b[39m=\u001b[39m conn\u001b[39m.\u001b[39mgetresponse()\n\u001b[0;32m    <a href='file:///c%3A/Users/Lee/AppData/Local/Programs/Python/Python310/lib/site-packages/urllib3/connectionpool.py?line=444'>445</a>\u001b[0m         \u001b[39mexcept\u001b[39;00m \u001b[39mBaseException\u001b[39;00m \u001b[39mas\u001b[39;00m e:\n\u001b[0;32m    <a href='file:///c%3A/Users/Lee/AppData/Local/Programs/Python/Python310/lib/site-packages/urllib3/connectionpool.py?line=445'>446</a>\u001b[0m             \u001b[39m# Remove the TypeError from the exception chain in\u001b[39;00m\n\u001b[0;32m    <a href='file:///c%3A/Users/Lee/AppData/Local/Programs/Python/Python310/lib/site-packages/urllib3/connectionpool.py?line=446'>447</a>\u001b[0m             \u001b[39m# Python 3 (including for exceptions like SystemExit).\u001b[39;00m\n\u001b[0;32m    <a href='file:///c%3A/Users/Lee/AppData/Local/Programs/Python/Python310/lib/site-packages/urllib3/connectionpool.py?line=447'>448</a>\u001b[0m             \u001b[39m# Otherwise it looks like a bug in the code.\u001b[39;00m\n\u001b[1;32m--> <a href='file:///c%3A/Users/Lee/AppData/Local/Programs/Python/Python310/lib/site-packages/urllib3/connectionpool.py?line=448'>449</a>\u001b[0m             six\u001b[39m.\u001b[39;49mraise_from(e, \u001b[39mNone\u001b[39;49;00m)\n\u001b[0;32m    <a href='file:///c%3A/Users/Lee/AppData/Local/Programs/Python/Python310/lib/site-packages/urllib3/connectionpool.py?line=449'>450</a>\u001b[0m \u001b[39mexcept\u001b[39;00m (SocketTimeout, BaseSSLError, SocketError) \u001b[39mas\u001b[39;00m e:\n\u001b[0;32m    <a href='file:///c%3A/Users/Lee/AppData/Local/Programs/Python/Python310/lib/site-packages/urllib3/connectionpool.py?line=450'>451</a>\u001b[0m     \u001b[39mself\u001b[39m\u001b[39m.\u001b[39m_raise_timeout(err\u001b[39m=\u001b[39me, url\u001b[39m=\u001b[39murl, timeout_value\u001b[39m=\u001b[39mread_timeout)\n",
      "File \u001b[1;32m<string>:3\u001b[0m, in \u001b[0;36mraise_from\u001b[1;34m(value, from_value)\u001b[0m\n",
      "File \u001b[1;32m~\\AppData\\Local\\Programs\\Python\\Python310\\lib\\site-packages\\urllib3\\connectionpool.py:444\u001b[0m, in \u001b[0;36mHTTPConnectionPool._make_request\u001b[1;34m(self, conn, method, url, timeout, chunked, **httplib_request_kw)\u001b[0m\n\u001b[0;32m    <a href='file:///c%3A/Users/Lee/AppData/Local/Programs/Python/Python310/lib/site-packages/urllib3/connectionpool.py?line=440'>441</a>\u001b[0m \u001b[39mexcept\u001b[39;00m \u001b[39mTypeError\u001b[39;00m:\n\u001b[0;32m    <a href='file:///c%3A/Users/Lee/AppData/Local/Programs/Python/Python310/lib/site-packages/urllib3/connectionpool.py?line=441'>442</a>\u001b[0m     \u001b[39m# Python 3\u001b[39;00m\n\u001b[0;32m    <a href='file:///c%3A/Users/Lee/AppData/Local/Programs/Python/Python310/lib/site-packages/urllib3/connectionpool.py?line=442'>443</a>\u001b[0m     \u001b[39mtry\u001b[39;00m:\n\u001b[1;32m--> <a href='file:///c%3A/Users/Lee/AppData/Local/Programs/Python/Python310/lib/site-packages/urllib3/connectionpool.py?line=443'>444</a>\u001b[0m         httplib_response \u001b[39m=\u001b[39m conn\u001b[39m.\u001b[39;49mgetresponse()\n\u001b[0;32m    <a href='file:///c%3A/Users/Lee/AppData/Local/Programs/Python/Python310/lib/site-packages/urllib3/connectionpool.py?line=444'>445</a>\u001b[0m     \u001b[39mexcept\u001b[39;00m \u001b[39mBaseException\u001b[39;00m \u001b[39mas\u001b[39;00m e:\n\u001b[0;32m    <a href='file:///c%3A/Users/Lee/AppData/Local/Programs/Python/Python310/lib/site-packages/urllib3/connectionpool.py?line=445'>446</a>\u001b[0m         \u001b[39m# Remove the TypeError from the exception chain in\u001b[39;00m\n\u001b[0;32m    <a href='file:///c%3A/Users/Lee/AppData/Local/Programs/Python/Python310/lib/site-packages/urllib3/connectionpool.py?line=446'>447</a>\u001b[0m         \u001b[39m# Python 3 (including for exceptions like SystemExit).\u001b[39;00m\n\u001b[0;32m    <a href='file:///c%3A/Users/Lee/AppData/Local/Programs/Python/Python310/lib/site-packages/urllib3/connectionpool.py?line=447'>448</a>\u001b[0m         \u001b[39m# Otherwise it looks like a bug in the code.\u001b[39;00m\n\u001b[0;32m    <a href='file:///c%3A/Users/Lee/AppData/Local/Programs/Python/Python310/lib/site-packages/urllib3/connectionpool.py?line=448'>449</a>\u001b[0m         six\u001b[39m.\u001b[39mraise_from(e, \u001b[39mNone\u001b[39;00m)\n",
      "File \u001b[1;32m~\\AppData\\Local\\Programs\\Python\\Python310\\lib\\http\\client.py:1374\u001b[0m, in \u001b[0;36mHTTPConnection.getresponse\u001b[1;34m(self)\u001b[0m\n\u001b[0;32m   <a href='file:///c%3A/Users/Lee/AppData/Local/Programs/Python/Python310/lib/http/client.py?line=1371'>1372</a>\u001b[0m \u001b[39mtry\u001b[39;00m:\n\u001b[0;32m   <a href='file:///c%3A/Users/Lee/AppData/Local/Programs/Python/Python310/lib/http/client.py?line=1372'>1373</a>\u001b[0m     \u001b[39mtry\u001b[39;00m:\n\u001b[1;32m-> <a href='file:///c%3A/Users/Lee/AppData/Local/Programs/Python/Python310/lib/http/client.py?line=1373'>1374</a>\u001b[0m         response\u001b[39m.\u001b[39;49mbegin()\n\u001b[0;32m   <a href='file:///c%3A/Users/Lee/AppData/Local/Programs/Python/Python310/lib/http/client.py?line=1374'>1375</a>\u001b[0m     \u001b[39mexcept\u001b[39;00m \u001b[39mConnectionError\u001b[39;00m:\n\u001b[0;32m   <a href='file:///c%3A/Users/Lee/AppData/Local/Programs/Python/Python310/lib/http/client.py?line=1375'>1376</a>\u001b[0m         \u001b[39mself\u001b[39m\u001b[39m.\u001b[39mclose()\n",
      "File \u001b[1;32m~\\AppData\\Local\\Programs\\Python\\Python310\\lib\\http\\client.py:318\u001b[0m, in \u001b[0;36mHTTPResponse.begin\u001b[1;34m(self)\u001b[0m\n\u001b[0;32m    <a href='file:///c%3A/Users/Lee/AppData/Local/Programs/Python/Python310/lib/http/client.py?line=315'>316</a>\u001b[0m \u001b[39m# read until we get a non-100 response\u001b[39;00m\n\u001b[0;32m    <a href='file:///c%3A/Users/Lee/AppData/Local/Programs/Python/Python310/lib/http/client.py?line=316'>317</a>\u001b[0m \u001b[39mwhile\u001b[39;00m \u001b[39mTrue\u001b[39;00m:\n\u001b[1;32m--> <a href='file:///c%3A/Users/Lee/AppData/Local/Programs/Python/Python310/lib/http/client.py?line=317'>318</a>\u001b[0m     version, status, reason \u001b[39m=\u001b[39m \u001b[39mself\u001b[39;49m\u001b[39m.\u001b[39;49m_read_status()\n\u001b[0;32m    <a href='file:///c%3A/Users/Lee/AppData/Local/Programs/Python/Python310/lib/http/client.py?line=318'>319</a>\u001b[0m     \u001b[39mif\u001b[39;00m status \u001b[39m!=\u001b[39m CONTINUE:\n\u001b[0;32m    <a href='file:///c%3A/Users/Lee/AppData/Local/Programs/Python/Python310/lib/http/client.py?line=319'>320</a>\u001b[0m         \u001b[39mbreak\u001b[39;00m\n",
      "File \u001b[1;32m~\\AppData\\Local\\Programs\\Python\\Python310\\lib\\http\\client.py:279\u001b[0m, in \u001b[0;36mHTTPResponse._read_status\u001b[1;34m(self)\u001b[0m\n\u001b[0;32m    <a href='file:///c%3A/Users/Lee/AppData/Local/Programs/Python/Python310/lib/http/client.py?line=277'>278</a>\u001b[0m \u001b[39mdef\u001b[39;00m \u001b[39m_read_status\u001b[39m(\u001b[39mself\u001b[39m):\n\u001b[1;32m--> <a href='file:///c%3A/Users/Lee/AppData/Local/Programs/Python/Python310/lib/http/client.py?line=278'>279</a>\u001b[0m     line \u001b[39m=\u001b[39m \u001b[39mstr\u001b[39m(\u001b[39mself\u001b[39;49m\u001b[39m.\u001b[39;49mfp\u001b[39m.\u001b[39;49mreadline(_MAXLINE \u001b[39m+\u001b[39;49m \u001b[39m1\u001b[39;49m), \u001b[39m\"\u001b[39m\u001b[39miso-8859-1\u001b[39m\u001b[39m\"\u001b[39m)\n\u001b[0;32m    <a href='file:///c%3A/Users/Lee/AppData/Local/Programs/Python/Python310/lib/http/client.py?line=279'>280</a>\u001b[0m     \u001b[39mif\u001b[39;00m \u001b[39mlen\u001b[39m(line) \u001b[39m>\u001b[39m _MAXLINE:\n\u001b[0;32m    <a href='file:///c%3A/Users/Lee/AppData/Local/Programs/Python/Python310/lib/http/client.py?line=280'>281</a>\u001b[0m         \u001b[39mraise\u001b[39;00m LineTooLong(\u001b[39m\"\u001b[39m\u001b[39mstatus line\u001b[39m\u001b[39m\"\u001b[39m)\n",
      "File \u001b[1;32m~\\AppData\\Local\\Programs\\Python\\Python310\\lib\\socket.py:705\u001b[0m, in \u001b[0;36mSocketIO.readinto\u001b[1;34m(self, b)\u001b[0m\n\u001b[0;32m    <a href='file:///c%3A/Users/Lee/AppData/Local/Programs/Python/Python310/lib/socket.py?line=702'>703</a>\u001b[0m \u001b[39mwhile\u001b[39;00m \u001b[39mTrue\u001b[39;00m:\n\u001b[0;32m    <a href='file:///c%3A/Users/Lee/AppData/Local/Programs/Python/Python310/lib/socket.py?line=703'>704</a>\u001b[0m     \u001b[39mtry\u001b[39;00m:\n\u001b[1;32m--> <a href='file:///c%3A/Users/Lee/AppData/Local/Programs/Python/Python310/lib/socket.py?line=704'>705</a>\u001b[0m         \u001b[39mreturn\u001b[39;00m \u001b[39mself\u001b[39;49m\u001b[39m.\u001b[39;49m_sock\u001b[39m.\u001b[39;49mrecv_into(b)\n\u001b[0;32m    <a href='file:///c%3A/Users/Lee/AppData/Local/Programs/Python/Python310/lib/socket.py?line=705'>706</a>\u001b[0m     \u001b[39mexcept\u001b[39;00m timeout:\n\u001b[0;32m    <a href='file:///c%3A/Users/Lee/AppData/Local/Programs/Python/Python310/lib/socket.py?line=706'>707</a>\u001b[0m         \u001b[39mself\u001b[39m\u001b[39m.\u001b[39m_timeout_occurred \u001b[39m=\u001b[39m \u001b[39mTrue\u001b[39;00m\n",
      "File \u001b[1;32m~\\AppData\\Local\\Programs\\Python\\Python310\\lib\\ssl.py:1273\u001b[0m, in \u001b[0;36mSSLSocket.recv_into\u001b[1;34m(self, buffer, nbytes, flags)\u001b[0m\n\u001b[0;32m   <a href='file:///c%3A/Users/Lee/AppData/Local/Programs/Python/Python310/lib/ssl.py?line=1268'>1269</a>\u001b[0m     \u001b[39mif\u001b[39;00m flags \u001b[39m!=\u001b[39m \u001b[39m0\u001b[39m:\n\u001b[0;32m   <a href='file:///c%3A/Users/Lee/AppData/Local/Programs/Python/Python310/lib/ssl.py?line=1269'>1270</a>\u001b[0m         \u001b[39mraise\u001b[39;00m \u001b[39mValueError\u001b[39;00m(\n\u001b[0;32m   <a href='file:///c%3A/Users/Lee/AppData/Local/Programs/Python/Python310/lib/ssl.py?line=1270'>1271</a>\u001b[0m           \u001b[39m\"\u001b[39m\u001b[39mnon-zero flags not allowed in calls to recv_into() on \u001b[39m\u001b[39m%s\u001b[39;00m\u001b[39m\"\u001b[39m \u001b[39m%\u001b[39m\n\u001b[0;32m   <a href='file:///c%3A/Users/Lee/AppData/Local/Programs/Python/Python310/lib/ssl.py?line=1271'>1272</a>\u001b[0m           \u001b[39mself\u001b[39m\u001b[39m.\u001b[39m\u001b[39m__class__\u001b[39m)\n\u001b[1;32m-> <a href='file:///c%3A/Users/Lee/AppData/Local/Programs/Python/Python310/lib/ssl.py?line=1272'>1273</a>\u001b[0m     \u001b[39mreturn\u001b[39;00m \u001b[39mself\u001b[39;49m\u001b[39m.\u001b[39;49mread(nbytes, buffer)\n\u001b[0;32m   <a href='file:///c%3A/Users/Lee/AppData/Local/Programs/Python/Python310/lib/ssl.py?line=1273'>1274</a>\u001b[0m \u001b[39melse\u001b[39;00m:\n\u001b[0;32m   <a href='file:///c%3A/Users/Lee/AppData/Local/Programs/Python/Python310/lib/ssl.py?line=1274'>1275</a>\u001b[0m     \u001b[39mreturn\u001b[39;00m \u001b[39msuper\u001b[39m()\u001b[39m.\u001b[39mrecv_into(buffer, nbytes, flags)\n",
      "File \u001b[1;32m~\\AppData\\Local\\Programs\\Python\\Python310\\lib\\ssl.py:1129\u001b[0m, in \u001b[0;36mSSLSocket.read\u001b[1;34m(self, len, buffer)\u001b[0m\n\u001b[0;32m   <a href='file:///c%3A/Users/Lee/AppData/Local/Programs/Python/Python310/lib/ssl.py?line=1126'>1127</a>\u001b[0m \u001b[39mtry\u001b[39;00m:\n\u001b[0;32m   <a href='file:///c%3A/Users/Lee/AppData/Local/Programs/Python/Python310/lib/ssl.py?line=1127'>1128</a>\u001b[0m     \u001b[39mif\u001b[39;00m buffer \u001b[39mis\u001b[39;00m \u001b[39mnot\u001b[39;00m \u001b[39mNone\u001b[39;00m:\n\u001b[1;32m-> <a href='file:///c%3A/Users/Lee/AppData/Local/Programs/Python/Python310/lib/ssl.py?line=1128'>1129</a>\u001b[0m         \u001b[39mreturn\u001b[39;00m \u001b[39mself\u001b[39;49m\u001b[39m.\u001b[39;49m_sslobj\u001b[39m.\u001b[39;49mread(\u001b[39mlen\u001b[39;49m, buffer)\n\u001b[0;32m   <a href='file:///c%3A/Users/Lee/AppData/Local/Programs/Python/Python310/lib/ssl.py?line=1129'>1130</a>\u001b[0m     \u001b[39melse\u001b[39;00m:\n\u001b[0;32m   <a href='file:///c%3A/Users/Lee/AppData/Local/Programs/Python/Python310/lib/ssl.py?line=1130'>1131</a>\u001b[0m         \u001b[39mreturn\u001b[39;00m \u001b[39mself\u001b[39m\u001b[39m.\u001b[39m_sslobj\u001b[39m.\u001b[39mread(\u001b[39mlen\u001b[39m)\n",
      "\u001b[1;31mKeyboardInterrupt\u001b[0m: "
     ]
    }
   ],
   "source": [
    "# Run getter.\n",
    "get_twitter(client, total_id_list, JSON_PATH)"
   ]
  },
  {
   "cell_type": "code",
   "execution_count": null,
   "id": "18a505fb",
   "metadata": {},
   "outputs": [
    {
     "name": "stdout",
     "output_type": "stream",
     "text": [
      "Number of twitter stored:  1554\n"
     ]
    }
   ],
   "source": [
    "with open(JSON_PATH, \"r\") as f:\n",
    "    data = json.load(f)\n",
    "    print(\"Number of twitter stored: \", len(data))"
   ]
  },
  {
   "cell_type": "code",
   "execution_count": 53,
   "id": "b15c3909",
   "metadata": {},
   "outputs": [
    {
     "name": "stdout",
     "output_type": "stream",
     "text": [
      "Number of Source Story crawled:  0.054273041595362\n"
     ]
    }
   ],
   "source": [
    "#print(\"Number of Source Story crawled: \",len(data)/28633)\n",
    "#print(\"Number of Total Training Twitter crawled: \", 366/28633)"
   ]
  },
  {
   "cell_type": "markdown",
   "id": "a8acb3ab",
   "metadata": {},
   "source": [
    "## Author Data Part\n",
    "\n",
    "Extract Author data for the source twitter and output into AUTHOR_DATA_PATH"
   ]
  },
  {
   "cell_type": "code",
   "execution_count": 58,
   "id": "691e1cfd",
   "metadata": {},
   "outputs": [],
   "source": [
    "## Only get source author's data for now\n",
    "AUTHOR_DATA_PATH = \"./full_data/author_ids.json\""
   ]
  },
  {
   "cell_type": "code",
   "execution_count": 59,
   "id": "3e0143fd",
   "metadata": {},
   "outputs": [
    {
     "data": {
      "text/plain": [
       "1388"
      ]
     },
     "execution_count": 59,
     "metadata": {},
     "output_type": "execute_result"
    }
   ],
   "source": [
    "with open(AUTHOR_DATA_PATH) as f:\n",
    "    author_id_data = json.load(f)\n",
    "    author_id_list = list(set(author_id_data))\n",
    "len(author_id_list)"
   ]
  },
  {
   "cell_type": "code",
   "execution_count": 60,
   "id": "3f78c6ed",
   "metadata": {},
   "outputs": [],
   "source": [
    "def get_author_data(api, id_list, OUTPUT_PATH):\n",
    "    \"\"\"Extract Author data for a list of authors and output them into AUTHOR_DATA_PATH as a json\"\"\"\n",
    "    list_of_authors = []\n",
    "    count = 0\n",
    "    for author_id in id_list:\n",
    "        response = api.get_user(user_id=author_id)\n",
    "        list_of_authors.append(response._json)\n",
    "        count += 1\n",
    "        if (count>=800) and (count % 800 == 0):\n",
    "            # Sleep 15 minutes to avoid limits\n",
    "            time.sleep(1000)\n",
    "    ## Convert to json        \n",
    "    Extend_Json(list_of_authors, AUTHOR_DATA_PATH)\n",
    "    print(\"Total Author Got: \", count)"
   ]
  },
  {
   "cell_type": "code",
   "execution_count": 62,
   "id": "6a8d9223",
   "metadata": {},
   "outputs": [
    {
     "ename": "TooManyRequests",
     "evalue": "429 Too Many Requests\n88 - Rate limit exceeded",
     "output_type": "error",
     "traceback": [
      "\u001b[1;31m---------------------------------------------------------------------------\u001b[0m",
      "\u001b[1;31mTooManyRequests\u001b[0m                           Traceback (most recent call last)",
      "Input \u001b[1;32mIn [62]\u001b[0m, in \u001b[0;36m<cell line: 1>\u001b[1;34m()\u001b[0m\n\u001b[1;32m----> 1\u001b[0m \u001b[43mget_author_data\u001b[49m\u001b[43m(\u001b[49m\u001b[43mapi\u001b[49m\u001b[43m,\u001b[49m\u001b[43m \u001b[49m\u001b[43mauthor_list\u001b[49m\u001b[43m,\u001b[49m\u001b[43m \u001b[49m\u001b[43mAUTHOR_DATA_PATH\u001b[49m\u001b[43m)\u001b[49m\n",
      "Input \u001b[1;32mIn [60]\u001b[0m, in \u001b[0;36mget_author_data\u001b[1;34m(api, id_list, OUTPUT_PATH)\u001b[0m\n\u001b[0;32m      4\u001b[0m count \u001b[38;5;241m=\u001b[39m \u001b[38;5;241m0\u001b[39m\n\u001b[0;32m      5\u001b[0m \u001b[38;5;28;01mfor\u001b[39;00m author_id \u001b[38;5;129;01min\u001b[39;00m author_data:\n\u001b[1;32m----> 6\u001b[0m     response \u001b[38;5;241m=\u001b[39m \u001b[43mapi\u001b[49m\u001b[38;5;241;43m.\u001b[39;49m\u001b[43mget_user\u001b[49m\u001b[43m(\u001b[49m\u001b[43muser_id\u001b[49m\u001b[38;5;241;43m=\u001b[39;49m\u001b[43mauthor_id\u001b[49m\u001b[43m)\u001b[49m\n\u001b[0;32m      7\u001b[0m     list_of_authors\u001b[38;5;241m.\u001b[39mappend(response\u001b[38;5;241m.\u001b[39m_json)\n\u001b[0;32m      8\u001b[0m     count \u001b[38;5;241m+\u001b[39m\u001b[38;5;241m=\u001b[39m \u001b[38;5;241m0\u001b[39m\n",
      "File \u001b[1;32m~\\AppData\\Local\\Programs\\Python\\Python310\\lib\\site-packages\\tweepy\\api.py:46\u001b[0m, in \u001b[0;36mpayload.<locals>.decorator.<locals>.wrapper\u001b[1;34m(*args, **kwargs)\u001b[0m\n\u001b[0;32m     44\u001b[0m kwargs[\u001b[38;5;124m'\u001b[39m\u001b[38;5;124mpayload_list\u001b[39m\u001b[38;5;124m'\u001b[39m] \u001b[38;5;241m=\u001b[39m payload_list\n\u001b[0;32m     45\u001b[0m kwargs[\u001b[38;5;124m'\u001b[39m\u001b[38;5;124mpayload_type\u001b[39m\u001b[38;5;124m'\u001b[39m] \u001b[38;5;241m=\u001b[39m payload_type\n\u001b[1;32m---> 46\u001b[0m \u001b[38;5;28;01mreturn\u001b[39;00m method(\u001b[38;5;241m*\u001b[39margs, \u001b[38;5;241m*\u001b[39m\u001b[38;5;241m*\u001b[39mkwargs)\n",
      "File \u001b[1;32m~\\AppData\\Local\\Programs\\Python\\Python310\\lib\\site-packages\\tweepy\\api.py:2502\u001b[0m, in \u001b[0;36mAPI.get_user\u001b[1;34m(self, **kwargs)\u001b[0m\n\u001b[0;32m   2479\u001b[0m \u001b[38;5;129m@payload\u001b[39m(\u001b[38;5;124m'\u001b[39m\u001b[38;5;124muser\u001b[39m\u001b[38;5;124m'\u001b[39m)\n\u001b[0;32m   2480\u001b[0m \u001b[38;5;28;01mdef\u001b[39;00m \u001b[38;5;21mget_user\u001b[39m(\u001b[38;5;28mself\u001b[39m, \u001b[38;5;241m*\u001b[39m\u001b[38;5;241m*\u001b[39mkwargs):\n\u001b[0;32m   2481\u001b[0m     \u001b[38;5;124;03m\"\"\"get_user(*, user_id, screen_name, include_entities)\u001b[39;00m\n\u001b[0;32m   2482\u001b[0m \n\u001b[0;32m   2483\u001b[0m \u001b[38;5;124;03m    Returns information about the specified user.\u001b[39;00m\n\u001b[1;32m   (...)\u001b[0m\n\u001b[0;32m   2500\u001b[0m \u001b[38;5;124;03m    https://developer.twitter.com/en/docs/twitter-api/v1/accounts-and-users/follow-search-get-users/api-reference/get-users-show\u001b[39;00m\n\u001b[0;32m   2501\u001b[0m \u001b[38;5;124;03m    \"\"\"\u001b[39;00m\n\u001b[1;32m-> 2502\u001b[0m     \u001b[38;5;28;01mreturn\u001b[39;00m \u001b[38;5;28mself\u001b[39m\u001b[38;5;241m.\u001b[39mrequest(\n\u001b[0;32m   2503\u001b[0m         \u001b[38;5;124m'\u001b[39m\u001b[38;5;124mGET\u001b[39m\u001b[38;5;124m'\u001b[39m, \u001b[38;5;124m'\u001b[39m\u001b[38;5;124musers/show\u001b[39m\u001b[38;5;124m'\u001b[39m, endpoint_parameters\u001b[38;5;241m=\u001b[39m(\n\u001b[0;32m   2504\u001b[0m             \u001b[38;5;124m'\u001b[39m\u001b[38;5;124muser_id\u001b[39m\u001b[38;5;124m'\u001b[39m, \u001b[38;5;124m'\u001b[39m\u001b[38;5;124mscreen_name\u001b[39m\u001b[38;5;124m'\u001b[39m, \u001b[38;5;124m'\u001b[39m\u001b[38;5;124minclude_entities\u001b[39m\u001b[38;5;124m'\u001b[39m\n\u001b[0;32m   2505\u001b[0m         ), \u001b[38;5;241m*\u001b[39m\u001b[38;5;241m*\u001b[39mkwargs\n\u001b[0;32m   2506\u001b[0m     )\n",
      "File \u001b[1;32m~\\AppData\\Local\\Programs\\Python\\Python310\\lib\\site-packages\\tweepy\\api.py:263\u001b[0m, in \u001b[0;36mAPI.request\u001b[1;34m(self, method, endpoint, endpoint_parameters, params, headers, json_payload, parser, payload_list, payload_type, post_data, files, require_auth, return_cursors, upload_api, use_cache, **kwargs)\u001b[0m\n\u001b[0;32m    261\u001b[0m     \u001b[38;5;28;01mraise\u001b[39;00m NotFound(resp)\n\u001b[0;32m    262\u001b[0m \u001b[38;5;28;01mif\u001b[39;00m resp\u001b[38;5;241m.\u001b[39mstatus_code \u001b[38;5;241m==\u001b[39m \u001b[38;5;241m429\u001b[39m:\n\u001b[1;32m--> 263\u001b[0m     \u001b[38;5;28;01mraise\u001b[39;00m TooManyRequests(resp)\n\u001b[0;32m    264\u001b[0m \u001b[38;5;28;01mif\u001b[39;00m resp\u001b[38;5;241m.\u001b[39mstatus_code \u001b[38;5;241m>\u001b[39m\u001b[38;5;241m=\u001b[39m \u001b[38;5;241m500\u001b[39m:\n\u001b[0;32m    265\u001b[0m     \u001b[38;5;28;01mraise\u001b[39;00m TwitterServerError(resp)\n",
      "\u001b[1;31mTooManyRequests\u001b[0m: 429 Too Many Requests\n88 - Rate limit exceeded"
     ]
    }
   ],
   "source": [
    "get_author_data(api, author_list, AUTHOR_DATA_PATH)"
   ]
  },
  {
   "cell_type": "code",
   "execution_count": null,
   "id": "4923a86a",
   "metadata": {},
   "outputs": [],
   "source": []
  }
 ],
 "metadata": {
  "kernelspec": {
   "display_name": "Python 3 (ipykernel)",
   "language": "python",
   "name": "python3"
  },
  "language_info": {
   "codemirror_mode": {
    "name": "ipython",
    "version": 3
   },
   "file_extension": ".py",
   "mimetype": "text/x-python",
   "name": "python",
   "nbconvert_exporter": "python",
   "pygments_lexer": "ipython3",
   "version": "3.10.2"
  }
 },
 "nbformat": 4,
 "nbformat_minor": 5
}

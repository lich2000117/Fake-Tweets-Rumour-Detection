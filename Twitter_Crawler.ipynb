{
 "cells": [
  {
   "cell_type": "code",
   "execution_count": 192,
   "id": "4ccddf89",
   "metadata": {},
   "outputs": [],
   "source": [
    "import tweepy\n",
    "import numpy as np\n",
    "import time"
   ]
  },
  {
   "cell_type": "code",
   "execution_count": 157,
   "id": "aaa513f4",
   "metadata": {},
   "outputs": [],
   "source": [
    "DATA_PATH = \"./id_data/train.data.txt\"\n",
    "JSON_PATH = \"./full_data/full_train.json\"\n",
    "\n",
    "bearer_token = \"AAAAAAAAAAAAAAAAAAAAAJzFbwEAAAAAiw1m4S%2FgkghMs%2BWfiVo6OswWgYE%3DGRQPPybZpQuJ1g2lFvxyH9yogZRQatwb6gT8X8ShhyYdjmqXGu\""
   ]
  },
  {
   "cell_type": "code",
   "execution_count": 87,
   "id": "9d8b1367",
   "metadata": {},
   "outputs": [],
   "source": [
    "total_id_list = []\n",
    "with open(DATA_PATH, \"r\") as f:\n",
    "    for line in f:\n",
    "        line = line.strip() # remove next line\n",
    "        line = line.split(',') # split into list\n",
    "        total_id_list.append(line)\n",
    "total_id_list = [item for sublist in total_id_list for item in sublist] # Flat into a single list\n",
    "total_id_list = list(set(total_id_list))"
   ]
  },
  {
   "cell_type": "code",
   "execution_count": 88,
   "id": "4eb80bd4",
   "metadata": {},
   "outputs": [
    {
     "data": {
      "text/plain": [
       "28633"
      ]
     },
     "execution_count": 88,
     "metadata": {},
     "output_type": "execute_result"
    }
   ],
   "source": [
    "len(total_id_list)"
   ]
  },
  {
   "cell_type": "markdown",
   "id": "df74d7d5",
   "metadata": {},
   "source": [
    "## Twitter Part"
   ]
  },
  {
   "cell_type": "code",
   "execution_count": 163,
   "id": "e88c0882",
   "metadata": {},
   "outputs": [],
   "source": [
    "def Extend_Json(new_dict, File_PATH):\n",
    "    \"\"\"Extend a huge json file without loading it to the memory\"\"\"\n",
    "    # if file exists:\n",
    "    if os.path.exists(File_PATH):\n",
    "        if new_dict: # if dict has value\n",
    "            # Source: https://stackoverflow.com/questions/18087397/append-list-of-python-dictionaries-to-a-file-without-loading-it/31224105#31224105?newreg=6b7713ed96df42959bb9443daf7bb8ec\n",
    "            # two methods\n",
    "            # with open (File_PATH, mode=\"r+\") as file:\n",
    "            #     file.seek(0,2)  # 0 byte (0) from the end of file (2)\n",
    "            #     position = file.tell() -1\n",
    "            #     file.seek(position)\n",
    "            #     file.write( \",{}]\".format(json.dumps(new_dict)) )\n",
    "            with open (File_PATH, mode=\"r+\") as file:\n",
    "                file.seek(os.stat(File_PATH).st_size -1)\n",
    "                file.write( \",{}]\".format(json.dumps(new_dict, indent=2)) )\n",
    "    else:\n",
    "        # else, create a new json file\n",
    "        with open (File_PATH, mode=\"w\") as file:\n",
    "            json.dump(new_dict, file, indent=2)"
   ]
  },
  {
   "cell_type": "code",
   "execution_count": 194,
   "id": "79cbee4d",
   "metadata": {},
   "outputs": [],
   "source": [
    "def get_twitter(bearer_token, list_ids, JSON_PATH, tweet_fields=[\"created_at\", \"author_id\", \"entities\", \"withheld\", \"public_metrics\", \"lang\", \"reply_settings\", \"source\"]):\n",
    "    \"\"\"Automatically get a list of tweeters, the function auto divide ids into chunks of size 800 to avoid excessive use of API,\n",
    "        auto create a Json file in the designated path.\"\"\"\n",
    "    CHUNK_SIZE = 99\n",
    "    ## Auto divide into sub-tasks\n",
    "    list_ids = list(set(list_ids))\n",
    "    if len(list_ids) > CHUNK_SIZE:\n",
    "        chunks_of_list = np.array_split(list_ids, int(len(list_ids)/CHUNK_SIZE))\n",
    "    else:\n",
    "        chunks_of_list = list_ids\n",
    "    \n",
    "    loop_count = 1\n",
    "    for sub_list in chunks_of_list:\n",
    "        ## Main loop to get twitter by chunks\n",
    "    \n",
    "        output_list = []   # output list of dictionary of tweets\n",
    "        author_id_list = []  # store author ids to produce author database\n",
    "\n",
    "        client = tweepy.Client(bearer_token)\n",
    "\n",
    "        # Get Tweets\n",
    "\n",
    "        # This endpoint/method returns a variety of information about the Tweet(s)\n",
    "        # specified by the requested ID or list of IDs\n",
    "\n",
    "        tweet_ids = list(sub_list)\n",
    "\n",
    "        # By default, only the ID and text fields of each Tweet will be returned\n",
    "        # Additional fields are retrieved using the tweet_fields parameter, selected by hands to make sure we capture useful informations\n",
    "        response = client.get_tweets(tweet_ids, tweet_fields=tweet_fields)\n",
    "\n",
    "        for tweet in response.data:\n",
    "            # set withheld to true or false based on return\n",
    "            if tweet.withheld:\n",
    "                withheld = True\n",
    "            else:\n",
    "                withheld = False\n",
    "            tweet_dict = {\n",
    "                \"id\":              tweet.id,\n",
    "                \"created_at\":      str(tweet.created_at),\n",
    "                \"author_id\":       tweet.author_id, \n",
    "                \"lang\":            tweet.lang,\n",
    "                \"reply_settings\":  tweet.reply_settings,\n",
    "                \"source\":          tweet.source,\n",
    "                \"withheld\":        withheld,\n",
    "                \"public_metrics\":  tweet.public_metrics,\n",
    "                \"entities\":        tweet.entities,\n",
    "            }\n",
    "            output_list.append(tweet_dict)\n",
    "            author_id_list.append(tweet.author_id) # record author informations as well\n",
    "        \n",
    "        # Save to json file\n",
    "        Extend_Json(output_list, JSON_PATH)\n",
    "        # Sleep 15 minutes to avoid API restrictions after processing 900 tweets\n",
    "        #if loop_count == 8: \n",
    "            #time.sleep(15*60)\n",
    "            #loop_count = 0\n",
    "        loop_count += 1"
   ]
  },
  {
   "cell_type": "code",
   "execution_count": null,
   "id": "dd83cb91",
   "metadata": {},
   "outputs": [],
   "source": [
    "get_twitter(bearer_token, total_id_list, JSON_PATH)"
   ]
  },
  {
   "cell_type": "markdown",
   "id": "fc190f65",
   "metadata": {},
   "source": [
    "## Author Data Part"
   ]
  },
  {
   "cell_type": "code",
   "execution_count": 72,
   "id": "36522516",
   "metadata": {},
   "outputs": [
    {
     "data": {
      "text/plain": [
       "'Twitter Web App'"
      ]
     },
     "execution_count": 72,
     "metadata": {},
     "output_type": "execute_result"
    }
   ],
   "source": [
    "tweet.source"
   ]
  }
 ],
 "metadata": {
  "kernelspec": {
   "display_name": "Python 3 (ipykernel)",
   "language": "python",
   "name": "python3"
  },
  "language_info": {
   "codemirror_mode": {
    "name": "ipython",
    "version": 3
   },
   "file_extension": ".py",
   "mimetype": "text/x-python",
   "name": "python",
   "nbconvert_exporter": "python",
   "pygments_lexer": "ipython3",
   "version": "3.10.2"
  }
 },
 "nbformat": 4,
 "nbformat_minor": 5
}

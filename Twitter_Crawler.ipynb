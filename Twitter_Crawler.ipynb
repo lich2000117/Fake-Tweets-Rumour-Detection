{
 "cells": [
  {
   "cell_type": "markdown",
   "id": "13697ecd",
   "metadata": {},
   "source": [
    "## How to Use this File?\n",
    "\n",
    "make sure added your personal bearer_token, define the path of the data and save path of the tweets.\n",
    "\n",
    "DATA_PATH is the destination of a txt file containing comma-separated twitter IDs.\n",
    "JSON_PATH is the save location of the crawlling tweets, it is a json file containing a list of tweets\n",
    "\n",
    "def Extend_Json: the function takes a list of dictionary as input, to extend the destination json file without reading it into memory\n",
    "\n",
    "def get_tweet: use API to get twitter from the web, it separates a list of IDs into 100-sized list chunks, so the number of requests sent should be \n",
    "\n",
    "#Requests = #ofIDs/100\n"
   ]
  },
  {
   "cell_type": "code",
   "execution_count": 44,
   "id": "970ddaf8",
   "metadata": {},
   "outputs": [],
   "source": [
    "import tweepy\n",
    "import numpy as np\n",
    "import time\n",
    "import json\n",
    "import os"
   ]
  },
  {
   "cell_type": "code",
   "execution_count": 45,
   "id": "21d3708d",
   "metadata": {},
   "outputs": [],
   "source": [
    "DATA_PATH = \"./id_data/train.data.txt\"   # train\n",
    "#DATA_PATH = \"./id_data/dev.data.txt\"  # dev\n",
    "\n",
    "AUTHOR_JSON_PATH = \"./full_data/source_author_ids.json\"\n",
    "\n",
    "SOURCE_STORY_ONLY = True\n",
    "if SOURCE_STORY_ONLY:\n",
    "    JSON_PATH = \"./full_data/full_train_source_only.json\"   # SOURCE_STORY_ONLY=True\n",
    "else:\n",
    "    JSON_PATH = \"./full_data/full_train.json\"\n"
   ]
  },
  {
   "cell_type": "markdown",
   "id": "e603572e",
   "metadata": {},
   "source": [
    "## Twitter API V2.0"
   ]
  },
  {
   "cell_type": "code",
   "execution_count": 46,
   "id": "dd4a6266",
   "metadata": {},
   "outputs": [],
   "source": [
    "bearer_token = \"AAAAAAAAAAAAAAAAAAAAAJzFbwEAAAAAiw1m4S%2FgkghMs%2BWfiVo6OswWgYE%3DGRQPPybZpQuJ1g2lFvxyH9yogZRQatwb6gT8X8ShhyYdjmqXGu\"\n",
    "\n",
    "client = tweepy.Client(bearer_token)"
   ]
  },
  {
   "cell_type": "markdown",
   "id": "e0556e63",
   "metadata": {},
   "source": [
    "## Twitter API V1.1"
   ]
  },
  {
   "cell_type": "code",
   "execution_count": 47,
   "id": "fb1877b2",
   "metadata": {},
   "outputs": [
    {
     "name": "stdout",
     "output_type": "stream",
     "text": [
      "FAAT_JOEY\n"
     ]
    }
   ],
   "source": [
    "## Twitter API V1.1\n",
    "consumer_key = \"PCyRF0jWO12cgQ88uQDkDoBes\"  # API_Key and secret\n",
    "consumer_secret = \"whVymp4fEIeKQEy1hrDghwRxKyW515QeUzFKq5fMvryoe1mOxT\"\n",
    "access_token = \"1357932194019217410-RmO2xXuajMNs98s6qw5DYHLAFzMcLZ\"\n",
    "access_token_secret = \"ptzYrYJF10qnGf8vU9wPdiuRNOAM3BXFxjMhOcxBZZcKz\"\n",
    "\n",
    "auth = tweepy.OAuth1UserHandler(\n",
    "    consumer_key, consumer_secret, access_token, access_token_secret\n",
    ")\n",
    "api = tweepy.API(auth)\n",
    "# If the authentication was successful, this should print the\n",
    "# screen name / username of the account\n",
    "print(api.verify_credentials().screen_name)"
   ]
  },
  {
   "cell_type": "code",
   "execution_count": 48,
   "id": "b1645ac7",
   "metadata": {},
   "outputs": [],
   "source": [
    "def Extend_Json(new_list_dict, File_PATH):\n",
    "    \"\"\"Extend a huge json file without loading it to the memory, input: new_dict is a list of json dictionary objects\"\"\"\n",
    "    # if file exists:\n",
    "    if os.path.exists(File_PATH):\n",
    "        if os.stat(File_PATH).st_size == 0:\n",
    "            print(\"asasdasdasd\")\n",
    "            # if file contains nothing, delete the file\n",
    "            os.remove(File_PATH)\n",
    "            # create another new json file\n",
    "            with open (File_PATH, mode=\"w\") as file:\n",
    "                json.dump(new_list_dict, file, indent=2)\n",
    "        else:\n",
    "            if new_list_dict: # if dict has value\n",
    "                with open (File_PATH, mode=\"r\") as file:\n",
    "                    data = json.load(file)\n",
    "                # Source: https://stackoverflow.com/questions/18087397/append-list-of-python-dictionaries-to-a-file-without-loading-it/31224105#31224105?newreg=6b7713ed96df42959bb9443daf7bb8ec\n",
    "                # two methods\n",
    "                # with open (File_PATH, mode=\"r+\") as file:\n",
    "                #     file.seek(0,2)  # 0 byte (0) from the end of file (2)\n",
    "                #     position = file.tell() -1\n",
    "                #     file.seek(position)\n",
    "                #     file.write( \",{}]\".format(json.dumps(new_dict)[1:-1]) )\n",
    "                with open (File_PATH, mode=\"r+\") as file:\n",
    "                    file.seek(os.stat(File_PATH).st_size -1)\n",
    "                    file.write( \",{}]\".format(json.dumps(new_list_dict, indent=2)[1:-1]) )\n",
    "    else:\n",
    "        # else, create a new json file\n",
    "        with open (File_PATH, mode=\"w\") as file:\n",
    "            json.dump(new_list_dict, file, indent=2)"
   ]
  },
  {
   "cell_type": "markdown",
   "id": "ad77f876",
   "metadata": {},
   "source": [
    "## Twitter Part"
   ]
  },
  {
   "cell_type": "code",
   "execution_count": 49,
   "id": "7583e67a",
   "metadata": {},
   "outputs": [
    {
     "data": {
      "text/plain": [
       "1887"
      ]
     },
     "execution_count": 49,
     "metadata": {},
     "output_type": "execute_result"
    }
   ],
   "source": [
    "total_id_list = []\n",
    "with open(DATA_PATH, \"r\") as f:\n",
    "    for line in f:\n",
    "        line = line.strip() # remove next line\n",
    "        if SOURCE_STORY_ONLY:\n",
    "            line = line.split(',')[0] # split into list\\\n",
    "        else:\n",
    "            line = line.split(',')\n",
    "        total_id_list.append(line)\n",
    "if not SOURCE_STORY_ONLY:\n",
    "    total_id_list = [item for sublist in total_id_list for item in sublist] # Flat into a single list\n",
    "total_id_list = list(set(total_id_list))\n",
    "len(total_id_list)"
   ]
  },
  {
   "cell_type": "code",
   "execution_count": 50,
   "id": "874c1a68",
   "metadata": {},
   "outputs": [],
   "source": [
    "def get_twitter(client, list_ids, JSON_PATH, tweet_fields=[\"created_at\", \"author_id\", \"entities\", \"withheld\", \"public_metrics\", \"lang\", \"reply_settings\", \"source\"]):\n",
    "    \"\"\"Automatically get a list of tweeters, the function auto divide ids into chunks of size 800 to avoid excessive use of API,\n",
    "        auto create a Json file in the designated path.\"\"\"\n",
    "    CHUNK_SIZE = 99\n",
    "    ## Auto divide into sub-tasks\n",
    "    list_ids = list(set(list_ids))\n",
    "    if len(list_ids) > CHUNK_SIZE:\n",
    "        chunks_of_list = np.array_split(list_ids, int(len(list_ids)/CHUNK_SIZE)+1)\n",
    "    else:\n",
    "        chunks_of_list = list_ids\n",
    "    count = 0\n",
    "    \n",
    "    for sub_list in chunks_of_list:\n",
    "        ## Main loop to get twitter by chunks\n",
    "        output_list = []   # output list of dictionary of tweets\n",
    "        author_id_list = []  # store author ids to produce author database\n",
    "\n",
    "        tweet_ids = list(sub_list)\n",
    "        \n",
    "        # This endpoint/method returns a variety of information about the Tweet(s)\n",
    "        # specified by the requested ID or list of IDs\n",
    "        # By default, only the ID and text fields of each Tweet will be returned\n",
    "        # Additional fields are retrieved using the tweet_fields parameter, selected by hands to make sure we capture useful informations\n",
    "        response = client.get_tweets(tweet_ids, tweet_fields=tweet_fields)\n",
    "\n",
    "        for tweet in response.data:\n",
    "            # set withheld to true or false based on return\n",
    "            if tweet.withheld:\n",
    "                withheld = True\n",
    "            else:\n",
    "                withheld = False\n",
    "            tweet_dict = {\n",
    "                \"id\":              tweet.id,\n",
    "                \"created_at\":      str(tweet.created_at),\n",
    "                \"author_id\":       tweet.author_id, \n",
    "                \"lang\":            tweet.lang,\n",
    "                \"reply_settings\":  tweet.reply_settings,\n",
    "                \"source\":          tweet.source,\n",
    "                \"withheld\":        withheld,\n",
    "                \"public_metrics\":  tweet.public_metrics,\n",
    "                \"entities\":        tweet.entities,\n",
    "                \"text\":            tweet.text,\n",
    "            }\n",
    "            output_list.append(tweet_dict)\n",
    "            author_id_list.append(tweet.author_id) # record author informations as well\n",
    "            count += 1\n",
    "        \n",
    "        # Save to json file\n",
    "        Extend_Json(output_list, JSON_PATH)\n",
    "        Extend_Json(author_id_list, AUTHOR_JSON_PATH)\n",
    "        # Sleep 15 minutes to avoid API restrictions after processing 900 tweets\n",
    "        #if loop_count == 8: \n",
    "            #time.sleep(15*60)\n",
    "            #loop_count = 0\n",
    "    print(\"Total Tweeter :\", count)\n",
    "        "
   ]
  },
  {
   "cell_type": "code",
   "execution_count": 51,
   "id": "84b7302d",
   "metadata": {},
   "outputs": [
    {
     "name": "stdout",
     "output_type": "stream",
     "text": [
      "Total Tweeter : 1554\n"
     ]
    }
   ],
   "source": [
    "# Run getter.\n",
    "get_twitter(client, total_id_list, JSON_PATH)"
   ]
  },
  {
   "cell_type": "code",
   "execution_count": 52,
   "id": "18a505fb",
   "metadata": {},
   "outputs": [
    {
     "name": "stdout",
     "output_type": "stream",
     "text": [
      "Number of twitter stored:  1554\n"
     ]
    }
   ],
   "source": [
    "with open(JSON_PATH, \"r\") as f:\n",
    "    data = json.load(f)\n",
    "    print(\"Number of twitter stored: \", len(data))"
   ]
  },
  {
   "cell_type": "code",
   "execution_count": 53,
   "id": "b15c3909",
   "metadata": {},
   "outputs": [
    {
     "name": "stdout",
     "output_type": "stream",
     "text": [
      "Number of Source Story crawled:  0.054273041595362\n"
     ]
    }
   ],
   "source": [
    "print(\"Number of Source Story crawled: \",len(data)/28633)\n",
    "#print(\"Number of Total Training Twitter crawled: \", 366/28633)"
   ]
  },
  {
   "cell_type": "markdown",
   "id": "a8acb3ab",
   "metadata": {},
   "source": [
    "## Author Data Part\n",
    "\n",
    "Extract Author data for the source twitter and output into AUTHOR_DATA_PATH"
   ]
  },
  {
   "cell_type": "code",
   "execution_count": 58,
   "id": "691e1cfd",
   "metadata": {},
   "outputs": [],
   "source": [
    "## Only get source author's data for now\n",
    "SOURCE_AUTHOR_PATH = \"./full_data/data_storage/source_author_ids.json\"\n",
    "AUTHOR_DATA_PATH = \"./full_data/source_author_data.json\""
   ]
  },
  {
   "cell_type": "code",
   "execution_count": 59,
   "id": "3e0143fd",
   "metadata": {},
   "outputs": [
    {
     "data": {
      "text/plain": [
       "1388"
      ]
     },
     "execution_count": 59,
     "metadata": {},
     "output_type": "execute_result"
    }
   ],
   "source": [
    "with open(SOURCE_AUTHOR_PATH) as f:\n",
    "    author_data = json.load(f)\n",
    "    author_list = list(set(author_data))\n",
    "len(author_list)"
   ]
  },
  {
   "cell_type": "code",
   "execution_count": 60,
   "id": "3f78c6ed",
   "metadata": {},
   "outputs": [],
   "source": [
    "def get_author_data(api, id_list, OUTPUT_PATH):\n",
    "    \"\"\"Extract Author data for a list of authors and output them into AUTHOR_DATA_PATH as a json\"\"\"\n",
    "    list_of_authors = []\n",
    "    count = 0\n",
    "    for author_id in author_data:\n",
    "        response = api.get_user(user_id=author_id)\n",
    "        list_of_authors.append(response._json)\n",
    "        count += 0\n",
    "        if (count>=800) and (count % 800 == 0):\n",
    "            # Sleep 15 minutes to avoid limits\n",
    "            time.sleep(1000)\n",
    "    ## Convert to json        \n",
    "    Extend_Json(list_of_authors, AUTHOR_DATA_PATH)\n",
    "    print(\"Total Author Got: \", count)"
   ]
  },
  {
   "cell_type": "code",
   "execution_count": 62,
   "id": "6a8d9223",
   "metadata": {},
   "outputs": [
    {
     "ename": "TooManyRequests",
     "evalue": "429 Too Many Requests\n88 - Rate limit exceeded",
     "output_type": "error",
     "traceback": [
      "\u001b[1;31m---------------------------------------------------------------------------\u001b[0m",
      "\u001b[1;31mTooManyRequests\u001b[0m                           Traceback (most recent call last)",
      "Input \u001b[1;32mIn [62]\u001b[0m, in \u001b[0;36m<cell line: 1>\u001b[1;34m()\u001b[0m\n\u001b[1;32m----> 1\u001b[0m \u001b[43mget_author_data\u001b[49m\u001b[43m(\u001b[49m\u001b[43mapi\u001b[49m\u001b[43m,\u001b[49m\u001b[43m \u001b[49m\u001b[43mauthor_list\u001b[49m\u001b[43m,\u001b[49m\u001b[43m \u001b[49m\u001b[43mAUTHOR_DATA_PATH\u001b[49m\u001b[43m)\u001b[49m\n",
      "Input \u001b[1;32mIn [60]\u001b[0m, in \u001b[0;36mget_author_data\u001b[1;34m(api, id_list, OUTPUT_PATH)\u001b[0m\n\u001b[0;32m      4\u001b[0m count \u001b[38;5;241m=\u001b[39m \u001b[38;5;241m0\u001b[39m\n\u001b[0;32m      5\u001b[0m \u001b[38;5;28;01mfor\u001b[39;00m author_id \u001b[38;5;129;01min\u001b[39;00m author_data:\n\u001b[1;32m----> 6\u001b[0m     response \u001b[38;5;241m=\u001b[39m \u001b[43mapi\u001b[49m\u001b[38;5;241;43m.\u001b[39;49m\u001b[43mget_user\u001b[49m\u001b[43m(\u001b[49m\u001b[43muser_id\u001b[49m\u001b[38;5;241;43m=\u001b[39;49m\u001b[43mauthor_id\u001b[49m\u001b[43m)\u001b[49m\n\u001b[0;32m      7\u001b[0m     list_of_authors\u001b[38;5;241m.\u001b[39mappend(response\u001b[38;5;241m.\u001b[39m_json)\n\u001b[0;32m      8\u001b[0m     count \u001b[38;5;241m+\u001b[39m\u001b[38;5;241m=\u001b[39m \u001b[38;5;241m0\u001b[39m\n",
      "File \u001b[1;32m~\\AppData\\Local\\Programs\\Python\\Python310\\lib\\site-packages\\tweepy\\api.py:46\u001b[0m, in \u001b[0;36mpayload.<locals>.decorator.<locals>.wrapper\u001b[1;34m(*args, **kwargs)\u001b[0m\n\u001b[0;32m     44\u001b[0m kwargs[\u001b[38;5;124m'\u001b[39m\u001b[38;5;124mpayload_list\u001b[39m\u001b[38;5;124m'\u001b[39m] \u001b[38;5;241m=\u001b[39m payload_list\n\u001b[0;32m     45\u001b[0m kwargs[\u001b[38;5;124m'\u001b[39m\u001b[38;5;124mpayload_type\u001b[39m\u001b[38;5;124m'\u001b[39m] \u001b[38;5;241m=\u001b[39m payload_type\n\u001b[1;32m---> 46\u001b[0m \u001b[38;5;28;01mreturn\u001b[39;00m method(\u001b[38;5;241m*\u001b[39margs, \u001b[38;5;241m*\u001b[39m\u001b[38;5;241m*\u001b[39mkwargs)\n",
      "File \u001b[1;32m~\\AppData\\Local\\Programs\\Python\\Python310\\lib\\site-packages\\tweepy\\api.py:2502\u001b[0m, in \u001b[0;36mAPI.get_user\u001b[1;34m(self, **kwargs)\u001b[0m\n\u001b[0;32m   2479\u001b[0m \u001b[38;5;129m@payload\u001b[39m(\u001b[38;5;124m'\u001b[39m\u001b[38;5;124muser\u001b[39m\u001b[38;5;124m'\u001b[39m)\n\u001b[0;32m   2480\u001b[0m \u001b[38;5;28;01mdef\u001b[39;00m \u001b[38;5;21mget_user\u001b[39m(\u001b[38;5;28mself\u001b[39m, \u001b[38;5;241m*\u001b[39m\u001b[38;5;241m*\u001b[39mkwargs):\n\u001b[0;32m   2481\u001b[0m     \u001b[38;5;124;03m\"\"\"get_user(*, user_id, screen_name, include_entities)\u001b[39;00m\n\u001b[0;32m   2482\u001b[0m \n\u001b[0;32m   2483\u001b[0m \u001b[38;5;124;03m    Returns information about the specified user.\u001b[39;00m\n\u001b[1;32m   (...)\u001b[0m\n\u001b[0;32m   2500\u001b[0m \u001b[38;5;124;03m    https://developer.twitter.com/en/docs/twitter-api/v1/accounts-and-users/follow-search-get-users/api-reference/get-users-show\u001b[39;00m\n\u001b[0;32m   2501\u001b[0m \u001b[38;5;124;03m    \"\"\"\u001b[39;00m\n\u001b[1;32m-> 2502\u001b[0m     \u001b[38;5;28;01mreturn\u001b[39;00m \u001b[38;5;28mself\u001b[39m\u001b[38;5;241m.\u001b[39mrequest(\n\u001b[0;32m   2503\u001b[0m         \u001b[38;5;124m'\u001b[39m\u001b[38;5;124mGET\u001b[39m\u001b[38;5;124m'\u001b[39m, \u001b[38;5;124m'\u001b[39m\u001b[38;5;124musers/show\u001b[39m\u001b[38;5;124m'\u001b[39m, endpoint_parameters\u001b[38;5;241m=\u001b[39m(\n\u001b[0;32m   2504\u001b[0m             \u001b[38;5;124m'\u001b[39m\u001b[38;5;124muser_id\u001b[39m\u001b[38;5;124m'\u001b[39m, \u001b[38;5;124m'\u001b[39m\u001b[38;5;124mscreen_name\u001b[39m\u001b[38;5;124m'\u001b[39m, \u001b[38;5;124m'\u001b[39m\u001b[38;5;124minclude_entities\u001b[39m\u001b[38;5;124m'\u001b[39m\n\u001b[0;32m   2505\u001b[0m         ), \u001b[38;5;241m*\u001b[39m\u001b[38;5;241m*\u001b[39mkwargs\n\u001b[0;32m   2506\u001b[0m     )\n",
      "File \u001b[1;32m~\\AppData\\Local\\Programs\\Python\\Python310\\lib\\site-packages\\tweepy\\api.py:263\u001b[0m, in \u001b[0;36mAPI.request\u001b[1;34m(self, method, endpoint, endpoint_parameters, params, headers, json_payload, parser, payload_list, payload_type, post_data, files, require_auth, return_cursors, upload_api, use_cache, **kwargs)\u001b[0m\n\u001b[0;32m    261\u001b[0m     \u001b[38;5;28;01mraise\u001b[39;00m NotFound(resp)\n\u001b[0;32m    262\u001b[0m \u001b[38;5;28;01mif\u001b[39;00m resp\u001b[38;5;241m.\u001b[39mstatus_code \u001b[38;5;241m==\u001b[39m \u001b[38;5;241m429\u001b[39m:\n\u001b[1;32m--> 263\u001b[0m     \u001b[38;5;28;01mraise\u001b[39;00m TooManyRequests(resp)\n\u001b[0;32m    264\u001b[0m \u001b[38;5;28;01mif\u001b[39;00m resp\u001b[38;5;241m.\u001b[39mstatus_code \u001b[38;5;241m>\u001b[39m\u001b[38;5;241m=\u001b[39m \u001b[38;5;241m500\u001b[39m:\n\u001b[0;32m    265\u001b[0m     \u001b[38;5;28;01mraise\u001b[39;00m TwitterServerError(resp)\n",
      "\u001b[1;31mTooManyRequests\u001b[0m: 429 Too Many Requests\n88 - Rate limit exceeded"
     ]
    }
   ],
   "source": [
    "get_author_data(api, author_list, AUTHOR_DATA_PATH)"
   ]
  },
  {
   "cell_type": "code",
   "execution_count": null,
   "id": "4923a86a",
   "metadata": {},
   "outputs": [],
   "source": []
  }
 ],
 "metadata": {
  "kernelspec": {
   "display_name": "Python 3 (ipykernel)",
   "language": "python",
   "name": "python3"
  },
  "language_info": {
   "codemirror_mode": {
    "name": "ipython",
    "version": 3
   },
   "file_extension": ".py",
   "mimetype": "text/x-python",
   "name": "python",
   "nbconvert_exporter": "python",
   "pygments_lexer": "ipython3",
   "version": "3.10.2"
  }
 },
 "nbformat": 4,
 "nbformat_minor": 5
}

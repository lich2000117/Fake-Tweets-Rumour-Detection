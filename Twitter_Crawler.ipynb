{
 "cells": [
  {
   "cell_type": "markdown",
   "id": "3893404e",
   "metadata": {},
   "source": [
    "## How to Use this File?\n",
    "\n",
    "make sure added your personal bearer_token, define the path of the data and save path of the tweets.\n",
    "\n",
    "DATA_PATH is the destination of a txt file containing comma-separated twitter IDs.\n",
    "JSON_PATH is the save location of the crawlling tweets, it is a json file containing a list of tweets\n",
    "\n",
    "def Extend_Json: the function takes a list of dictionary as input, to extend the destination json file without reading it into memory\n",
    "\n",
    "def get_tweet: use API to get twitter from the web, it separates a list of IDs into 100-sized list chunks, so the number of requests sent should be \n",
    "\n",
    "#Requests = #ofIDs/100\n"
   ]
  },
  {
   "cell_type": "code",
   "execution_count": 1,
   "id": "46dcf7bc",
   "metadata": {},
   "outputs": [],
   "source": [
    "import tweepy\n",
    "import numpy as np\n",
    "import time\n",
    "import json\n",
    "import os"
   ]
  },
  {
   "cell_type": "code",
   "execution_count": 2,
   "id": "0b5b780b",
   "metadata": {},
   "outputs": [],
   "source": [
    "DATA_PATH = \"./id_data/train.data.txt\"\n",
    "AUTHOR_JSON_PATH = \"./full_data/author_ids.json\"\n",
    "JSON_PATH = \"./full_data/full_train.json\"\n",
    "#JSON_PATH = \"./full_data/full_train_source_only.json\"   # SOURCE_STORY_ONLY=True\n",
    "SOURCE_STORY_ONLY = False\n",
    "bearer_token = \"AAAAAAAAAAAAAAAAAAAAAJzFbwEAAAAAiw1m4S%2FgkghMs%2BWfiVo6OswWgYE%3DGRQPPybZpQuJ1g2lFvxyH9yogZRQatwb6gT8X8ShhyYdjmqXGu\""
   ]
  },
  {
   "cell_type": "code",
   "execution_count": 3,
   "id": "4570395f",
   "metadata": {},
   "outputs": [],
   "source": [
    "total_id_list = []\n",
    "with open(DATA_PATH, \"r\") as f:\n",
    "    for line in f:\n",
    "        line = line.strip() # remove next line\n",
    "        if SOURCE_STORY_ONLY:\n",
    "            line = line.split(',')[0] # split into list\\\n",
    "        else:\n",
    "            line = line.split(',')\n",
    "        total_id_list.append(line)\n",
    "if not SOURCE_STORY_ONLY:\n",
    "    total_id_list = [item for sublist in total_id_list for item in sublist] # Flat into a single list\n",
    "total_id_list = list(set(total_id_list))"
   ]
  },
  {
   "cell_type": "markdown",
   "id": "267660f1",
   "metadata": {},
   "source": [
    "## Twitter Part"
   ]
  },
  {
   "cell_type": "code",
   "execution_count": 4,
   "id": "81a8b7a5",
   "metadata": {},
   "outputs": [],
   "source": [
    "def Extend_Json(new_dict, File_PATH):\n",
    "    \"\"\"Extend a huge json file without loading it to the memory\"\"\"\n",
    "    # if file exists:\n",
    "    if os.path.exists(File_PATH):\n",
    "        if os.stat(File_PATH).st_size == 0:\n",
    "            # if file contains nothing, delete the file\n",
    "            os.remove(File_PATH)\n",
    "            # create another new json file\n",
    "            with open (File_PATH, mode=\"w\") as file:\n",
    "                json.dump(new_dict, file, indent=2)\n",
    "        else:\n",
    "            if new_dict: # if dict has value\n",
    "                # Source: https://stackoverflow.com/questions/18087397/append-list-of-python-dictionaries-to-a-file-without-loading-it/31224105#31224105?newreg=6b7713ed96df42959bb9443daf7bb8ec\n",
    "                # two methods\n",
    "                # with open (File_PATH, mode=\"r+\") as file:\n",
    "                #     file.seek(0,2)  # 0 byte (0) from the end of file (2)\n",
    "                #     position = file.tell() -1\n",
    "                #     file.seek(position)\n",
    "                #     file.write( \",{}]\".format(json.dumps(new_dict)) )\n",
    "                with open (File_PATH, mode=\"r+\") as file:\n",
    "                    file.seek(os.stat(File_PATH).st_size -1)\n",
    "                    file.write( \",{}]\".format(json.dumps(new_dict, indent=2)) )\n",
    "    else:\n",
    "        # else, create a new json file\n",
    "        with open (File_PATH, mode=\"w\") as file:\n",
    "            json.dump(new_dict, file, indent=2)"
   ]
  },
  {
   "cell_type": "code",
   "execution_count": 5,
   "id": "36d1e940",
   "metadata": {},
   "outputs": [],
   "source": [
    "def get_twitter(bearer_token, list_ids, JSON_PATH, tweet_fields=[\"created_at\", \"author_id\", \"entities\", \"withheld\", \"public_metrics\", \"lang\", \"reply_settings\", \"source\"]):\n",
    "    \"\"\"Automatically get a list of tweeters, the function auto divide ids into chunks of size 800 to avoid excessive use of API,\n",
    "        auto create a Json file in the designated path.\"\"\"\n",
    "    CHUNK_SIZE = 99\n",
    "    ## Auto divide into sub-tasks\n",
    "    list_ids = list(set(list_ids))\n",
    "    if len(list_ids) > CHUNK_SIZE:\n",
    "        chunks_of_list = np.array_split(list_ids, int(len(list_ids)/CHUNK_SIZE))\n",
    "    else:\n",
    "        chunks_of_list = list_ids\n",
    "    \n",
    "    loop_count = 1\n",
    "    for sub_list in chunks_of_list:\n",
    "        ## Main loop to get twitter by chunks\n",
    "    \n",
    "        output_list = []   # output list of dictionary of tweets\n",
    "        author_id_list = []  # store author ids to produce author database\n",
    "\n",
    "        client = tweepy.Client(bearer_token)\n",
    "\n",
    "        # Get Tweets\n",
    "\n",
    "        # This endpoint/method returns a variety of information about the Tweet(s)\n",
    "        # specified by the requested ID or list of IDs\n",
    "\n",
    "        tweet_ids = list(sub_list)\n",
    "\n",
    "        # By default, only the ID and text fields of each Tweet will be returned\n",
    "        # Additional fields are retrieved using the tweet_fields parameter, selected by hands to make sure we capture useful informations\n",
    "        response = client.get_tweets(tweet_ids, tweet_fields=tweet_fields)\n",
    "\n",
    "        for tweet in response.data:\n",
    "            # set withheld to true or false based on return\n",
    "            if tweet.withheld:\n",
    "                withheld = True\n",
    "            else:\n",
    "                withheld = False\n",
    "            tweet_dict = {\n",
    "                \"id\":              tweet.id,\n",
    "                \"created_at\":      str(tweet.created_at),\n",
    "                \"author_id\":       tweet.author_id, \n",
    "                \"lang\":            tweet.lang,\n",
    "                \"reply_settings\":  tweet.reply_settings,\n",
    "                \"source\":          tweet.source,\n",
    "                \"withheld\":        withheld,\n",
    "                \"public_metrics\":  tweet.public_metrics,\n",
    "                \"entities\":        tweet.entities,\n",
    "            }\n",
    "            output_list.append(tweet_dict)\n",
    "            author_id_list.append(tweet.author_id) # record author informations as well\n",
    "        \n",
    "        # Save to json file\n",
    "        Extend_Json(output_list, JSON_PATH)\n",
    "        Extend_Json(author_id_list, AUTHOR_JSON_PATH)\n",
    "        # Sleep 15 minutes to avoid API restrictions after processing 900 tweets\n",
    "        #if loop_count == 8: \n",
    "            #time.sleep(15*60)\n",
    "            #loop_count = 0\n",
    "        loop_count += 1\n",
    "        "
   ]
  },
  {
   "cell_type": "code",
   "execution_count": 6,
   "id": "69b413af",
   "metadata": {},
   "outputs": [],
   "source": [
    "# Run getter.\n",
    "get_twitter(bearer_token, total_id_list, JSON_PATH)"
   ]
  },
  {
   "cell_type": "code",
   "execution_count": 7,
   "id": "de6fede6",
   "metadata": {},
   "outputs": [
    {
     "name": "stdout",
     "output_type": "stream",
     "text": [
      "Number of twitter stored:  360\n"
     ]
    }
   ],
   "source": [
    "\n",
    "with open(JSON_PATH, \"r\") as f:\n",
    "    data = json.load(f)\n",
    "    print(\"Number of twitter stored: \", len(data))"
   ]
  },
  {
   "cell_type": "code",
   "execution_count": 8,
   "id": "d007c035",
   "metadata": {},
   "outputs": [
    {
     "name": "stdout",
     "output_type": "stream",
     "text": [
      "Number of Source Story crawled:  0.05352411234764176\n",
      "Number of Total Training Twitter crawled:  0.012782453812035065\n"
     ]
    }
   ],
   "source": [
    "print(\"Number of Source Story crawled: \",101/1887)\n",
    "print(\"Number of Total Training Twitter crawled: \", 366/28633)"
   ]
  },
  {
   "cell_type": "markdown",
   "id": "1908c9e9",
   "metadata": {},
   "source": [
    "## Author Data Part"
   ]
  }
 ],
 "metadata": {
  "kernelspec": {
   "display_name": "Python 3 (ipykernel)",
   "language": "python",
   "name": "python3"
  },
  "language_info": {
   "codemirror_mode": {
    "name": "ipython",
    "version": 3
   },
   "file_extension": ".py",
   "mimetype": "text/x-python",
   "name": "python",
   "nbconvert_exporter": "python",
   "pygments_lexer": "ipython3",
   "version": "3.10.2"
  }
 },
 "nbformat": 4,
 "nbformat_minor": 5
}

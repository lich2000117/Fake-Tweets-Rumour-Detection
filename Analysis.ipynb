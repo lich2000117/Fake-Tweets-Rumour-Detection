{
 "cells": [
  {
   "cell_type": "code",
   "execution_count": 1,
   "id": "a79126c7",
   "metadata": {},
   "outputs": [],
   "source": [
    "import pandas as pd"
   ]
  },
  {
   "cell_type": "code",
   "execution_count": 3,
   "id": "fe6ef0f5",
   "metadata": {},
   "outputs": [
    {
     "data": {
      "text/html": [
       "<div>\n",
       "<style scoped>\n",
       "    .dataframe tbody tr th:only-of-type {\n",
       "        vertical-align: middle;\n",
       "    }\n",
       "\n",
       "    .dataframe tbody tr th {\n",
       "        vertical-align: top;\n",
       "    }\n",
       "\n",
       "    .dataframe thead th {\n",
       "        text-align: right;\n",
       "    }\n",
       "</style>\n",
       "<table border=\"1\" class=\"dataframe\">\n",
       "  <thead>\n",
       "    <tr style=\"text-align: right;\">\n",
       "      <th></th>\n",
       "      <th>id</th>\n",
       "      <th>created_at</th>\n",
       "      <th>author_id</th>\n",
       "      <th>lang</th>\n",
       "      <th>reply_settings</th>\n",
       "      <th>source</th>\n",
       "      <th>withheld</th>\n",
       "      <th>public_metrics</th>\n",
       "      <th>entities</th>\n",
       "      <th>text</th>\n",
       "    </tr>\n",
       "  </thead>\n",
       "  <tbody>\n",
       "    <tr>\n",
       "      <th>0</th>\n",
       "      <td>652783670370115585</td>\n",
       "      <td>2015-10-10 09:52:09+00:00</td>\n",
       "      <td>2425231</td>\n",
       "      <td>en</td>\n",
       "      <td>everyone</td>\n",
       "      <td>Buffer</td>\n",
       "      <td>False</td>\n",
       "      <td>{'retweet_count': 355, 'reply_count': 2, 'like...</td>\n",
       "      <td>{'annotations': [{'start': 0, 'end': 9, 'proba...</td>\n",
       "      <td>Steve Jobs was adopted. His biological father ...</td>\n",
       "    </tr>\n",
       "    <tr>\n",
       "      <th>1</th>\n",
       "      <td>1241350499636367360</td>\n",
       "      <td>2020-03-21 13:06:36+00:00</td>\n",
       "      <td>97622129</td>\n",
       "      <td>en</td>\n",
       "      <td>everyone</td>\n",
       "      <td>Twitter for Android</td>\n",
       "      <td>False</td>\n",
       "      <td>{'retweet_count': 8, 'reply_count': 1, 'like_c...</td>\n",
       "      <td>{'mentions': [{'start': 123, 'end': 127, 'user...</td>\n",
       "      <td>Who is now spreading this  unscientific claim ...</td>\n",
       "    </tr>\n",
       "    <tr>\n",
       "      <th>2</th>\n",
       "      <td>1230539792439484422</td>\n",
       "      <td>2020-02-20 17:08:43+00:00</td>\n",
       "      <td>3323668840</td>\n",
       "      <td>en</td>\n",
       "      <td>everyone</td>\n",
       "      <td>SmarterQueue</td>\n",
       "      <td>False</td>\n",
       "      <td>{'retweet_count': 0, 'reply_count': 1, 'like_c...</td>\n",
       "      <td>{'hashtags': [{'start': 78, 'end': 82, 'tag': ...</td>\n",
       "      <td>All your questions on coronavirus answered in ...</td>\n",
       "    </tr>\n",
       "  </tbody>\n",
       "</table>\n",
       "</div>"
      ],
      "text/plain": [
       "                    id                created_at   author_id lang  \\\n",
       "0   652783670370115585 2015-10-10 09:52:09+00:00     2425231   en   \n",
       "1  1241350499636367360 2020-03-21 13:06:36+00:00    97622129   en   \n",
       "2  1230539792439484422 2020-02-20 17:08:43+00:00  3323668840   en   \n",
       "\n",
       "  reply_settings               source  withheld  \\\n",
       "0       everyone               Buffer     False   \n",
       "1       everyone  Twitter for Android     False   \n",
       "2       everyone         SmarterQueue     False   \n",
       "\n",
       "                                      public_metrics  \\\n",
       "0  {'retweet_count': 355, 'reply_count': 2, 'like...   \n",
       "1  {'retweet_count': 8, 'reply_count': 1, 'like_c...   \n",
       "2  {'retweet_count': 0, 'reply_count': 1, 'like_c...   \n",
       "\n",
       "                                            entities  \\\n",
       "0  {'annotations': [{'start': 0, 'end': 9, 'proba...   \n",
       "1  {'mentions': [{'start': 123, 'end': 127, 'user...   \n",
       "2  {'hashtags': [{'start': 78, 'end': 82, 'tag': ...   \n",
       "\n",
       "                                                text  \n",
       "0  Steve Jobs was adopted. His biological father ...  \n",
       "1  Who is now spreading this  unscientific claim ...  \n",
       "2  All your questions on coronavirus answered in ...  "
      ]
     },
     "execution_count": 3,
     "metadata": {},
     "output_type": "execute_result"
    }
   ],
   "source": [
    "SOURCE_TWITTER_PATH = \"./full_data/data_storage/full_train_source_only.json\"\n",
    "FULL_TWITTER_PATH = \"./full_data/data_storage/full_train.json\"\n",
    "\n",
    "source_df = pd.read_json(SOURCE_TWITTER_PATH)\n",
    "source_df.head(3)"
   ]
  }
 ],
 "metadata": {
  "kernelspec": {
   "display_name": "Python 3 (ipykernel)",
   "language": "python",
   "name": "python3"
  },
  "language_info": {
   "codemirror_mode": {
    "name": "ipython",
    "version": 3
   },
   "file_extension": ".py",
   "mimetype": "text/x-python",
   "name": "python",
   "nbconvert_exporter": "python",
   "pygments_lexer": "ipython3",
   "version": "3.10.2"
  }
 },
 "nbformat": 4,
 "nbformat_minor": 5
}

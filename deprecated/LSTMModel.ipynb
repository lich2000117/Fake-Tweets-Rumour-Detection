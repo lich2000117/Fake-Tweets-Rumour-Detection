{
 "cells": [
  {
   "cell_type": "markdown",
   "metadata": {
    "id": "0zgrnfLzCjfY"
   },
   "source": [
    "TRY:\n",
    "converting LSTM to Bidirectional layer \\\n",
    "changing the loss function\\\n",
    "changing the embedding size?\\"
   ]
  },
  {
   "cell_type": "code",
   "execution_count": 1,
   "metadata": {
    "id": "pkhlQH92FvyB"
   },
   "outputs": [],
   "source": [
    "import pandas as pd\n",
    "# Train data\n",
    "DATA_ID_PATH           = \"train.data.txt\"\n",
    "Y_TRAIN_ID_PATH        = \"train.label.txt\"\n",
    "FULL_TWITTER_PATH      = \"full_train.json\"\n",
    "\n",
    "# Dev data\n",
    "DEV_DATA_ID_PATH       = \"dev.data.txt\"\n",
    "DEV_Y_TRAIN_ID_PATH    = \"dev.label.txt\"\n",
    "DEV_FULL_TWITTER_PATH  = \"full_dev.json\"\n",
    "\n",
    "# Test data\n",
    "TEST_DATA_ID_PATH      = \"test.data.txt\"\n",
    "TEST_FULL_TWITTER_PATH = \"test_data.json\""
   ]
  },
  {
   "cell_type": "code",
   "execution_count": 2,
   "metadata": {
    "id": "_TF6dYaDfbkU"
   },
   "outputs": [],
   "source": [
    "def convert_replies_id_to_sorted_text(list_of_id, data_df):\n",
    "    \"\"\"Convert a list of tweet ids to a list of its corresponding text in data_df\n",
    "    Sort by tweets original create time\"\"\"\n",
    "    if type(list_of_id) is not list:\n",
    "        # if input is a single id convert type\n",
    "        list_of_id = [list_of_id]\n",
    "    # Select dataframe based on a list of ids\n",
    "    selected_df = data_df[data_df['id'].astype(str).isin(list_of_id)]\n",
    "    # Sort by their created time\n",
    "    sorted_df = selected_df.sort_values(by = [\"created_at\"])\n",
    "    # Select text fields only\n",
    "    text_list = sorted_df[\"text\"].to_list()\n",
    "    return text_list"
   ]
  },
  {
   "cell_type": "code",
   "execution_count": 3,
   "metadata": {
    "id": "wKymF1CvGMIj"
   },
   "outputs": [],
   "source": [
    "def join_data_id_label_v2(LABEL_PATH, ID_PATH, DATA_PATH):\n",
    "    # Process Labels\n",
    "    if LABEL_PATH:\n",
    "        # 1: Rumour\n",
    "        # 0: NonRumour\n",
    "        with open(LABEL_PATH, \"r\") as f:\n",
    "            y_label = f.read().strip().split(\"\\n\") # remove next line\n",
    "        y_label = pd.DataFrame(y_label, columns = [\"label\"])\n",
    "        y_label[y_label[\"label\"]==\"rumour\"] = 1\n",
    "        y_label[y_label[\"label\"]==\"nonrumour\"] = 0\n",
    "\n",
    "    ## Get Dataframe Id, with first id as source Id, and values as replies, not using dict since we have duplicated keys\n",
    "    total_id_list = []\n",
    "    with open(ID_PATH, \"r\") as f:\n",
    "        for line in f:\n",
    "            line = line.strip().split(',') # remove next line\n",
    "            source_id = line[0]\n",
    "            if len(line) > 1:\n",
    "                # if we have replies id\n",
    "                replies_id = line[1:]\n",
    "            else:\n",
    "                replies_id = []\n",
    "            row = [source_id, replies_id]\n",
    "            total_id_list.append(row)\n",
    "    len(total_id_list)\n",
    "    \n",
    "    ## Create a dataframe containing a list of replies\n",
    "    source_df = pd.DataFrame(total_id_list, columns = ['source_id', 'replies_id'])\n",
    "    data_df = pd.read_json(DATA_PATH)\n",
    "    source_df[\"reply_text_list\"] = source_df[\"replies_id\"].apply(convert_replies_id_to_sorted_text, data_df = data_df)\n",
    "    source_df[\"source_text\"] = source_df[\"source_id\"].apply(convert_replies_id_to_sorted_text, data_df = data_df)\n",
    "\n",
    "    if LABEL_PATH:\n",
    "      source_df[\"label\"] = y_label\n",
    "    return source_df"
   ]
  },
  {
   "cell_type": "code",
   "execution_count": 4,
   "metadata": {
    "id": "6TRGt1xsHN-X"
   },
   "outputs": [],
   "source": [
    "import re\n",
    "def remove_URL(original):\n",
    "    \"\"\"Remove url link in the text\"\"\"\n",
    "    result = re.sub(r\"http\\S+\", \"\", original)\n",
    "    result = re.sub(r\"www.\\S+\", \"\", result)\n",
    "    result = re.sub(r\"wasap.my+\", \"\", result)\n",
    "    return result"
   ]
  },
  {
   "cell_type": "code",
   "execution_count": 5,
   "metadata": {
    "id": "uFmxb4LRHQ8q"
   },
   "outputs": [],
   "source": [
    "def preprocess(IDS, DATA, LABELS=False):\n",
    "    \"\"\"Function to combine all the preprocessing steps\"\"\"\n",
    "    data = join_data_id_label_v2(LABELS, IDS, DATA)\n",
    "    ## 1. Only keep english tweets as most of them are in english\n",
    "    # Use only text data and remove URLs\n",
    "    \n",
    "    data[\"text\"] = data[\"source_text\"].apply(\"\".join) + \" \" + data[\"reply_text_list\"].apply(\" \".join)\n",
    "    data[\"sentence\"] = data[\"text\"].apply(remove_URL)\n",
    "    if LABELS:\n",
    "      data = data[['sentence','label']]\n",
    "    else:\n",
    "      data = data[['sentence']]\n",
    "    \n",
    "    return data"
   ]
  },
  {
   "cell_type": "code",
   "execution_count": 6,
   "metadata": {
    "colab": {
     "base_uri": "https://localhost:8080/",
     "height": 423
    },
    "id": "hu8er98PIL34",
    "outputId": "be450a79-1812-4759-f283-497d2647b0ef"
   },
   "outputs": [
    {
     "data": {
      "text/html": [
       "\n",
       "  <div id=\"df-fa1949ab-c632-4508-b0d4-59e5ad5b1194\">\n",
       "    <div class=\"colab-df-container\">\n",
       "      <div>\n",
       "<style scoped>\n",
       "    .dataframe tbody tr th:only-of-type {\n",
       "        vertical-align: middle;\n",
       "    }\n",
       "\n",
       "    .dataframe tbody tr th {\n",
       "        vertical-align: top;\n",
       "    }\n",
       "\n",
       "    .dataframe thead th {\n",
       "        text-align: right;\n",
       "    }\n",
       "</style>\n",
       "<table border=\"1\" class=\"dataframe\">\n",
       "  <thead>\n",
       "    <tr style=\"text-align: right;\">\n",
       "      <th></th>\n",
       "      <th>sentence</th>\n",
       "      <th>label</th>\n",
       "    </tr>\n",
       "  </thead>\n",
       "  <tbody>\n",
       "    <tr>\n",
       "      <th>0</th>\n",
       "      <td>5. Can regularly rinsing your nose with saline...</td>\n",
       "      <td>0</td>\n",
       "    </tr>\n",
       "    <tr>\n",
       "      <th>1</th>\n",
       "      <td>French police chief killed himself after #Char...</td>\n",
       "      <td>1</td>\n",
       "    </tr>\n",
       "    <tr>\n",
       "      <th>2</th>\n",
       "      <td>Coronavirus disease (COVID-19) advice for the ...</td>\n",
       "      <td>0</td>\n",
       "    </tr>\n",
       "    <tr>\n",
       "      <th>3</th>\n",
       "      <td>Ottawa police confirm that there were multiple...</td>\n",
       "      <td>0</td>\n",
       "    </tr>\n",
       "    <tr>\n",
       "      <th>4</th>\n",
       "      <td>if the primary focus of a government isn't to ...</td>\n",
       "      <td>0</td>\n",
       "    </tr>\n",
       "    <tr>\n",
       "      <th>...</th>\n",
       "      <td>...</td>\n",
       "      <td>...</td>\n",
       "    </tr>\n",
       "    <tr>\n",
       "      <th>1890</th>\n",
       "      <td>Desperate Ted Cruz Claims Planned Parenthood S...</td>\n",
       "      <td>1</td>\n",
       "    </tr>\n",
       "    <tr>\n",
       "      <th>1891</th>\n",
       "      <td>\"Thoughts and prayers are not enough.\" Pres. O...</td>\n",
       "      <td>1</td>\n",
       "    </tr>\n",
       "    <tr>\n",
       "      <th>1892</th>\n",
       "      <td>Police have surrounded this building where the...</td>\n",
       "      <td>0</td>\n",
       "    </tr>\n",
       "    <tr>\n",
       "      <th>1893</th>\n",
       "      <td>@Kirstenjoyweiss @MattFabrication @prestone85...</td>\n",
       "      <td>0</td>\n",
       "    </tr>\n",
       "    <tr>\n",
       "      <th>1894</th>\n",
       "      <td>@lynneSimpkin I can help! 👩‍🏫\\n9am: Socialism ...</td>\n",
       "      <td>0</td>\n",
       "    </tr>\n",
       "  </tbody>\n",
       "</table>\n",
       "<p>1895 rows × 2 columns</p>\n",
       "</div>\n",
       "      <button class=\"colab-df-convert\" onclick=\"convertToInteractive('df-fa1949ab-c632-4508-b0d4-59e5ad5b1194')\"\n",
       "              title=\"Convert this dataframe to an interactive table.\"\n",
       "              style=\"display:none;\">\n",
       "        \n",
       "  <svg xmlns=\"http://www.w3.org/2000/svg\" height=\"24px\"viewBox=\"0 0 24 24\"\n",
       "       width=\"24px\">\n",
       "    <path d=\"M0 0h24v24H0V0z\" fill=\"none\"/>\n",
       "    <path d=\"M18.56 5.44l.94 2.06.94-2.06 2.06-.94-2.06-.94-.94-2.06-.94 2.06-2.06.94zm-11 1L8.5 8.5l.94-2.06 2.06-.94-2.06-.94L8.5 2.5l-.94 2.06-2.06.94zm10 10l.94 2.06.94-2.06 2.06-.94-2.06-.94-.94-2.06-.94 2.06-2.06.94z\"/><path d=\"M17.41 7.96l-1.37-1.37c-.4-.4-.92-.59-1.43-.59-.52 0-1.04.2-1.43.59L10.3 9.45l-7.72 7.72c-.78.78-.78 2.05 0 2.83L4 21.41c.39.39.9.59 1.41.59.51 0 1.02-.2 1.41-.59l7.78-7.78 2.81-2.81c.8-.78.8-2.07 0-2.86zM5.41 20L4 18.59l7.72-7.72 1.47 1.35L5.41 20z\"/>\n",
       "  </svg>\n",
       "      </button>\n",
       "      \n",
       "  <style>\n",
       "    .colab-df-container {\n",
       "      display:flex;\n",
       "      flex-wrap:wrap;\n",
       "      gap: 12px;\n",
       "    }\n",
       "\n",
       "    .colab-df-convert {\n",
       "      background-color: #E8F0FE;\n",
       "      border: none;\n",
       "      border-radius: 50%;\n",
       "      cursor: pointer;\n",
       "      display: none;\n",
       "      fill: #1967D2;\n",
       "      height: 32px;\n",
       "      padding: 0 0 0 0;\n",
       "      width: 32px;\n",
       "    }\n",
       "\n",
       "    .colab-df-convert:hover {\n",
       "      background-color: #E2EBFA;\n",
       "      box-shadow: 0px 1px 2px rgba(60, 64, 67, 0.3), 0px 1px 3px 1px rgba(60, 64, 67, 0.15);\n",
       "      fill: #174EA6;\n",
       "    }\n",
       "\n",
       "    [theme=dark] .colab-df-convert {\n",
       "      background-color: #3B4455;\n",
       "      fill: #D2E3FC;\n",
       "    }\n",
       "\n",
       "    [theme=dark] .colab-df-convert:hover {\n",
       "      background-color: #434B5C;\n",
       "      box-shadow: 0px 1px 3px 1px rgba(0, 0, 0, 0.15);\n",
       "      filter: drop-shadow(0px 1px 2px rgba(0, 0, 0, 0.3));\n",
       "      fill: #FFFFFF;\n",
       "    }\n",
       "  </style>\n",
       "\n",
       "      <script>\n",
       "        const buttonEl =\n",
       "          document.querySelector('#df-fa1949ab-c632-4508-b0d4-59e5ad5b1194 button.colab-df-convert');\n",
       "        buttonEl.style.display =\n",
       "          google.colab.kernel.accessAllowed ? 'block' : 'none';\n",
       "\n",
       "        async function convertToInteractive(key) {\n",
       "          const element = document.querySelector('#df-fa1949ab-c632-4508-b0d4-59e5ad5b1194');\n",
       "          const dataTable =\n",
       "            await google.colab.kernel.invokeFunction('convertToInteractive',\n",
       "                                                     [key], {});\n",
       "          if (!dataTable) return;\n",
       "\n",
       "          const docLinkHtml = 'Like what you see? Visit the ' +\n",
       "            '<a target=\"_blank\" href=https://colab.research.google.com/notebooks/data_table.ipynb>data table notebook</a>'\n",
       "            + ' to learn more about interactive tables.';\n",
       "          element.innerHTML = '';\n",
       "          dataTable['output_type'] = 'display_data';\n",
       "          await google.colab.output.renderOutput(dataTable, element);\n",
       "          const docLink = document.createElement('div');\n",
       "          docLink.innerHTML = docLinkHtml;\n",
       "          element.appendChild(docLink);\n",
       "        }\n",
       "      </script>\n",
       "    </div>\n",
       "  </div>\n",
       "  "
      ],
      "text/plain": [
       "                                               sentence label\n",
       "0     5. Can regularly rinsing your nose with saline...     0\n",
       "1     French police chief killed himself after #Char...     1\n",
       "2     Coronavirus disease (COVID-19) advice for the ...     0\n",
       "3     Ottawa police confirm that there were multiple...     0\n",
       "4     if the primary focus of a government isn't to ...     0\n",
       "...                                                 ...   ...\n",
       "1890  Desperate Ted Cruz Claims Planned Parenthood S...     1\n",
       "1891  \"Thoughts and prayers are not enough.\" Pres. O...     1\n",
       "1892  Police have surrounded this building where the...     0\n",
       "1893   @Kirstenjoyweiss @MattFabrication @prestone85...     0\n",
       "1894  @lynneSimpkin I can help! 👩‍🏫\\n9am: Socialism ...     0\n",
       "\n",
       "[1895 rows x 2 columns]"
      ]
     },
     "execution_count": 6,
     "metadata": {},
     "output_type": "execute_result"
    }
   ],
   "source": [
    "data_train = preprocess(DATA_ID_PATH, FULL_TWITTER_PATH, LABELS=Y_TRAIN_ID_PATH)\n",
    "data_train"
   ]
  },
  {
   "cell_type": "code",
   "execution_count": 7,
   "metadata": {
    "colab": {
     "base_uri": "https://localhost:8080/",
     "height": 423
    },
    "id": "Ru-WtdCV71s1",
    "outputId": "a13c8609-e677-4518-b4c5-efa7d52764fe"
   },
   "outputs": [
    {
     "data": {
      "text/html": [
       "\n",
       "  <div id=\"df-62b34b99-4cd5-46ce-935e-fcfccbcedef9\">\n",
       "    <div class=\"colab-df-container\">\n",
       "      <div>\n",
       "<style scoped>\n",
       "    .dataframe tbody tr th:only-of-type {\n",
       "        vertical-align: middle;\n",
       "    }\n",
       "\n",
       "    .dataframe tbody tr th {\n",
       "        vertical-align: top;\n",
       "    }\n",
       "\n",
       "    .dataframe thead th {\n",
       "        text-align: right;\n",
       "    }\n",
       "</style>\n",
       "<table border=\"1\" class=\"dataframe\">\n",
       "  <thead>\n",
       "    <tr style=\"text-align: right;\">\n",
       "      <th></th>\n",
       "      <th>sentence</th>\n",
       "      <th>label</th>\n",
       "    </tr>\n",
       "  </thead>\n",
       "  <tbody>\n",
       "    <tr>\n",
       "      <th>0</th>\n",
       "      <td>COVID-19 Fact:\\nAre hand dryers effective in k...</td>\n",
       "      <td>0</td>\n",
       "    </tr>\n",
       "    <tr>\n",
       "      <th>1</th>\n",
       "      <td>@atruchecks when can we expect the result of m...</td>\n",
       "      <td>0</td>\n",
       "    </tr>\n",
       "    <tr>\n",
       "      <th>2</th>\n",
       "      <td>How does COVID-19 spread? \\n\\nPeople can catch...</td>\n",
       "      <td>0</td>\n",
       "    </tr>\n",
       "    <tr>\n",
       "      <th>3</th>\n",
       "      <td>every news outlet using headlines like,\\n\\n\"ar...</td>\n",
       "      <td>0</td>\n",
       "    </tr>\n",
       "    <tr>\n",
       "      <th>4</th>\n",
       "      <td>Researcher @naskrecki on his encounter with a ...</td>\n",
       "      <td>0</td>\n",
       "    </tr>\n",
       "    <tr>\n",
       "      <th>...</th>\n",
       "      <td>...</td>\n",
       "      <td>...</td>\n",
       "    </tr>\n",
       "    <tr>\n",
       "      <th>627</th>\n",
       "      <td>or cure for COVID-19. However, there are sever...</td>\n",
       "      <td>0</td>\n",
       "    </tr>\n",
       "    <tr>\n",
       "      <th>628</th>\n",
       "      <td>After speculation that he’s been arrested, Ban...</td>\n",
       "      <td>1</td>\n",
       "    </tr>\n",
       "    <tr>\n",
       "      <th>629</th>\n",
       "      <td>*Your questions answered*❓\\n\\n*Reply with the ...</td>\n",
       "      <td>0</td>\n",
       "    </tr>\n",
       "    <tr>\n",
       "      <th>630</th>\n",
       "      <td>►#Anonymous Operation #KKK ►Ku Klux Klan, We n...</td>\n",
       "      <td>1</td>\n",
       "    </tr>\n",
       "    <tr>\n",
       "      <th>631</th>\n",
       "      <td>Exposing yourself to the sun or to temperature...</td>\n",
       "      <td>0</td>\n",
       "    </tr>\n",
       "  </tbody>\n",
       "</table>\n",
       "<p>632 rows × 2 columns</p>\n",
       "</div>\n",
       "      <button class=\"colab-df-convert\" onclick=\"convertToInteractive('df-62b34b99-4cd5-46ce-935e-fcfccbcedef9')\"\n",
       "              title=\"Convert this dataframe to an interactive table.\"\n",
       "              style=\"display:none;\">\n",
       "        \n",
       "  <svg xmlns=\"http://www.w3.org/2000/svg\" height=\"24px\"viewBox=\"0 0 24 24\"\n",
       "       width=\"24px\">\n",
       "    <path d=\"M0 0h24v24H0V0z\" fill=\"none\"/>\n",
       "    <path d=\"M18.56 5.44l.94 2.06.94-2.06 2.06-.94-2.06-.94-.94-2.06-.94 2.06-2.06.94zm-11 1L8.5 8.5l.94-2.06 2.06-.94-2.06-.94L8.5 2.5l-.94 2.06-2.06.94zm10 10l.94 2.06.94-2.06 2.06-.94-2.06-.94-.94-2.06-.94 2.06-2.06.94z\"/><path d=\"M17.41 7.96l-1.37-1.37c-.4-.4-.92-.59-1.43-.59-.52 0-1.04.2-1.43.59L10.3 9.45l-7.72 7.72c-.78.78-.78 2.05 0 2.83L4 21.41c.39.39.9.59 1.41.59.51 0 1.02-.2 1.41-.59l7.78-7.78 2.81-2.81c.8-.78.8-2.07 0-2.86zM5.41 20L4 18.59l7.72-7.72 1.47 1.35L5.41 20z\"/>\n",
       "  </svg>\n",
       "      </button>\n",
       "      \n",
       "  <style>\n",
       "    .colab-df-container {\n",
       "      display:flex;\n",
       "      flex-wrap:wrap;\n",
       "      gap: 12px;\n",
       "    }\n",
       "\n",
       "    .colab-df-convert {\n",
       "      background-color: #E8F0FE;\n",
       "      border: none;\n",
       "      border-radius: 50%;\n",
       "      cursor: pointer;\n",
       "      display: none;\n",
       "      fill: #1967D2;\n",
       "      height: 32px;\n",
       "      padding: 0 0 0 0;\n",
       "      width: 32px;\n",
       "    }\n",
       "\n",
       "    .colab-df-convert:hover {\n",
       "      background-color: #E2EBFA;\n",
       "      box-shadow: 0px 1px 2px rgba(60, 64, 67, 0.3), 0px 1px 3px 1px rgba(60, 64, 67, 0.15);\n",
       "      fill: #174EA6;\n",
       "    }\n",
       "\n",
       "    [theme=dark] .colab-df-convert {\n",
       "      background-color: #3B4455;\n",
       "      fill: #D2E3FC;\n",
       "    }\n",
       "\n",
       "    [theme=dark] .colab-df-convert:hover {\n",
       "      background-color: #434B5C;\n",
       "      box-shadow: 0px 1px 3px 1px rgba(0, 0, 0, 0.15);\n",
       "      filter: drop-shadow(0px 1px 2px rgba(0, 0, 0, 0.3));\n",
       "      fill: #FFFFFF;\n",
       "    }\n",
       "  </style>\n",
       "\n",
       "      <script>\n",
       "        const buttonEl =\n",
       "          document.querySelector('#df-62b34b99-4cd5-46ce-935e-fcfccbcedef9 button.colab-df-convert');\n",
       "        buttonEl.style.display =\n",
       "          google.colab.kernel.accessAllowed ? 'block' : 'none';\n",
       "\n",
       "        async function convertToInteractive(key) {\n",
       "          const element = document.querySelector('#df-62b34b99-4cd5-46ce-935e-fcfccbcedef9');\n",
       "          const dataTable =\n",
       "            await google.colab.kernel.invokeFunction('convertToInteractive',\n",
       "                                                     [key], {});\n",
       "          if (!dataTable) return;\n",
       "\n",
       "          const docLinkHtml = 'Like what you see? Visit the ' +\n",
       "            '<a target=\"_blank\" href=https://colab.research.google.com/notebooks/data_table.ipynb>data table notebook</a>'\n",
       "            + ' to learn more about interactive tables.';\n",
       "          element.innerHTML = '';\n",
       "          dataTable['output_type'] = 'display_data';\n",
       "          await google.colab.output.renderOutput(dataTable, element);\n",
       "          const docLink = document.createElement('div');\n",
       "          docLink.innerHTML = docLinkHtml;\n",
       "          element.appendChild(docLink);\n",
       "        }\n",
       "      </script>\n",
       "    </div>\n",
       "  </div>\n",
       "  "
      ],
      "text/plain": [
       "                                              sentence label\n",
       "0    COVID-19 Fact:\\nAre hand dryers effective in k...     0\n",
       "1    @atruchecks when can we expect the result of m...     0\n",
       "2    How does COVID-19 spread? \\n\\nPeople can catch...     0\n",
       "3    every news outlet using headlines like,\\n\\n\"ar...     0\n",
       "4    Researcher @naskrecki on his encounter with a ...     0\n",
       "..                                                 ...   ...\n",
       "627  or cure for COVID-19. However, there are sever...     0\n",
       "628  After speculation that he’s been arrested, Ban...     1\n",
       "629  *Your questions answered*❓\\n\\n*Reply with the ...     0\n",
       "630  ►#Anonymous Operation #KKK ►Ku Klux Klan, We n...     1\n",
       "631  Exposing yourself to the sun or to temperature...     0\n",
       "\n",
       "[632 rows x 2 columns]"
      ]
     },
     "execution_count": 7,
     "metadata": {},
     "output_type": "execute_result"
    }
   ],
   "source": [
    "data_dev = preprocess(DEV_DATA_ID_PATH, DEV_FULL_TWITTER_PATH, LABELS=DEV_Y_TRAIN_ID_PATH)\n",
    "data_dev"
   ]
  },
  {
   "cell_type": "code",
   "execution_count": 60,
   "metadata": {
    "colab": {
     "base_uri": "https://localhost:8080/"
    },
    "id": "aILVw7IhFWJ3",
    "outputId": "2c512537-619f-4b33-8276-d4c9413eca8f"
   },
   "outputs": [
    {
     "data": {
      "text/plain": [
       "469"
      ]
     },
     "execution_count": 60,
     "metadata": {},
     "output_type": "execute_result"
    }
   ],
   "source": [
    "data_test = preprocess(TEST_DATA_ID_PATH, TEST_FULL_TWITTER_PATH)\n",
    "data_test"
   ]
  },
  {
   "cell_type": "code",
   "execution_count": 33,
   "metadata": {
    "id": "avvhM-IvOtc5"
   },
   "outputs": [],
   "source": [
    "# Run this cell and not the one below if you want to evaluate on dev set\n",
    "\"\"\"\n",
    "import random\n",
    "import numpy as np\n",
    "\n",
    "sentences_train_data = data_train['sentence'].values\n",
    "labels_train = data_train['label'].values\n",
    "\n",
    "sentences_dev_data   = data_dev['sentence'].values\n",
    "labels_dev = data_dev['label'].values\n",
    "\n",
    "#partition data for train/dev/test\n",
    "sentences_train, y_train = sentences_train_data[:1500], labels_train[:1500]\n",
    "sentences_dev, y_dev = sentences_train_data[1500:], labels_train[1500:]\n",
    "sentences_test, y_test = sentences_dev_data, labels_dev\n",
    "\n",
    "\n",
    "#convert label list into arrays\n",
    "y_train = np.array(y_train).astype('float32')\n",
    "y_dev = np.array(y_dev).astype('float32')\n",
    "y_test = np.array(y_test).astype('float32')\n",
    "\"\"\""
   ]
  },
  {
   "cell_type": "code",
   "execution_count": 40,
   "metadata": {
    "id": "tmHx0SdjJe68"
   },
   "outputs": [],
   "source": [
    "# Run this cell and not the one above if you want to make final predictions\n",
    "import random\n",
    "import numpy as np\n",
    "sentences_train = data_train['sentence'].values\n",
    "y_train         = data_train['label'].values\n",
    "\n",
    "sentences_dev   = data_dev['sentence'].values\n",
    "y_dev           = data_dev['label'].values\n",
    "\n",
    "sentences_test  = data_test['sentence'].values\n",
    "\n",
    "#convert label list into arrays\n",
    "y_train = np.array(y_train).astype('float32')\n",
    "y_dev = np.array(y_dev).astype('float32')"
   ]
  },
  {
   "cell_type": "code",
   "execution_count": 41,
   "metadata": {
    "colab": {
     "base_uri": "https://localhost:8080/"
    },
    "id": "OB8OGCBfUVyj",
    "outputId": "9b2641e0-a29f-46c8-a4c1-1d452d4575e6"
   },
   "outputs": [
    {
     "name": "stdout",
     "output_type": "stream",
     "text": [
      "Vocab size = 31186\n"
     ]
    }
   ],
   "source": [
    "from keras.preprocessing.text import Tokenizer\n",
    "tokenizer = Tokenizer(oov_token=\"<UNK>\")\n",
    "tokenizer.fit_on_texts(sentences_train)\n",
    "\n",
    "vocab_size = tokenizer.texts_to_matrix(sentences_train, mode=\"count\").shape[1]\n",
    "\n",
    "print(\"Vocab size =\", vocab_size)"
   ]
  },
  {
   "cell_type": "code",
   "execution_count": 42,
   "metadata": {
    "id": "XDu530uuJ7D_"
   },
   "outputs": [],
   "source": [
    "from keras.models import Sequential\n",
    "from keras import layers\n",
    "from keras.preprocessing.sequence import pad_sequences\n",
    "\n",
    "maxlen = 50\n",
    "# Sequence tokenization\n",
    "xseq_train = tokenizer.texts_to_sequences(sentences_train)\n",
    "xseq_dev = tokenizer.texts_to_sequences(sentences_dev)\n",
    "xseq_test = tokenizer.texts_to_sequences(sentences_test)\n",
    "# Padding\n",
    "xseq_train = pad_sequences(xseq_train, padding='post', maxlen=maxlen)\n",
    "xseq_dev = pad_sequences(xseq_dev, padding='post', maxlen=maxlen)\n",
    "xseq_test = pad_sequences(xseq_test, padding='post', maxlen=maxlen)"
   ]
  },
  {
   "cell_type": "code",
   "execution_count": 43,
   "metadata": {
    "colab": {
     "base_uri": "https://localhost:8080/"
    },
    "id": "ZH6Zd6_mRXtU",
    "outputId": "7ebfef48-2b69-49cc-9531-b2051184fe9a"
   },
   "outputs": [
    {
     "name": "stdout",
     "output_type": "stream",
     "text": [
      "Model: \"lstm\"\n",
      "_________________________________________________________________\n",
      " Layer (type)                Output Shape              Param #   \n",
      "=================================================================\n",
      " embedding_5 (Embedding)     (None, 50, 10)            311860    \n",
      "                                                                 \n",
      " lstm_5 (LSTM)               (None, 10)                840       \n",
      "                                                                 \n",
      " dense_5 (Dense)             (None, 1)                 11        \n",
      "                                                                 \n",
      "=================================================================\n",
      "Total params: 312,711\n",
      "Trainable params: 312,711\n",
      "Non-trainable params: 0\n",
      "_________________________________________________________________\n"
     ]
    }
   ],
   "source": [
    "embedding_dim = 10\n",
    "\n",
    "from keras.layers import LSTM\n",
    "\n",
    "#word order preserved with this architecture\n",
    "lstm = Sequential(name=\"lstm\")\n",
    "lstm.add(layers.Embedding(input_dim=vocab_size, \n",
    "                           output_dim=embedding_dim, \n",
    "                           input_length=maxlen))\n",
    "lstm.add(LSTM(10))\n",
    "lstm.add(layers.Dense(1, activation='sigmoid'))\n",
    "lstm.compile(optimizer='adam',\n",
    "              loss='binary_crossentropy',\n",
    "              metrics=['accuracy'])\n",
    "lstm.summary()"
   ]
  },
  {
   "cell_type": "code",
   "execution_count": 44,
   "metadata": {
    "colab": {
     "base_uri": "https://localhost:8080/"
    },
    "id": "D1Us5BrWRuT1",
    "outputId": "a3241ca5-8a4b-451a-b507-ef11070d0cb4"
   },
   "outputs": [
    {
     "name": "stdout",
     "output_type": "stream",
     "text": [
      "Epoch 1/15\n",
      "190/190 [==============================] - 7s 27ms/step - loss: 0.5378 - accuracy: 0.7763 - val_loss: 0.4845 - val_accuracy: 0.7801\n",
      "Epoch 2/15\n",
      "190/190 [==============================] - 5s 24ms/step - loss: 0.3325 - accuracy: 0.8712 - val_loss: 0.3683 - val_accuracy: 0.8402\n",
      "Epoch 3/15\n",
      "190/190 [==============================] - 5s 24ms/step - loss: 0.1862 - accuracy: 0.9578 - val_loss: 0.4265 - val_accuracy: 0.8354\n",
      "Epoch 4/15\n",
      "190/190 [==============================] - 5s 24ms/step - loss: 0.1086 - accuracy: 0.9784 - val_loss: 0.4142 - val_accuracy: 0.8370\n",
      "Epoch 5/15\n",
      "190/190 [==============================] - 5s 24ms/step - loss: 0.0613 - accuracy: 0.9889 - val_loss: 0.3636 - val_accuracy: 0.8513\n",
      "Epoch 6/15\n",
      "190/190 [==============================] - 5s 24ms/step - loss: 0.0394 - accuracy: 0.9926 - val_loss: 0.4217 - val_accuracy: 0.8560\n",
      "Epoch 7/15\n",
      "190/190 [==============================] - 5s 24ms/step - loss: 0.0364 - accuracy: 0.9942 - val_loss: 0.4364 - val_accuracy: 0.8655\n",
      "Epoch 8/15\n",
      "190/190 [==============================] - 5s 24ms/step - loss: 0.0320 - accuracy: 0.9947 - val_loss: 0.4114 - val_accuracy: 0.8576\n",
      "Epoch 9/15\n",
      "190/190 [==============================] - 5s 24ms/step - loss: 0.0336 - accuracy: 0.9921 - val_loss: 0.4700 - val_accuracy: 0.8608\n",
      "Epoch 10/15\n",
      "190/190 [==============================] - 5s 24ms/step - loss: 0.0259 - accuracy: 0.9947 - val_loss: 0.8328 - val_accuracy: 0.8054\n",
      "Epoch 11/15\n",
      "190/190 [==============================] - 5s 24ms/step - loss: 0.1004 - accuracy: 0.9778 - val_loss: 0.5531 - val_accuracy: 0.8608\n",
      "Epoch 12/15\n",
      "190/190 [==============================] - 5s 24ms/step - loss: 0.0274 - accuracy: 0.9953 - val_loss: 0.4373 - val_accuracy: 0.8655\n",
      "Epoch 13/15\n",
      "190/190 [==============================] - 5s 24ms/step - loss: 0.0254 - accuracy: 0.9953 - val_loss: 0.4120 - val_accuracy: 0.8718\n",
      "Epoch 14/15\n",
      "190/190 [==============================] - 5s 24ms/step - loss: 0.0242 - accuracy: 0.9953 - val_loss: 0.4789 - val_accuracy: 0.8687\n",
      "Epoch 15/15\n",
      "190/190 [==============================] - 5s 24ms/step - loss: 0.0226 - accuracy: 0.9953 - val_loss: 0.5475 - val_accuracy: 0.8576\n"
     ]
    },
    {
     "data": {
      "text/plain": [
       "<keras.callbacks.History at 0x7efc9eed1d90>"
      ]
     },
     "execution_count": 44,
     "metadata": {},
     "output_type": "execute_result"
    }
   ],
   "source": [
    "lstm.fit(xseq_train, y_train, epochs=15, verbose=True, validation_data=(xseq_dev, y_dev), batch_size=10)\n",
    "\n",
    "#loss, accuracy = lstm.evaluate(xseq_test, y_test, verbose=False)\n",
    "#print(\"Testing Accuracy:  {:.4f}\".format(accuracy))"
   ]
  },
  {
   "cell_type": "code",
   "execution_count": 68,
   "metadata": {
    "id": "QDdcuX6ALUH9"
   },
   "outputs": [],
   "source": [
    "predictions = lstm.predict(xseq_test)\n",
    "classes = (predictions > 0.5).astype(\"int32\")"
   ]
  },
  {
   "cell_type": "code",
   "execution_count": 49,
   "metadata": {
    "id": "UHlx55g2uUlF"
   },
   "outputs": [],
   "source": [
    "# generate the csv for prediction\n",
    "def generate_csv(pred, csv_name):\n",
    "    ids = pd.Index(range(len(pred)), name='Id')\n",
    "    predictions = pd.DataFrame(pred, index=ids)\n",
    "    predictions.columns = ['Predicted']\n",
    "    predictions.to_csv(csv_name)"
   ]
  },
  {
   "cell_type": "code",
   "execution_count": 50,
   "metadata": {
    "id": "yhxFF81rtza-"
   },
   "outputs": [],
   "source": [
    "assert(len(classes)==558)\n",
    "generate_csv(classes, \"./LSTMPred1\")"
   ]
  },
  {
   "cell_type": "code",
   "execution_count": null,
   "metadata": {
    "id": "t1uuWrFzVBwS"
   },
   "outputs": [],
   "source": [
    "from sklearn.feature_extraction.text import TfidfVectorizer\n",
    "\n",
    "vectorizer = TfidfVectorizer()\n",
    "vectorizer.fit(sentences_train)\n",
    "\n",
    "xtf_train = vectorizer.transform(sentences_train)\n",
    "xtf_dev = vectorizer.transform(sentences_dev)\n",
    "xtf_test = vectorizer.transform(sentences_test)\n",
    "\n",
    "# Padding\n",
    "xtf_train = pad_sequences(xseq_train, padding='post', maxlen=maxlen)\n",
    "xtf_dev = pad_sequences(xseq_dev, padding='post', maxlen=maxlen)\n",
    "xtf_test = pad_sequences(xseq_test, padding='post', maxlen=maxlen)"
   ]
  },
  {
   "cell_type": "code",
   "execution_count": null,
   "metadata": {
    "colab": {
     "base_uri": "https://localhost:8080/"
    },
    "id": "TG-pR0_xBtGi",
    "outputId": "bbed2c6c-53e3-4ddb-c280-865a281a2cea"
   },
   "outputs": [
    {
     "name": "stdout",
     "output_type": "stream",
     "text": [
      "Epoch 1/10\n",
      "150/150 [==============================] - 5s 35ms/step - loss: 0.0689 - accuracy: 0.9900 - val_loss: 0.4090 - val_accuracy: 0.8650\n",
      "Epoch 2/10\n",
      "150/150 [==============================] - 5s 30ms/step - loss: 0.0595 - accuracy: 0.9920 - val_loss: 0.4361 - val_accuracy: 0.8750\n",
      "Epoch 3/10\n",
      "150/150 [==============================] - 4s 29ms/step - loss: 0.0517 - accuracy: 0.9927 - val_loss: 0.4947 - val_accuracy: 0.8650\n",
      "Epoch 4/10\n",
      "150/150 [==============================] - 4s 29ms/step - loss: 0.0525 - accuracy: 0.9913 - val_loss: 0.4200 - val_accuracy: 0.8850\n",
      "Epoch 5/10\n",
      "150/150 [==============================] - 4s 30ms/step - loss: 0.0470 - accuracy: 0.9933 - val_loss: 0.4418 - val_accuracy: 0.8850\n",
      "Epoch 6/10\n",
      "150/150 [==============================] - 5s 30ms/step - loss: 0.0440 - accuracy: 0.9933 - val_loss: 0.5084 - val_accuracy: 0.8700\n",
      "Epoch 7/10\n",
      "150/150 [==============================] - 4s 30ms/step - loss: 0.0393 - accuracy: 0.9940 - val_loss: 0.5565 - val_accuracy: 0.8600\n",
      "Epoch 8/10\n",
      "150/150 [==============================] - 4s 30ms/step - loss: 0.0380 - accuracy: 0.9940 - val_loss: 0.5981 - val_accuracy: 0.8550\n",
      "Epoch 9/10\n",
      "150/150 [==============================] - 5s 30ms/step - loss: 0.0372 - accuracy: 0.9940 - val_loss: 0.5763 - val_accuracy: 0.8650\n",
      "Epoch 10/10\n",
      "150/150 [==============================] - 4s 30ms/step - loss: 0.0366 - accuracy: 0.9940 - val_loss: 0.5965 - val_accuracy: 0.8600\n",
      "Testing Accuracy:  0.7744\n"
     ]
    }
   ],
   "source": [
    "lstm.fit(xtf_train, y_train, epochs=10, verbose=True, validation_data=(xtf_dev, y_dev), batch_size=10)\n",
    "\n",
    "loss, accuracy = lstm.evaluate(xtf_test, y_test, verbose=False)\n",
    "print(\"Testing Accuracy:  {:.4f}\".format(accuracy))"
   ]
  },
  {
   "cell_type": "code",
   "execution_count": null,
   "metadata": {
    "id": "qB7zg3j1DQd0"
   },
   "outputs": [],
   "source": []
  }
 ],
 "metadata": {
  "colab": {
   "collapsed_sections": [],
   "name": "LSTMModel.ipynb",
   "provenance": []
  },
  "kernelspec": {
   "display_name": "Python 3 (ipykernel)",
   "language": "python",
   "name": "python3"
  },
  "language_info": {
   "codemirror_mode": {
    "name": "ipython",
    "version": 3
   },
   "file_extension": ".py",
   "mimetype": "text/x-python",
   "name": "python",
   "nbconvert_exporter": "python",
   "pygments_lexer": "ipython3",
   "version": "3.10.4"
  }
 },
 "nbformat": 4,
 "nbformat_minor": 1
}

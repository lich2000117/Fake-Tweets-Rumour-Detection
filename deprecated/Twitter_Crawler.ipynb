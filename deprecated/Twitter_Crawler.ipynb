{
 "cells": [
  {
   "cell_type": "markdown",
   "id": "13697ecd",
   "metadata": {},
   "source": [
    "## How to Use this File?\n",
    "\n",
    "make sure added your personal bearer_token, define the path of the data and save path of the tweets.\n",
    "\n",
    "DATA_PATH is the destination of a txt file containing comma-separated twitter IDs.\n",
    "JSON_PATH is the save location of the crawlling tweets, it is a json file containing a list of tweets\n",
    "\n",
    "def Extend_Json: the function takes a list of dictionary as input, to extend the destination json file without reading it into memory\n",
    "\n",
    "def get_tweet: use API to get twitter from the web, it separates a list of IDs into 100-sized list chunks, so the number of requests sent should be \n",
    "\n",
    "#Requests = #ofIDs/100\n"
   ]
  },
  {
   "cell_type": "code",
   "execution_count": 3,
   "id": "970ddaf8",
   "metadata": {},
   "outputs": [],
   "source": [
    "import tweepy\n",
    "import numpy as np\n",
    "import time\n",
    "import json\n",
    "import os"
   ]
  },
  {
   "cell_type": "code",
   "execution_count": 4,
   "id": "21d3708d",
   "metadata": {},
   "outputs": [],
   "source": [
    "DATA_PATH = \"./id_data/covid.data.txt\"   # covid\n",
    "#DATA_PATH = \"./id_data/train.data.txt\"  # train\n",
    "\n",
    "AUTHOR_JSON_PATH = \"./full_data/author_ids.json\"\n",
    "\n",
    "SOURCE_STORY_ONLY = False\n",
    "if SOURCE_STORY_ONLY:\n",
    "    JSON_PATH = \"./full_data/full_covid_source_only.json\"   # SOURCE_STORY_ONLY=True\n",
    "else:\n",
    "    JSON_PATH = \"./full_data/full_covid.json\"\n"
   ]
  },
  {
   "cell_type": "markdown",
   "id": "e603572e",
   "metadata": {},
   "source": [
    "## Twitter API V2.0"
   ]
  },
  {
   "cell_type": "code",
   "execution_count": 5,
   "id": "dd4a6266",
   "metadata": {},
   "outputs": [],
   "source": [
    "bearer_token = \"AAAAAAAAAAAAAAAAAAAAAJzFbwEAAAAAiw1m4S%2FgkghMs%2BWfiVo6OswWgYE%3DGRQPPybZpQuJ1g2lFvxyH9yogZRQatwb6gT8X8ShhyYdjmqXGu\"\n",
    "\n",
    "client = tweepy.Client(bearer_token)"
   ]
  },
  {
   "cell_type": "markdown",
   "id": "e0556e63",
   "metadata": {},
   "source": [
    "## Twitter API V1.1"
   ]
  },
  {
   "cell_type": "code",
   "execution_count": 6,
   "id": "fb1877b2",
   "metadata": {},
   "outputs": [
    {
     "name": "stdout",
     "output_type": "stream",
     "text": [
      "FAAT_JOEY\n"
     ]
    }
   ],
   "source": [
    "## Twitter API V1.1\n",
    "consumer_key = \"PCyRF0jWO12cgQ88uQDkDoBes\"  # API_Key and secret\n",
    "consumer_secret = \"whVymp4fEIeKQEy1hrDghwRxKyW515QeUzFKq5fMvryoe1mOxT\"\n",
    "access_token = \"1357932194019217410-RmO2xXuajMNs98s6qw5DYHLAFzMcLZ\"\n",
    "access_token_secret = \"ptzYrYJF10qnGf8vU9wPdiuRNOAM3BXFxjMhOcxBZZcKz\"\n",
    "\n",
    "auth = tweepy.OAuth1UserHandler(\n",
    "    consumer_key, consumer_secret, access_token, access_token_secret\n",
    ")\n",
    "api = tweepy.API(auth)\n",
    "# If the authentication was successful, this should print the\n",
    "# screen name / username of the account\n",
    "print(api.verify_credentials().screen_name)"
   ]
  },
  {
   "cell_type": "code",
   "execution_count": 7,
   "id": "b1645ac7",
   "metadata": {},
   "outputs": [],
   "source": [
    "def Extend_Json(new_list_dict, File_PATH):\n",
    "    \"\"\"Extend a huge json file without loading it to the memory, input: new_dict is a list of json dictionary objects\"\"\"\n",
    "    # if file exists:\n",
    "    if os.path.exists(File_PATH):\n",
    "        if os.stat(File_PATH).st_size == 0:\n",
    "            print(\"asasdasdasd\")\n",
    "            # if file contains nothing, delete the file\n",
    "            os.remove(File_PATH)\n",
    "            # create another new json file\n",
    "            with open (File_PATH, mode=\"w\") as file:\n",
    "                json.dump(new_list_dict, file, indent=2)\n",
    "        else:\n",
    "            if new_list_dict: # if dict has value\n",
    "                with open (File_PATH, mode=\"r\") as file:\n",
    "                    data = json.load(file)\n",
    "                # Source: https://stackoverflow.com/questions/18087397/append-list-of-python-dictionaries-to-a-file-without-loading-it/31224105#31224105?newreg=6b7713ed96df42959bb9443daf7bb8ec\n",
    "                # two methods\n",
    "                # with open (File_PATH, mode=\"r+\") as file:\n",
    "                #     file.seek(0,2)  # 0 byte (0) from the end of file (2)\n",
    "                #     position = file.tell() -1\n",
    "                #     file.seek(position)\n",
    "                #     file.write( \",{}]\".format(json.dumps(new_dict)[1:-1]) )\n",
    "                with open (File_PATH, mode=\"r+\") as file:\n",
    "                    file.seek(os.stat(File_PATH).st_size -1)\n",
    "                    file.write( \",{}]\".format(json.dumps(new_list_dict, indent=2)[1:-1]) )\n",
    "    else:\n",
    "        # else, create a new json file\n",
    "        with open (File_PATH, mode=\"w\") as file:\n",
    "            json.dump(new_list_dict, file, indent=2)"
   ]
  },
  {
   "cell_type": "markdown",
   "id": "ad77f876",
   "metadata": {},
   "source": [
    "## Twitter Part\n",
    "Add dev and train twitter together"
   ]
  },
  {
   "cell_type": "code",
   "execution_count": 8,
   "id": "7583e67a",
   "metadata": {},
   "outputs": [
    {
     "data": {
      "text/plain": [
       "254633"
      ]
     },
     "execution_count": 8,
     "metadata": {},
     "output_type": "execute_result"
    }
   ],
   "source": [
    "train_id_list = []\n",
    "with open(DATA_PATH, \"r\") as f:\n",
    "    for line in f:\n",
    "        line = line.strip() # remove next line\n",
    "        if SOURCE_STORY_ONLY:\n",
    "            line = line.split(',')[0] # split into list\\\n",
    "        else:\n",
    "            line = line.split(',')\n",
    "        train_id_list.append(line)\n",
    "if not SOURCE_STORY_ONLY:\n",
    "    train_id_list = [item for sublist in train_id_list for item in sublist] # Flat into a single list\n",
    "train_id_list = list(set(train_id_list))\n",
    "len(train_id_list)"
   ]
  },
  {
   "cell_type": "code",
   "execution_count": 9,
   "id": "a36bb052",
   "metadata": {},
   "outputs": [
    {
     "data": {
      "text/plain": [
       "'\\nwith open(\"./id_data/dev.data.txt\", \"r\") as f:\\n    for line in f:\\n        line = line.strip() # remove next line\\n        if SOURCE_STORY_ONLY:\\n            line = line.split(\\',\\')[0] # split into list        else:\\n            line = line.split(\\',\\')\\n        dev_list.append(line)\\nif not SOURCE_STORY_ONLY:\\n    dev_list = [item for sublist in dev_list for item in sublist] # Flat into a single list\\ndev_list = list(set(dev_list))\\nlen(dev_list)'"
      ]
     },
     "execution_count": 9,
     "metadata": {},
     "output_type": "execute_result"
    }
   ],
   "source": [
    "dev_list = []\n",
    "\"\"\"\n",
    "with open(\"./id_data/dev.data.txt\", \"r\") as f:\n",
    "    for line in f:\n",
    "        line = line.strip() # remove next line\n",
    "        if SOURCE_STORY_ONLY:\n",
    "            line = line.split(',')[0] # split into list\\\n",
    "        else:\n",
    "            line = line.split(',')\n",
    "        dev_list.append(line)\n",
    "if not SOURCE_STORY_ONLY:\n",
    "    dev_list = [item for sublist in dev_list for item in sublist] # Flat into a single list\n",
    "dev_list = list(set(dev_list))\n",
    "len(dev_list)\"\"\""
   ]
  },
  {
   "cell_type": "code",
   "execution_count": 14,
   "id": "301f10a9",
   "metadata": {},
   "outputs": [
    {
     "data": {
      "text/plain": [
       "254633"
      ]
     },
     "execution_count": 14,
     "metadata": {},
     "output_type": "execute_result"
    }
   ],
   "source": [
    "total_id_list = set(train_id_list + dev_list)\n",
    "len(total_id_list)"
   ]
  },
  {
   "cell_type": "code",
   "execution_count": 15,
   "id": "8ef77c00",
   "metadata": {},
   "outputs": [
    {
     "name": "stdout",
     "output_type": "stream",
     "text": [
      "Number of twitter stored:  135539\n"
     ]
    },
    {
     "data": {
      "text/plain": [
       "135165"
      ]
     },
     "execution_count": 15,
     "metadata": {},
     "output_type": "execute_result"
    }
   ],
   "source": [
    "## Exclude Id that is already crawled in the file\n",
    "\n",
    "with open(JSON_PATH, \"r\") as f:\n",
    "    data = json.load(f)\n",
    "    print(\"Number of twitter stored: \", len(data))\n",
    "excluded_ids = list(set([row[\"id\"] for row in data ]))\n",
    "len(excluded_ids)"
   ]
  },
  {
   "cell_type": "code",
   "execution_count": 16,
   "id": "739f5650",
   "metadata": {},
   "outputs": [],
   "source": [
    "total_id_list = [id1 for id1 in total_id_list if id1 not in excluded_ids]\n",
    "len(total_id_list)"
   ]
  },
  {
   "cell_type": "code",
   "execution_count": null,
   "id": "874c1a68",
   "metadata": {},
   "outputs": [],
   "source": [
    "def get_twitter(client, list_ids, JSON_PATH, tweet_fields=[\"created_at\", \"author_id\", \"entities\", \"withheld\", \"public_metrics\", \"lang\", \"reply_settings\", \"source\"]):\n",
    "    \"\"\"Automatically get a list of tweeters, the function auto divide ids into chunks of size 800 to avoid excessive use of API,\n",
    "        auto create a Json file in the designated path.\"\"\"\n",
    "    CHUNK_SIZE = 99\n",
    "    ## Auto divide into sub-tasks\n",
    "    list_ids = list(set(list_ids))\n",
    "    if len(list_ids) > CHUNK_SIZE:\n",
    "        chunks_of_list = np.array_split(list_ids, int(len(list_ids)/CHUNK_SIZE)+1)\n",
    "    else:\n",
    "        chunks_of_list = list_ids\n",
    "    count = 0\n",
    "    \n",
    "    for sub_list in chunks_of_list:\n",
    "        ## Main loop to get twitter by chunks\n",
    "        output_list = []   # output list of dictionary of tweets\n",
    "        author_id_list = []  # store author ids to produce author database\n",
    "\n",
    "        tweet_ids = list(sub_list)\n",
    "        \n",
    "        # This endpoint/method returns a variety of information about the Tweet(s)\n",
    "        # specified by the requested ID or list of IDs\n",
    "        # By default, only the ID and text fields of each Tweet will be returned\n",
    "        # Additional fields are retrieved using the tweet_fields parameter, selected by hands to make sure we capture useful informations\n",
    "        try:\n",
    "            response = client.get_tweets(tweet_ids, tweet_fields=tweet_fields)\n",
    "        except:\n",
    "            time.sleep(910)\n",
    "            try:\n",
    "                response = client.get_tweets(tweet_ids, tweet_fields=tweet_fields)\n",
    "            except:\n",
    "                print(\"Skip + 1, \", str(count))\n",
    "                count += 1\n",
    "                continue\n",
    "            pass\n",
    "\n",
    "        for tweet in response.data:\n",
    "            # set withheld to true or false based on return\n",
    "            if tweet.withheld:\n",
    "                withheld = True\n",
    "            else:\n",
    "                withheld = False\n",
    "            tweet_dict = {\n",
    "                \"id\":              tweet.id,\n",
    "                \"created_at\":      str(tweet.created_at),\n",
    "                \"author_id\":       tweet.author_id, \n",
    "                \"lang\":            tweet.lang,\n",
    "                \"reply_settings\":  tweet.reply_settings,\n",
    "                \"source\":          tweet.source,\n",
    "                \"withheld\":        withheld,\n",
    "                \"public_metrics\":  tweet.public_metrics,\n",
    "                \"entities\":        tweet.entities,\n",
    "                \"text\":            tweet.text,\n",
    "            }\n",
    "            output_list.append(tweet_dict)\n",
    "            author_id_list.append(tweet.author_id) # record author informations as well\n",
    "            count += 1\n",
    "        \n",
    "        # Save to json file\n",
    "        Extend_Json(output_list, JSON_PATH)\n",
    "        Extend_Json(author_id_list, AUTHOR_JSON_PATH)\n",
    "        # Sleep 15 minutes to avoid API restrictions after processing 900 tweets\n",
    "        #if loop_count == 8: \n",
    "            #time.sleep(15*60)\n",
    "            #loop_count = 0\n",
    "    print(\"Total Tweeter :\", count)\n",
    "        "
   ]
  },
  {
   "cell_type": "code",
   "execution_count": null,
   "id": "84b7302d",
   "metadata": {},
   "outputs": [
    {
     "ename": "JSONDecodeError",
     "evalue": "Expecting property name enclosed in double quotes: line 1857145 column 23 (char 49810477)",
     "output_type": "error",
     "traceback": [
      "\u001b[1;31m---------------------------------------------------------------------------\u001b[0m",
      "\u001b[1;31mJSONDecodeError\u001b[0m                           Traceback (most recent call last)",
      "\u001b[1;32mf:\\GithubRepo\\Rumour-Detection-and-Analysis-on-Twitter\\Twitter_Crawler.ipynb Cell 14'\u001b[0m in \u001b[0;36m<cell line: 2>\u001b[1;34m()\u001b[0m\n\u001b[0;32m      <a href='vscode-notebook-cell:/f%3A/GithubRepo/Rumour-Detection-and-Analysis-on-Twitter/Twitter_Crawler.ipynb#ch0000013?line=0'>1</a>\u001b[0m \u001b[39m# Run getter.\u001b[39;00m\n\u001b[1;32m----> <a href='vscode-notebook-cell:/f%3A/GithubRepo/Rumour-Detection-and-Analysis-on-Twitter/Twitter_Crawler.ipynb#ch0000013?line=1'>2</a>\u001b[0m get_twitter(client, total_id_list, JSON_PATH)\n",
      "\u001b[1;32mf:\\GithubRepo\\Rumour-Detection-and-Analysis-on-Twitter\\Twitter_Crawler.ipynb Cell 13'\u001b[0m in \u001b[0;36mget_twitter\u001b[1;34m(client, list_ids, JSON_PATH, tweet_fields)\u001b[0m\n\u001b[0;32m     <a href='vscode-notebook-cell:/f%3A/GithubRepo/Rumour-Detection-and-Analysis-on-Twitter/Twitter_Crawler.ipynb#ch0000012?line=48'>49</a>\u001b[0m     count \u001b[39m+\u001b[39m\u001b[39m=\u001b[39m \u001b[39m1\u001b[39m\n\u001b[0;32m     <a href='vscode-notebook-cell:/f%3A/GithubRepo/Rumour-Detection-and-Analysis-on-Twitter/Twitter_Crawler.ipynb#ch0000012?line=50'>51</a>\u001b[0m \u001b[39m# Save to json file\u001b[39;00m\n\u001b[1;32m---> <a href='vscode-notebook-cell:/f%3A/GithubRepo/Rumour-Detection-and-Analysis-on-Twitter/Twitter_Crawler.ipynb#ch0000012?line=51'>52</a>\u001b[0m Extend_Json(output_list, JSON_PATH)\n\u001b[0;32m     <a href='vscode-notebook-cell:/f%3A/GithubRepo/Rumour-Detection-and-Analysis-on-Twitter/Twitter_Crawler.ipynb#ch0000012?line=52'>53</a>\u001b[0m Extend_Json(author_id_list, AUTHOR_JSON_PATH)\n\u001b[0;32m     <a href='vscode-notebook-cell:/f%3A/GithubRepo/Rumour-Detection-and-Analysis-on-Twitter/Twitter_Crawler.ipynb#ch0000012?line=53'>54</a>\u001b[0m \u001b[39m# Sleep 15 minutes to avoid API restrictions after processing 900 tweets\u001b[39;00m\n\u001b[0;32m     <a href='vscode-notebook-cell:/f%3A/GithubRepo/Rumour-Detection-and-Analysis-on-Twitter/Twitter_Crawler.ipynb#ch0000012?line=54'>55</a>\u001b[0m \u001b[39m#if loop_count == 8: \u001b[39;00m\n\u001b[0;32m     <a href='vscode-notebook-cell:/f%3A/GithubRepo/Rumour-Detection-and-Analysis-on-Twitter/Twitter_Crawler.ipynb#ch0000012?line=55'>56</a>\u001b[0m     \u001b[39m#time.sleep(15*60)\u001b[39;00m\n\u001b[0;32m     <a href='vscode-notebook-cell:/f%3A/GithubRepo/Rumour-Detection-and-Analysis-on-Twitter/Twitter_Crawler.ipynb#ch0000012?line=56'>57</a>\u001b[0m     \u001b[39m#loop_count = 0\u001b[39;00m\n",
      "\u001b[1;32mf:\\GithubRepo\\Rumour-Detection-and-Analysis-on-Twitter\\Twitter_Crawler.ipynb Cell 8'\u001b[0m in \u001b[0;36mExtend_Json\u001b[1;34m(new_list_dict, File_PATH)\u001b[0m\n\u001b[0;32m     <a href='vscode-notebook-cell:/f%3A/GithubRepo/Rumour-Detection-and-Analysis-on-Twitter/Twitter_Crawler.ipynb#ch0000007?line=12'>13</a>\u001b[0m \u001b[39mif\u001b[39;00m new_list_dict: \u001b[39m# if dict has value\u001b[39;00m\n\u001b[0;32m     <a href='vscode-notebook-cell:/f%3A/GithubRepo/Rumour-Detection-and-Analysis-on-Twitter/Twitter_Crawler.ipynb#ch0000007?line=13'>14</a>\u001b[0m     \u001b[39mwith\u001b[39;00m \u001b[39mopen\u001b[39m (File_PATH, mode\u001b[39m=\u001b[39m\u001b[39m\"\u001b[39m\u001b[39mr\u001b[39m\u001b[39m\"\u001b[39m) \u001b[39mas\u001b[39;00m file:\n\u001b[1;32m---> <a href='vscode-notebook-cell:/f%3A/GithubRepo/Rumour-Detection-and-Analysis-on-Twitter/Twitter_Crawler.ipynb#ch0000007?line=14'>15</a>\u001b[0m         data \u001b[39m=\u001b[39m json\u001b[39m.\u001b[39;49mload(file)\n\u001b[0;32m     <a href='vscode-notebook-cell:/f%3A/GithubRepo/Rumour-Detection-and-Analysis-on-Twitter/Twitter_Crawler.ipynb#ch0000007?line=15'>16</a>\u001b[0m     \u001b[39m# Source: https://stackoverflow.com/questions/18087397/append-list-of-python-dictionaries-to-a-file-without-loading-it/31224105#31224105?newreg=6b7713ed96df42959bb9443daf7bb8ec\u001b[39;00m\n\u001b[0;32m     <a href='vscode-notebook-cell:/f%3A/GithubRepo/Rumour-Detection-and-Analysis-on-Twitter/Twitter_Crawler.ipynb#ch0000007?line=16'>17</a>\u001b[0m     \u001b[39m# two methods\u001b[39;00m\n\u001b[0;32m     <a href='vscode-notebook-cell:/f%3A/GithubRepo/Rumour-Detection-and-Analysis-on-Twitter/Twitter_Crawler.ipynb#ch0000007?line=17'>18</a>\u001b[0m     \u001b[39m# with open (File_PATH, mode=\"r+\") as file:\u001b[39;00m\n\u001b[1;32m   (...)\u001b[0m\n\u001b[0;32m     <a href='vscode-notebook-cell:/f%3A/GithubRepo/Rumour-Detection-and-Analysis-on-Twitter/Twitter_Crawler.ipynb#ch0000007?line=20'>21</a>\u001b[0m     \u001b[39m#     file.seek(position)\u001b[39;00m\n\u001b[0;32m     <a href='vscode-notebook-cell:/f%3A/GithubRepo/Rumour-Detection-and-Analysis-on-Twitter/Twitter_Crawler.ipynb#ch0000007?line=21'>22</a>\u001b[0m     \u001b[39m#     file.write( \",{}]\".format(json.dumps(new_dict)[1:-1]) )\u001b[39;00m\n\u001b[0;32m     <a href='vscode-notebook-cell:/f%3A/GithubRepo/Rumour-Detection-and-Analysis-on-Twitter/Twitter_Crawler.ipynb#ch0000007?line=22'>23</a>\u001b[0m     \u001b[39mwith\u001b[39;00m \u001b[39mopen\u001b[39m (File_PATH, mode\u001b[39m=\u001b[39m\u001b[39m\"\u001b[39m\u001b[39mr+\u001b[39m\u001b[39m\"\u001b[39m) \u001b[39mas\u001b[39;00m file:\n",
      "File \u001b[1;32mc:\\Users\\Lee\\AppData\\Local\\Programs\\Python\\Python310\\lib\\json\\__init__.py:293\u001b[0m, in \u001b[0;36mload\u001b[1;34m(fp, cls, object_hook, parse_float, parse_int, parse_constant, object_pairs_hook, **kw)\u001b[0m\n\u001b[0;32m    <a href='file:///c%3A/Users/Lee/AppData/Local/Programs/Python/Python310/lib/json/__init__.py?line=273'>274</a>\u001b[0m \u001b[39mdef\u001b[39;00m \u001b[39mload\u001b[39m(fp, \u001b[39m*\u001b[39m, \u001b[39mcls\u001b[39m\u001b[39m=\u001b[39m\u001b[39mNone\u001b[39;00m, object_hook\u001b[39m=\u001b[39m\u001b[39mNone\u001b[39;00m, parse_float\u001b[39m=\u001b[39m\u001b[39mNone\u001b[39;00m,\n\u001b[0;32m    <a href='file:///c%3A/Users/Lee/AppData/Local/Programs/Python/Python310/lib/json/__init__.py?line=274'>275</a>\u001b[0m         parse_int\u001b[39m=\u001b[39m\u001b[39mNone\u001b[39;00m, parse_constant\u001b[39m=\u001b[39m\u001b[39mNone\u001b[39;00m, object_pairs_hook\u001b[39m=\u001b[39m\u001b[39mNone\u001b[39;00m, \u001b[39m*\u001b[39m\u001b[39m*\u001b[39mkw):\n\u001b[0;32m    <a href='file:///c%3A/Users/Lee/AppData/Local/Programs/Python/Python310/lib/json/__init__.py?line=275'>276</a>\u001b[0m     \u001b[39m\"\"\"Deserialize ``fp`` (a ``.read()``-supporting file-like object containing\u001b[39;00m\n\u001b[0;32m    <a href='file:///c%3A/Users/Lee/AppData/Local/Programs/Python/Python310/lib/json/__init__.py?line=276'>277</a>\u001b[0m \u001b[39m    a JSON document) to a Python object.\u001b[39;00m\n\u001b[0;32m    <a href='file:///c%3A/Users/Lee/AppData/Local/Programs/Python/Python310/lib/json/__init__.py?line=277'>278</a>\u001b[0m \n\u001b[1;32m   (...)\u001b[0m\n\u001b[0;32m    <a href='file:///c%3A/Users/Lee/AppData/Local/Programs/Python/Python310/lib/json/__init__.py?line=290'>291</a>\u001b[0m \u001b[39m    kwarg; otherwise ``JSONDecoder`` is used.\u001b[39;00m\n\u001b[0;32m    <a href='file:///c%3A/Users/Lee/AppData/Local/Programs/Python/Python310/lib/json/__init__.py?line=291'>292</a>\u001b[0m \u001b[39m    \"\"\"\u001b[39;00m\n\u001b[1;32m--> <a href='file:///c%3A/Users/Lee/AppData/Local/Programs/Python/Python310/lib/json/__init__.py?line=292'>293</a>\u001b[0m     \u001b[39mreturn\u001b[39;00m loads(fp\u001b[39m.\u001b[39mread(),\n\u001b[0;32m    <a href='file:///c%3A/Users/Lee/AppData/Local/Programs/Python/Python310/lib/json/__init__.py?line=293'>294</a>\u001b[0m         \u001b[39mcls\u001b[39m\u001b[39m=\u001b[39m\u001b[39mcls\u001b[39m, object_hook\u001b[39m=\u001b[39mobject_hook,\n\u001b[0;32m    <a href='file:///c%3A/Users/Lee/AppData/Local/Programs/Python/Python310/lib/json/__init__.py?line=294'>295</a>\u001b[0m         parse_float\u001b[39m=\u001b[39mparse_float, parse_int\u001b[39m=\u001b[39mparse_int,\n\u001b[0;32m    <a href='file:///c%3A/Users/Lee/AppData/Local/Programs/Python/Python310/lib/json/__init__.py?line=295'>296</a>\u001b[0m         parse_constant\u001b[39m=\u001b[39mparse_constant, object_pairs_hook\u001b[39m=\u001b[39mobject_pairs_hook, \u001b[39m*\u001b[39m\u001b[39m*\u001b[39mkw)\n",
      "File \u001b[1;32mc:\\Users\\Lee\\AppData\\Local\\Programs\\Python\\Python310\\lib\\json\\__init__.py:346\u001b[0m, in \u001b[0;36mloads\u001b[1;34m(s, cls, object_hook, parse_float, parse_int, parse_constant, object_pairs_hook, **kw)\u001b[0m\n\u001b[0;32m    <a href='file:///c%3A/Users/Lee/AppData/Local/Programs/Python/Python310/lib/json/__init__.py?line=340'>341</a>\u001b[0m     s \u001b[39m=\u001b[39m s\u001b[39m.\u001b[39mdecode(detect_encoding(s), \u001b[39m'\u001b[39m\u001b[39msurrogatepass\u001b[39m\u001b[39m'\u001b[39m)\n\u001b[0;32m    <a href='file:///c%3A/Users/Lee/AppData/Local/Programs/Python/Python310/lib/json/__init__.py?line=342'>343</a>\u001b[0m \u001b[39mif\u001b[39;00m (\u001b[39mcls\u001b[39m \u001b[39mis\u001b[39;00m \u001b[39mNone\u001b[39;00m \u001b[39mand\u001b[39;00m object_hook \u001b[39mis\u001b[39;00m \u001b[39mNone\u001b[39;00m \u001b[39mand\u001b[39;00m\n\u001b[0;32m    <a href='file:///c%3A/Users/Lee/AppData/Local/Programs/Python/Python310/lib/json/__init__.py?line=343'>344</a>\u001b[0m         parse_int \u001b[39mis\u001b[39;00m \u001b[39mNone\u001b[39;00m \u001b[39mand\u001b[39;00m parse_float \u001b[39mis\u001b[39;00m \u001b[39mNone\u001b[39;00m \u001b[39mand\u001b[39;00m\n\u001b[0;32m    <a href='file:///c%3A/Users/Lee/AppData/Local/Programs/Python/Python310/lib/json/__init__.py?line=344'>345</a>\u001b[0m         parse_constant \u001b[39mis\u001b[39;00m \u001b[39mNone\u001b[39;00m \u001b[39mand\u001b[39;00m object_pairs_hook \u001b[39mis\u001b[39;00m \u001b[39mNone\u001b[39;00m \u001b[39mand\u001b[39;00m \u001b[39mnot\u001b[39;00m kw):\n\u001b[1;32m--> <a href='file:///c%3A/Users/Lee/AppData/Local/Programs/Python/Python310/lib/json/__init__.py?line=345'>346</a>\u001b[0m     \u001b[39mreturn\u001b[39;00m _default_decoder\u001b[39m.\u001b[39;49mdecode(s)\n\u001b[0;32m    <a href='file:///c%3A/Users/Lee/AppData/Local/Programs/Python/Python310/lib/json/__init__.py?line=346'>347</a>\u001b[0m \u001b[39mif\u001b[39;00m \u001b[39mcls\u001b[39m \u001b[39mis\u001b[39;00m \u001b[39mNone\u001b[39;00m:\n\u001b[0;32m    <a href='file:///c%3A/Users/Lee/AppData/Local/Programs/Python/Python310/lib/json/__init__.py?line=347'>348</a>\u001b[0m     \u001b[39mcls\u001b[39m \u001b[39m=\u001b[39m JSONDecoder\n",
      "File \u001b[1;32mc:\\Users\\Lee\\AppData\\Local\\Programs\\Python\\Python310\\lib\\json\\decoder.py:337\u001b[0m, in \u001b[0;36mJSONDecoder.decode\u001b[1;34m(self, s, _w)\u001b[0m\n\u001b[0;32m    <a href='file:///c%3A/Users/Lee/AppData/Local/Programs/Python/Python310/lib/json/decoder.py?line=331'>332</a>\u001b[0m \u001b[39mdef\u001b[39;00m \u001b[39mdecode\u001b[39m(\u001b[39mself\u001b[39m, s, _w\u001b[39m=\u001b[39mWHITESPACE\u001b[39m.\u001b[39mmatch):\n\u001b[0;32m    <a href='file:///c%3A/Users/Lee/AppData/Local/Programs/Python/Python310/lib/json/decoder.py?line=332'>333</a>\u001b[0m     \u001b[39m\"\"\"Return the Python representation of ``s`` (a ``str`` instance\u001b[39;00m\n\u001b[0;32m    <a href='file:///c%3A/Users/Lee/AppData/Local/Programs/Python/Python310/lib/json/decoder.py?line=333'>334</a>\u001b[0m \u001b[39m    containing a JSON document).\u001b[39;00m\n\u001b[0;32m    <a href='file:///c%3A/Users/Lee/AppData/Local/Programs/Python/Python310/lib/json/decoder.py?line=334'>335</a>\u001b[0m \n\u001b[0;32m    <a href='file:///c%3A/Users/Lee/AppData/Local/Programs/Python/Python310/lib/json/decoder.py?line=335'>336</a>\u001b[0m \u001b[39m    \"\"\"\u001b[39;00m\n\u001b[1;32m--> <a href='file:///c%3A/Users/Lee/AppData/Local/Programs/Python/Python310/lib/json/decoder.py?line=336'>337</a>\u001b[0m     obj, end \u001b[39m=\u001b[39m \u001b[39mself\u001b[39;49m\u001b[39m.\u001b[39;49mraw_decode(s, idx\u001b[39m=\u001b[39;49m_w(s, \u001b[39m0\u001b[39;49m)\u001b[39m.\u001b[39;49mend())\n\u001b[0;32m    <a href='file:///c%3A/Users/Lee/AppData/Local/Programs/Python/Python310/lib/json/decoder.py?line=337'>338</a>\u001b[0m     end \u001b[39m=\u001b[39m _w(s, end)\u001b[39m.\u001b[39mend()\n\u001b[0;32m    <a href='file:///c%3A/Users/Lee/AppData/Local/Programs/Python/Python310/lib/json/decoder.py?line=338'>339</a>\u001b[0m     \u001b[39mif\u001b[39;00m end \u001b[39m!=\u001b[39m \u001b[39mlen\u001b[39m(s):\n",
      "File \u001b[1;32mc:\\Users\\Lee\\AppData\\Local\\Programs\\Python\\Python310\\lib\\json\\decoder.py:353\u001b[0m, in \u001b[0;36mJSONDecoder.raw_decode\u001b[1;34m(self, s, idx)\u001b[0m\n\u001b[0;32m    <a href='file:///c%3A/Users/Lee/AppData/Local/Programs/Python/Python310/lib/json/decoder.py?line=343'>344</a>\u001b[0m \u001b[39m\"\"\"Decode a JSON document from ``s`` (a ``str`` beginning with\u001b[39;00m\n\u001b[0;32m    <a href='file:///c%3A/Users/Lee/AppData/Local/Programs/Python/Python310/lib/json/decoder.py?line=344'>345</a>\u001b[0m \u001b[39ma JSON document) and return a 2-tuple of the Python\u001b[39;00m\n\u001b[0;32m    <a href='file:///c%3A/Users/Lee/AppData/Local/Programs/Python/Python310/lib/json/decoder.py?line=345'>346</a>\u001b[0m \u001b[39mrepresentation and the index in ``s`` where the document ended.\u001b[39;00m\n\u001b[1;32m   (...)\u001b[0m\n\u001b[0;32m    <a href='file:///c%3A/Users/Lee/AppData/Local/Programs/Python/Python310/lib/json/decoder.py?line=349'>350</a>\u001b[0m \n\u001b[0;32m    <a href='file:///c%3A/Users/Lee/AppData/Local/Programs/Python/Python310/lib/json/decoder.py?line=350'>351</a>\u001b[0m \u001b[39m\"\"\"\u001b[39;00m\n\u001b[0;32m    <a href='file:///c%3A/Users/Lee/AppData/Local/Programs/Python/Python310/lib/json/decoder.py?line=351'>352</a>\u001b[0m \u001b[39mtry\u001b[39;00m:\n\u001b[1;32m--> <a href='file:///c%3A/Users/Lee/AppData/Local/Programs/Python/Python310/lib/json/decoder.py?line=352'>353</a>\u001b[0m     obj, end \u001b[39m=\u001b[39m \u001b[39mself\u001b[39;49m\u001b[39m.\u001b[39;49mscan_once(s, idx)\n\u001b[0;32m    <a href='file:///c%3A/Users/Lee/AppData/Local/Programs/Python/Python310/lib/json/decoder.py?line=353'>354</a>\u001b[0m \u001b[39mexcept\u001b[39;00m \u001b[39mStopIteration\u001b[39;00m \u001b[39mas\u001b[39;00m err:\n\u001b[0;32m    <a href='file:///c%3A/Users/Lee/AppData/Local/Programs/Python/Python310/lib/json/decoder.py?line=354'>355</a>\u001b[0m     \u001b[39mraise\u001b[39;00m JSONDecodeError(\u001b[39m\"\u001b[39m\u001b[39mExpecting value\u001b[39m\u001b[39m\"\u001b[39m, s, err\u001b[39m.\u001b[39mvalue) \u001b[39mfrom\u001b[39;00m \u001b[39mNone\u001b[39m\n",
      "\u001b[1;31mJSONDecodeError\u001b[0m: Expecting property name enclosed in double quotes: line 1857145 column 23 (char 49810477)"
     ]
    }
   ],
   "source": [
    "# Run getter.\n",
    "get_twitter(client, total_id_list, JSON_PATH)"
   ]
  },
  {
   "cell_type": "code",
   "execution_count": null,
   "id": "18a505fb",
   "metadata": {},
   "outputs": [
    {
     "name": "stdout",
     "output_type": "stream",
     "text": [
      "Number of twitter stored:  135539\n"
     ]
    }
   ],
   "source": [
    "with open(\"./full_data/full_covid.json\", \"r\") as f:\n",
    "    data = json.load(f)\n",
    "    print(\"Number of twitter stored: \", len(data))\n",
    "excluded_ids = [row[\"id\"] for row in data ]"
   ]
  },
  {
   "cell_type": "code",
   "execution_count": null,
   "id": "b15c3909",
   "metadata": {},
   "outputs": [
    {
     "name": "stdout",
     "output_type": "stream",
     "text": [
      "Number of Source Story crawled:  0.054273041595362\n"
     ]
    }
   ],
   "source": [
    "#print(\"Number of Source Story crawled: \",len(data)/28633)\n",
    "#print(\"Number of Total Training Twitter crawled: \", 366/28633)"
   ]
  },
  {
   "cell_type": "markdown",
   "id": "a8acb3ab",
   "metadata": {},
   "source": [
    "## Author Data Part\n",
    "\n",
    "Extract Author data for the source twitter and output into AUTHOR_DATA_PATH"
   ]
  },
  {
   "cell_type": "code",
   "execution_count": null,
   "id": "691e1cfd",
   "metadata": {},
   "outputs": [],
   "source": [
    "## Only get source author's data for now\n",
    "AUTHOR_DATA_PATH = \"./full_data/author_ids.json\""
   ]
  },
  {
   "cell_type": "code",
   "execution_count": null,
   "id": "3e0143fd",
   "metadata": {},
   "outputs": [
    {
     "data": {
      "text/plain": [
       "1388"
      ]
     },
     "execution_count": 59,
     "metadata": {},
     "output_type": "execute_result"
    }
   ],
   "source": [
    "with open(AUTHOR_DATA_PATH) as f:\n",
    "    author_id_data = json.load(f)\n",
    "    author_id_list = list(set(author_id_data))\n",
    "len(author_id_list)"
   ]
  },
  {
   "cell_type": "code",
   "execution_count": null,
   "id": "3f78c6ed",
   "metadata": {},
   "outputs": [],
   "source": [
    "def get_author_data(api, id_list, OUTPUT_PATH):\n",
    "    \"\"\"Extract Author data for a list of authors and output them into AUTHOR_DATA_PATH as a json\"\"\"\n",
    "    list_of_authors = []\n",
    "    count = 0\n",
    "    for author_id in id_list:\n",
    "        response = api.get_user(user_id=author_id)\n",
    "        list_of_authors.append(response._json)\n",
    "        count += 1\n",
    "        if (count>=800) and (count % 800 == 0):\n",
    "            # Sleep 15 minutes to avoid limits\n",
    "            time.sleep(1000)\n",
    "    ## Convert to json        \n",
    "    Extend_Json(list_of_authors, AUTHOR_DATA_PATH)\n",
    "    print(\"Total Author Got: \", count)"
   ]
  },
  {
   "cell_type": "code",
   "execution_count": 62,
   "id": "6a8d9223",
   "metadata": {},
   "outputs": [
    {
     "ename": "TooManyRequests",
     "evalue": "429 Too Many Requests\n88 - Rate limit exceeded",
     "output_type": "error",
     "traceback": [
      "\u001b[1;31m---------------------------------------------------------------------------\u001b[0m",
      "\u001b[1;31mTooManyRequests\u001b[0m                           Traceback (most recent call last)",
      "Input \u001b[1;32mIn [62]\u001b[0m, in \u001b[0;36m<cell line: 1>\u001b[1;34m()\u001b[0m\n\u001b[1;32m----> 1\u001b[0m \u001b[43mget_author_data\u001b[49m\u001b[43m(\u001b[49m\u001b[43mapi\u001b[49m\u001b[43m,\u001b[49m\u001b[43m \u001b[49m\u001b[43mauthor_list\u001b[49m\u001b[43m,\u001b[49m\u001b[43m \u001b[49m\u001b[43mAUTHOR_DATA_PATH\u001b[49m\u001b[43m)\u001b[49m\n",
      "Input \u001b[1;32mIn [60]\u001b[0m, in \u001b[0;36mget_author_data\u001b[1;34m(api, id_list, OUTPUT_PATH)\u001b[0m\n\u001b[0;32m      4\u001b[0m count \u001b[38;5;241m=\u001b[39m \u001b[38;5;241m0\u001b[39m\n\u001b[0;32m      5\u001b[0m \u001b[38;5;28;01mfor\u001b[39;00m author_id \u001b[38;5;129;01min\u001b[39;00m author_data:\n\u001b[1;32m----> 6\u001b[0m     response \u001b[38;5;241m=\u001b[39m \u001b[43mapi\u001b[49m\u001b[38;5;241;43m.\u001b[39;49m\u001b[43mget_user\u001b[49m\u001b[43m(\u001b[49m\u001b[43muser_id\u001b[49m\u001b[38;5;241;43m=\u001b[39;49m\u001b[43mauthor_id\u001b[49m\u001b[43m)\u001b[49m\n\u001b[0;32m      7\u001b[0m     list_of_authors\u001b[38;5;241m.\u001b[39mappend(response\u001b[38;5;241m.\u001b[39m_json)\n\u001b[0;32m      8\u001b[0m     count \u001b[38;5;241m+\u001b[39m\u001b[38;5;241m=\u001b[39m \u001b[38;5;241m0\u001b[39m\n",
      "File \u001b[1;32m~\\AppData\\Local\\Programs\\Python\\Python310\\lib\\site-packages\\tweepy\\api.py:46\u001b[0m, in \u001b[0;36mpayload.<locals>.decorator.<locals>.wrapper\u001b[1;34m(*args, **kwargs)\u001b[0m\n\u001b[0;32m     44\u001b[0m kwargs[\u001b[38;5;124m'\u001b[39m\u001b[38;5;124mpayload_list\u001b[39m\u001b[38;5;124m'\u001b[39m] \u001b[38;5;241m=\u001b[39m payload_list\n\u001b[0;32m     45\u001b[0m kwargs[\u001b[38;5;124m'\u001b[39m\u001b[38;5;124mpayload_type\u001b[39m\u001b[38;5;124m'\u001b[39m] \u001b[38;5;241m=\u001b[39m payload_type\n\u001b[1;32m---> 46\u001b[0m \u001b[38;5;28;01mreturn\u001b[39;00m method(\u001b[38;5;241m*\u001b[39margs, \u001b[38;5;241m*\u001b[39m\u001b[38;5;241m*\u001b[39mkwargs)\n",
      "File \u001b[1;32m~\\AppData\\Local\\Programs\\Python\\Python310\\lib\\site-packages\\tweepy\\api.py:2502\u001b[0m, in \u001b[0;36mAPI.get_user\u001b[1;34m(self, **kwargs)\u001b[0m\n\u001b[0;32m   2479\u001b[0m \u001b[38;5;129m@payload\u001b[39m(\u001b[38;5;124m'\u001b[39m\u001b[38;5;124muser\u001b[39m\u001b[38;5;124m'\u001b[39m)\n\u001b[0;32m   2480\u001b[0m \u001b[38;5;28;01mdef\u001b[39;00m \u001b[38;5;21mget_user\u001b[39m(\u001b[38;5;28mself\u001b[39m, \u001b[38;5;241m*\u001b[39m\u001b[38;5;241m*\u001b[39mkwargs):\n\u001b[0;32m   2481\u001b[0m     \u001b[38;5;124;03m\"\"\"get_user(*, user_id, screen_name, include_entities)\u001b[39;00m\n\u001b[0;32m   2482\u001b[0m \n\u001b[0;32m   2483\u001b[0m \u001b[38;5;124;03m    Returns information about the specified user.\u001b[39;00m\n\u001b[1;32m   (...)\u001b[0m\n\u001b[0;32m   2500\u001b[0m \u001b[38;5;124;03m    https://developer.twitter.com/en/docs/twitter-api/v1/accounts-and-users/follow-search-get-users/api-reference/get-users-show\u001b[39;00m\n\u001b[0;32m   2501\u001b[0m \u001b[38;5;124;03m    \"\"\"\u001b[39;00m\n\u001b[1;32m-> 2502\u001b[0m     \u001b[38;5;28;01mreturn\u001b[39;00m \u001b[38;5;28mself\u001b[39m\u001b[38;5;241m.\u001b[39mrequest(\n\u001b[0;32m   2503\u001b[0m         \u001b[38;5;124m'\u001b[39m\u001b[38;5;124mGET\u001b[39m\u001b[38;5;124m'\u001b[39m, \u001b[38;5;124m'\u001b[39m\u001b[38;5;124musers/show\u001b[39m\u001b[38;5;124m'\u001b[39m, endpoint_parameters\u001b[38;5;241m=\u001b[39m(\n\u001b[0;32m   2504\u001b[0m             \u001b[38;5;124m'\u001b[39m\u001b[38;5;124muser_id\u001b[39m\u001b[38;5;124m'\u001b[39m, \u001b[38;5;124m'\u001b[39m\u001b[38;5;124mscreen_name\u001b[39m\u001b[38;5;124m'\u001b[39m, \u001b[38;5;124m'\u001b[39m\u001b[38;5;124minclude_entities\u001b[39m\u001b[38;5;124m'\u001b[39m\n\u001b[0;32m   2505\u001b[0m         ), \u001b[38;5;241m*\u001b[39m\u001b[38;5;241m*\u001b[39mkwargs\n\u001b[0;32m   2506\u001b[0m     )\n",
      "File \u001b[1;32m~\\AppData\\Local\\Programs\\Python\\Python310\\lib\\site-packages\\tweepy\\api.py:263\u001b[0m, in \u001b[0;36mAPI.request\u001b[1;34m(self, method, endpoint, endpoint_parameters, params, headers, json_payload, parser, payload_list, payload_type, post_data, files, require_auth, return_cursors, upload_api, use_cache, **kwargs)\u001b[0m\n\u001b[0;32m    261\u001b[0m     \u001b[38;5;28;01mraise\u001b[39;00m NotFound(resp)\n\u001b[0;32m    262\u001b[0m \u001b[38;5;28;01mif\u001b[39;00m resp\u001b[38;5;241m.\u001b[39mstatus_code \u001b[38;5;241m==\u001b[39m \u001b[38;5;241m429\u001b[39m:\n\u001b[1;32m--> 263\u001b[0m     \u001b[38;5;28;01mraise\u001b[39;00m TooManyRequests(resp)\n\u001b[0;32m    264\u001b[0m \u001b[38;5;28;01mif\u001b[39;00m resp\u001b[38;5;241m.\u001b[39mstatus_code \u001b[38;5;241m>\u001b[39m\u001b[38;5;241m=\u001b[39m \u001b[38;5;241m500\u001b[39m:\n\u001b[0;32m    265\u001b[0m     \u001b[38;5;28;01mraise\u001b[39;00m TwitterServerError(resp)\n",
      "\u001b[1;31mTooManyRequests\u001b[0m: 429 Too Many Requests\n88 - Rate limit exceeded"
     ]
    }
   ],
   "source": [
    "get_author_data(api, author_list, AUTHOR_DATA_PATH)"
   ]
  },
  {
   "cell_type": "code",
   "execution_count": null,
   "id": "4923a86a",
   "metadata": {},
   "outputs": [],
   "source": []
  }
 ],
 "metadata": {
  "interpreter": {
   "hash": "a78cf6b18f3ebbfc1a3965c77a9aefb9a45e54dbccbd7103f985418aae8f357b"
  },
  "kernelspec": {
   "display_name": "Python 3 (ipykernel)",
   "language": "python",
   "name": "python3"
  },
  "language_info": {
   "codemirror_mode": {
    "name": "ipython",
    "version": 3
   },
   "file_extension": ".py",
   "mimetype": "text/x-python",
   "name": "python",
   "nbconvert_exporter": "python",
   "pygments_lexer": "ipython3",
   "version": "3.10.2"
  }
 },
 "nbformat": 4,
 "nbformat_minor": 5
}

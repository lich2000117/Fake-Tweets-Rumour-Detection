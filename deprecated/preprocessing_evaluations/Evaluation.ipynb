{
 "cells": [
  {
   "cell_type": "code",
   "execution_count": 22,
   "id": "bf66b98a",
   "metadata": {},
   "outputs": [],
   "source": [
    "import pandas as pd\n",
    "from sklearn.metrics import precision_recall_fscore_support as score\n",
    "from sklearn.metrics import accuracy_score, f1_score"
   ]
  },
  {
   "cell_type": "code",
   "execution_count": 8,
   "id": "dc63bc6d",
   "metadata": {},
   "outputs": [
    {
     "data": {
      "text/plain": [
       "0    nonrumour\n",
       "1    nonrumour\n",
       "2    nonrumour\n",
       "3    nonrumour\n",
       "4    nonrumour\n",
       "Name: 0, dtype: object"
      ]
     },
     "execution_count": 8,
     "metadata": {},
     "output_type": "execute_result"
    }
   ],
   "source": [
    "# True dev label\n",
    "y_true_df = pd.read_csv('./id_data/dev.label.txt', sep=\" \", header=None)\n",
    "y_true = y_true_df.iloc[0:,0]\n",
    "y_true.head()"
   ]
  },
  {
   "cell_type": "code",
   "execution_count": 13,
   "id": "ee9bf646",
   "metadata": {},
   "outputs": [
    {
     "data": {
      "text/plain": [
       "nonrumour    493\n",
       "rumour       139\n",
       "Name: 0, dtype: int64"
      ]
     },
     "execution_count": 13,
     "metadata": {},
     "output_type": "execute_result"
    }
   ],
   "source": [
    "y_true.value_counts()"
   ]
  },
  {
   "cell_type": "code",
   "execution_count": 9,
   "id": "a956b7aa",
   "metadata": {},
   "outputs": [
    {
     "data": {
      "text/plain": [
       "0       rumour\n",
       "1       rumour\n",
       "2    nonrumour\n",
       "3       rumour\n",
       "4    nonrumour\n",
       "Name: 0, dtype: object"
      ]
     },
     "execution_count": 9,
     "metadata": {},
     "output_type": "execute_result"
    }
   ],
   "source": [
    "#Predict dev label\n",
    "pred_df = pd.read_csv('./id_data/dev.baseline.txt', sep=\" \", header=None)\n",
    "y_pred = pred_df.iloc[0:,0]\n",
    "y_pred.head()"
   ]
  },
  {
   "cell_type": "code",
   "execution_count": 28,
   "id": "db90b4ec",
   "metadata": {},
   "outputs": [
    {
     "name": "stdout",
     "output_type": "stream",
     "text": [
      "            nonrumour      rumour\n",
      "precision: [0.77358491 0.2133758 ]\n",
      "recall: [0.4989858  0.48201439]\n",
      "fscore: [0.60665845 0.29580574]\n",
      "support: [493 139]\n",
      "total: f1 :0.45123209293843214\n",
      "total: accuracy :0.495253164556962\n"
     ]
    }
   ],
   "source": [
    "\n",
    "\n",
    "precision, recall, fscore, support = score(y_true, y_pred)\n",
    "\n",
    "print(\"            nonrumour      rumour\")\n",
    "print('precision: {}'.format(precision))\n",
    "print('recall: {}'.format(recall))\n",
    "print('fscore: {}'.format(fscore))\n",
    "print('support: {}'.format(support))\n",
    "print('total: f1 :{}'.format(f1_score(y_true, y_pred, average=\"macro\")))\n",
    "print('total: accuracy :{}'.format(accuracy_score(y_true, y_pred)))"
   ]
  }
 ],
 "metadata": {
  "kernelspec": {
   "display_name": "Python 3 (ipykernel)",
   "language": "python",
   "name": "python3"
  },
  "language_info": {
   "codemirror_mode": {
    "name": "ipython",
    "version": 3
   },
   "file_extension": ".py",
   "mimetype": "text/x-python",
   "name": "python",
   "nbconvert_exporter": "python",
   "pygments_lexer": "ipython3",
   "version": "3.10.2"
  }
 },
 "nbformat": 4,
 "nbformat_minor": 5
}

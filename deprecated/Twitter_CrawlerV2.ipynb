{
 "cells": [
  {
   "cell_type": "markdown",
   "id": "13697ecd",
   "metadata": {},
   "source": [
    "## How to Use this File?\n",
    "\n",
    "Version2, get a tweeter object one by one for whole Train + Dev Set data, including author information"
   ]
  },
  {
   "cell_type": "code",
   "execution_count": 15,
   "id": "970ddaf8",
   "metadata": {},
   "outputs": [],
   "source": [
    "import tweepy\n",
    "import numpy as np\n",
    "import time\n",
    "import json\n",
    "import os"
   ]
  },
  {
   "cell_type": "code",
   "execution_count": 16,
   "id": "21d3708d",
   "metadata": {},
   "outputs": [],
   "source": [
    "DATA_PATH = \"./id_data/train.data.txt\"   # train\n",
    "DEV_DATA_PATH = \"./id_data/dev.data.txt\"  # dev\n",
    "\n",
    "AUTHOR_JSON_PATH = \"./full_data/author_ids.json\"\n",
    "\n",
    "SOURCE_STORY_ONLY = False\n",
    "if SOURCE_STORY_ONLY:\n",
    "    JSON_PATH = \"./full_data/full_source_only.json\"   # SOURCE_STORY_ONLY=True\n",
    "else:\n",
    "    JSON_PATH = \"./full_data/full_dev_train.json\"\n"
   ]
  },
  {
   "cell_type": "markdown",
   "id": "e0556e63",
   "metadata": {},
   "source": [
    "## Twitter API V1.1"
   ]
  },
  {
   "cell_type": "code",
   "execution_count": 17,
   "id": "fb1877b2",
   "metadata": {},
   "outputs": [
    {
     "name": "stdout",
     "output_type": "stream",
     "text": [
      "FAAT_JOEY\n"
     ]
    }
   ],
   "source": [
    "## Twitter API V1.1\n",
    "consumer_key = \"PCyRF0jWO12cgQ88uQDkDoBes\"  # API_Key and secret\n",
    "consumer_secret = \"whVymp4fEIeKQEy1hrDghwRxKyW515QeUzFKq5fMvryoe1mOxT\"\n",
    "access_token = \"1357932194019217410-RmO2xXuajMNs98s6qw5DYHLAFzMcLZ\"\n",
    "access_token_secret = \"ptzYrYJF10qnGf8vU9wPdiuRNOAM3BXFxjMhOcxBZZcKz\"\n",
    "\n",
    "auth = tweepy.OAuth1UserHandler(\n",
    "    consumer_key, consumer_secret, access_token, access_token_secret\n",
    ")\n",
    "api = tweepy.API(auth)\n",
    "# If the authentication was successful, this should print the\n",
    "# screen name / username of the account\n",
    "print(api.verify_credentials().screen_name)"
   ]
  },
  {
   "cell_type": "code",
   "execution_count": 18,
   "id": "b1645ac7",
   "metadata": {},
   "outputs": [],
   "source": [
    "def Extend_Json(new_list_dict, File_PATH):\n",
    "    \"\"\"Extend a huge json file without loading it to the memory, input: new_dict is a list of json dictionary objects\"\"\"\n",
    "    # if file exists:\n",
    "    if os.path.exists(File_PATH):\n",
    "        if os.stat(File_PATH).st_size == 0:\n",
    "            print(\"asasdasdasd\")\n",
    "            # if file contains nothing, delete the file\n",
    "            os.remove(File_PATH)\n",
    "            # create another new json file\n",
    "            with open (File_PATH, mode=\"w\") as file:\n",
    "                json.dump(new_list_dict, file, indent=2)\n",
    "        else:\n",
    "            if new_list_dict: # if dict has value\n",
    "                with open (File_PATH, mode=\"r\") as file:\n",
    "                    data = json.load(file)\n",
    "                # Source: https://stackoverflow.com/questions/18087397/append-list-of-python-dictionaries-to-a-file-without-loading-it/31224105#31224105?newreg=6b7713ed96df42959bb9443daf7bb8ec\n",
    "                # two methods\n",
    "                # with open (File_PATH, mode=\"r+\") as file:\n",
    "                #     file.seek(0,2)  # 0 byte (0) from the end of file (2)\n",
    "                #     position = file.tell() -1\n",
    "                #     file.seek(position)\n",
    "                #     file.write( \",{}]\".format(json.dumps(new_dict)[1:-1]) )\n",
    "                with open (File_PATH, mode=\"r+\") as file:\n",
    "                    file.seek(os.stat(File_PATH).st_size -1)\n",
    "                    file.write( \",{}]\".format(json.dumps(new_list_dict, indent=2)[1:-1]) )\n",
    "    else:\n",
    "        # else, create a new json file\n",
    "        with open (File_PATH, mode=\"w\") as file:\n",
    "            json.dump(new_list_dict, file, indent=2)"
   ]
  },
  {
   "cell_type": "markdown",
   "id": "ad77f876",
   "metadata": {},
   "source": [
    "## Twitter Part\n",
    "Add dev and train twitter together"
   ]
  },
  {
   "cell_type": "code",
   "execution_count": 19,
   "id": "7583e67a",
   "metadata": {},
   "outputs": [
    {
     "data": {
      "text/plain": [
       "28633"
      ]
     },
     "execution_count": 19,
     "metadata": {},
     "output_type": "execute_result"
    }
   ],
   "source": [
    "train_id_list = []\n",
    "with open(DATA_PATH, \"r\") as f:\n",
    "    for line in f:\n",
    "        line = line.strip() # remove next line\n",
    "        if SOURCE_STORY_ONLY:\n",
    "            line = line.split(',')[0] # split into list\\\n",
    "        else:\n",
    "            line = line.split(',')\n",
    "        train_id_list.append(line)\n",
    "if not SOURCE_STORY_ONLY:\n",
    "    train_id_list = [item for sublist in train_id_list for item in sublist] # Flat into a single list\n",
    "train_id_list = list(set(train_id_list))\n",
    "len(train_id_list)"
   ]
  },
  {
   "cell_type": "code",
   "execution_count": 20,
   "id": "a36bb052",
   "metadata": {},
   "outputs": [
    {
     "data": {
      "text/plain": [
       "10172"
      ]
     },
     "execution_count": 20,
     "metadata": {},
     "output_type": "execute_result"
    }
   ],
   "source": [
    "dev_list = []\n",
    "with open(\"./id_data/dev.data.txt\", \"r\") as f:\n",
    "    for line in f:\n",
    "        line = line.strip() # remove next line\n",
    "        if SOURCE_STORY_ONLY:\n",
    "            line = line.split(',')[0] # split into list\\\n",
    "        else:\n",
    "            line = line.split(',')\n",
    "        dev_list.append(line)\n",
    "if not SOURCE_STORY_ONLY:\n",
    "    dev_list = [item for sublist in dev_list for item in sublist] # Flat into a single list\n",
    "dev_list = list(set(dev_list))\n",
    "len(dev_list)"
   ]
  },
  {
   "cell_type": "code",
   "execution_count": 21,
   "id": "301f10a9",
   "metadata": {},
   "outputs": [
    {
     "data": {
      "text/plain": [
       "38168"
      ]
     },
     "execution_count": 21,
     "metadata": {},
     "output_type": "execute_result"
    }
   ],
   "source": [
    "total_id_list = set(train_id_list + dev_list)\n",
    "len(total_id_list)"
   ]
  },
  {
   "cell_type": "code",
   "execution_count": 22,
   "id": "874c1a68",
   "metadata": {},
   "outputs": [],
   "source": [
    "def get_twitter_v2(api, list_ids, JSON_PATH):\n",
    "    \"\"\"Automatically get a list of tweeters, the function auto divide ids into chunks of size 800 to avoid excessive use of API,\n",
    "        auto create a Json file in the designated path.\"\"\"\n",
    "    ## Auto divide into sub-tasks\n",
    "    list_ids = list(set(list_ids))\n",
    "    output_list = []   # output list of dictionary of tweets\n",
    "    count = 0\n",
    "    for tweet_id in list_ids:\n",
    "        ## Main loop to get twitter by chunks\n",
    "        skip = False\n",
    "        \n",
    "        # This endpoint/method returns a variety of information about the Tweet(s)\n",
    "        # specified by the requested ID or list of IDs\n",
    "        # By default, only the ID and text fields of each Tweet will be returned\n",
    "        # Additional fields are retrieved using the tweet_fields parameter, selected by hands to make sure we capture useful informations\n",
    "        while True:\n",
    "            try:\n",
    "                response = api.get_status(id=tweet_id)\n",
    "                break # break the loop if successful\n",
    "            except tweepy.errors.TooManyRequests:\n",
    "                # if hit rate limit, sleep 15 minutes or more\n",
    "                print(\"Count: \", count)\n",
    "                print(\"Hit Rate Limit, Sleep 15 minutes\")\n",
    "                time.sleep(910)\n",
    "                pass\n",
    "            except:\n",
    "                # If can't find that ID tweet, or other reasons skip current ID\n",
    "                skip=True\n",
    "                break\n",
    "\n",
    "        # pass this ID if no response returned\n",
    "        if skip:\n",
    "            continue\n",
    "        output_list.append(response._json)\n",
    "        # Save to json file\n",
    "        \n",
    "        # Sleep 15 minutes to avoid API restrictions after processing 900 tweets\n",
    "        #if loop_count == 8: \n",
    "            #time.sleep(15*60)\n",
    "            #loop_count = 0\n",
    "        if count>999 and count % 1000 == 0:\n",
    "            Extend_Json(output_list, JSON_PATH)\n",
    "            print(\"Saved to File! Current index of list: \", count)\n",
    "            output_list = [] # reset output list to free memory\n",
    "        count += 1\n",
    "    Extend_Json(output_list, JSON_PATH)\n",
    "    print(\"Total Tweeter :\", count)"
   ]
  },
  {
   "cell_type": "code",
   "execution_count": 1,
   "id": "84b7302d",
   "metadata": {},
   "outputs": [
    {
     "ename": "NameError",
     "evalue": "name 'get_twitter_v2' is not defined",
     "output_type": "error",
     "traceback": [
      "\u001b[1;31m---------------------------------------------------------------------------\u001b[0m",
      "\u001b[1;31mNameError\u001b[0m                                 Traceback (most recent call last)",
      "\u001b[1;32mf:\\GithubRepo\\Rumour-Detection-and-Analysis-on-Twitter\\Twitter_CrawlerV2.ipynb Cell 12'\u001b[0m in \u001b[0;36m<cell line: 2>\u001b[1;34m()\u001b[0m\n\u001b[0;32m      <a href='vscode-notebook-cell:/f%3A/GithubRepo/Rumour-Detection-and-Analysis-on-Twitter/Twitter_CrawlerV2.ipynb#ch0000011?line=0'>1</a>\u001b[0m \u001b[39m# Run getter.\u001b[39;00m\n\u001b[1;32m----> <a href='vscode-notebook-cell:/f%3A/GithubRepo/Rumour-Detection-and-Analysis-on-Twitter/Twitter_CrawlerV2.ipynb#ch0000011?line=1'>2</a>\u001b[0m get_twitter_v2(api, total_id_list, JSON_PATH)\n",
      "\u001b[1;31mNameError\u001b[0m: name 'get_twitter_v2' is not defined"
     ]
    }
   ],
   "source": [
    "# Run getter.\n",
    "get_twitter_v2(api, total_id_list, JSON_PATH)"
   ]
  },
  {
   "cell_type": "code",
   "execution_count": 12,
   "id": "18a505fb",
   "metadata": {},
   "outputs": [
    {
     "name": "stdout",
     "output_type": "stream",
     "text": [
      "Number of twitter stored:  6001\n"
     ]
    }
   ],
   "source": [
    "with open(JSON_PATH, \"r\") as f:\n",
    "    data = json.load(f)\n",
    "    print(\"Number of twitter stored: \", len(data))"
   ]
  },
  {
   "cell_type": "code",
   "execution_count": 11,
   "id": "b15c3909",
   "metadata": {},
   "outputs": [],
   "source": [
    "#print(\"Number of Source Story crawled: \",len(data)/28633)\n",
    "#print(\"Number of Total Training Twitter crawled: \", 366/28633)"
   ]
  }
 ],
 "metadata": {
  "interpreter": {
   "hash": "a78cf6b18f3ebbfc1a3965c77a9aefb9a45e54dbccbd7103f985418aae8f357b"
  },
  "kernelspec": {
   "display_name": "Python 3.10.2 64-bit",
   "language": "python",
   "name": "python3"
  },
  "language_info": {
   "codemirror_mode": {
    "name": "ipython",
    "version": 3
   },
   "file_extension": ".py",
   "mimetype": "text/x-python",
   "name": "python",
   "nbconvert_exporter": "python",
   "pygments_lexer": "ipython3",
   "version": "3.10.2"
  }
 },
 "nbformat": 4,
 "nbformat_minor": 5
}

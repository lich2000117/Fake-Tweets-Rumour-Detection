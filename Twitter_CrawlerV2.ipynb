{
 "cells": [
  {
   "cell_type": "markdown",
   "id": "13697ecd",
   "metadata": {},
   "source": [
    "## How to Use this File?\n",
    "\n",
    "Version2, get a tweeter object one by one for whole Train + Dev Set data, including author information"
   ]
  },
  {
   "cell_type": "code",
   "execution_count": 15,
   "id": "970ddaf8",
   "metadata": {},
   "outputs": [],
   "source": [
    "import tweepy\n",
    "import numpy as np\n",
    "import time\n",
    "import json\n",
    "import os"
   ]
  },
  {
   "cell_type": "code",
   "execution_count": 16,
   "id": "21d3708d",
   "metadata": {},
   "outputs": [],
   "source": [
    "DATA_PATH = \"./id_data/train.data.txt\"   # train\n",
    "DEV_DATA_PATH = \"./id_data/dev.data.txt\"  # dev\n",
    "\n",
    "AUTHOR_JSON_PATH = \"./full_data/author_ids.json\"\n",
    "\n",
    "SOURCE_STORY_ONLY = False\n",
    "if SOURCE_STORY_ONLY:\n",
    "    JSON_PATH = \"./full_data/full_source_only.json\"   # SOURCE_STORY_ONLY=True\n",
    "else:\n",
    "    JSON_PATH = \"./full_data/full_dev_train.json\"\n"
   ]
  },
  {
   "cell_type": "markdown",
   "id": "e0556e63",
   "metadata": {},
   "source": [
    "## Twitter API V1.1"
   ]
  },
  {
   "cell_type": "code",
   "execution_count": 17,
   "id": "fb1877b2",
   "metadata": {},
   "outputs": [
    {
     "name": "stdout",
     "output_type": "stream",
     "text": [
      "FAAT_JOEY\n"
     ]
    }
   ],
   "source": [
    "## Twitter API V1.1\n",
    "consumer_key = \"PCyRF0jWO12cgQ88uQDkDoBes\"  # API_Key and secret\n",
    "consumer_secret = \"whVymp4fEIeKQEy1hrDghwRxKyW515QeUzFKq5fMvryoe1mOxT\"\n",
    "access_token = \"1357932194019217410-RmO2xXuajMNs98s6qw5DYHLAFzMcLZ\"\n",
    "access_token_secret = \"ptzYrYJF10qnGf8vU9wPdiuRNOAM3BXFxjMhOcxBZZcKz\"\n",
    "\n",
    "auth = tweepy.OAuth1UserHandler(\n",
    "    consumer_key, consumer_secret, access_token, access_token_secret\n",
    ")\n",
    "api = tweepy.API(auth)\n",
    "# If the authentication was successful, this should print the\n",
    "# screen name / username of the account\n",
    "print(api.verify_credentials().screen_name)"
   ]
  },
  {
   "cell_type": "code",
   "execution_count": 18,
   "id": "b1645ac7",
   "metadata": {},
   "outputs": [],
   "source": [
    "def Extend_Json(new_list_dict, File_PATH):\n",
    "    \"\"\"Extend a huge json file without loading it to the memory, input: new_dict is a list of json dictionary objects\"\"\"\n",
    "    # if file exists:\n",
    "    if os.path.exists(File_PATH):\n",
    "        if os.stat(File_PATH).st_size == 0:\n",
    "            print(\"asasdasdasd\")\n",
    "            # if file contains nothing, delete the file\n",
    "            os.remove(File_PATH)\n",
    "            # create another new json file\n",
    "            with open (File_PATH, mode=\"w\") as file:\n",
    "                json.dump(new_list_dict, file, indent=2)\n",
    "        else:\n",
    "            if new_list_dict: # if dict has value\n",
    "                with open (File_PATH, mode=\"r\") as file:\n",
    "                    data = json.load(file)\n",
    "                # Source: https://stackoverflow.com/questions/18087397/append-list-of-python-dictionaries-to-a-file-without-loading-it/31224105#31224105?newreg=6b7713ed96df42959bb9443daf7bb8ec\n",
    "                # two methods\n",
    "                # with open (File_PATH, mode=\"r+\") as file:\n",
    "                #     file.seek(0,2)  # 0 byte (0) from the end of file (2)\n",
    "                #     position = file.tell() -1\n",
    "                #     file.seek(position)\n",
    "                #     file.write( \",{}]\".format(json.dumps(new_dict)[1:-1]) )\n",
    "                with open (File_PATH, mode=\"r+\") as file:\n",
    "                    file.seek(os.stat(File_PATH).st_size -1)\n",
    "                    file.write( \",{}]\".format(json.dumps(new_list_dict, indent=2)[1:-1]) )\n",
    "    else:\n",
    "        # else, create a new json file\n",
    "        with open (File_PATH, mode=\"w\") as file:\n",
    "            json.dump(new_list_dict, file, indent=2)"
   ]
  },
  {
   "cell_type": "markdown",
   "id": "ad77f876",
   "metadata": {},
   "source": [
    "## Twitter Part\n",
    "Add dev and train twitter together"
   ]
  },
  {
   "cell_type": "code",
   "execution_count": 19,
   "id": "7583e67a",
   "metadata": {},
   "outputs": [
    {
     "data": {
      "text/plain": [
       "28633"
      ]
     },
     "execution_count": 19,
     "metadata": {},
     "output_type": "execute_result"
    }
   ],
   "source": [
    "train_id_list = []\n",
    "with open(DATA_PATH, \"r\") as f:\n",
    "    for line in f:\n",
    "        line = line.strip() # remove next line\n",
    "        if SOURCE_STORY_ONLY:\n",
    "            line = line.split(',')[0] # split into list\\\n",
    "        else:\n",
    "            line = line.split(',')\n",
    "        train_id_list.append(line)\n",
    "if not SOURCE_STORY_ONLY:\n",
    "    train_id_list = [item for sublist in train_id_list for item in sublist] # Flat into a single list\n",
    "train_id_list = list(set(train_id_list))\n",
    "len(train_id_list)"
   ]
  },
  {
   "cell_type": "code",
   "execution_count": 20,
   "id": "a36bb052",
   "metadata": {},
   "outputs": [
    {
     "data": {
      "text/plain": [
       "10172"
      ]
     },
     "execution_count": 20,
     "metadata": {},
     "output_type": "execute_result"
    }
   ],
   "source": [
    "dev_list = []\n",
    "with open(\"./id_data/dev.data.txt\", \"r\") as f:\n",
    "    for line in f:\n",
    "        line = line.strip() # remove next line\n",
    "        if SOURCE_STORY_ONLY:\n",
    "            line = line.split(',')[0] # split into list\\\n",
    "        else:\n",
    "            line = line.split(',')\n",
    "        dev_list.append(line)\n",
    "if not SOURCE_STORY_ONLY:\n",
    "    dev_list = [item for sublist in dev_list for item in sublist] # Flat into a single list\n",
    "dev_list = list(set(dev_list))\n",
    "len(dev_list)"
   ]
  },
  {
   "cell_type": "code",
   "execution_count": 21,
   "id": "301f10a9",
   "metadata": {},
   "outputs": [
    {
     "data": {
      "text/plain": [
       "38168"
      ]
     },
     "execution_count": 21,
     "metadata": {},
     "output_type": "execute_result"
    }
   ],
   "source": [
    "total_id_list = set(train_id_list + dev_list)\n",
    "len(total_id_list)"
   ]
  },
  {
   "cell_type": "code",
   "execution_count": 22,
   "id": "874c1a68",
   "metadata": {},
   "outputs": [],
   "source": [
    "def get_twitter_v2(api, list_ids, JSON_PATH):\n",
    "    \"\"\"Automatically get a list of tweeters, the function auto divide ids into chunks of size 800 to avoid excessive use of API,\n",
    "        auto create a Json file in the designated path.\"\"\"\n",
    "    ## Auto divide into sub-tasks\n",
    "    list_ids = list(set(list_ids))\n",
    "    output_list = []   # output list of dictionary of tweets\n",
    "    count = 0\n",
    "    for tweet_id in list_ids:\n",
    "        ## Main loop to get twitter by chunks\n",
    "        \n",
    "        \n",
    "        # This endpoint/method returns a variety of information about the Tweet(s)\n",
    "        # specified by the requested ID or list of IDs\n",
    "        # By default, only the ID and text fields of each Tweet will be returned\n",
    "        # Additional fields are retrieved using the tweet_fields parameter, selected by hands to make sure we capture useful informations\n",
    "        try:\n",
    "            response = api.get_status(id=tweet_id)\n",
    "        except tweepy.errors.TooManyRequests:\n",
    "            # if hit rate limit, sleep 15 minutes\n",
    "            print(\"Count: \", count)\n",
    "            print(\"Hit Rate Limit, Sleep 15 minutes\")\n",
    "            time.sleep(900)\n",
    "            response = api.get_status(id=tweet_id)\n",
    "        except:\n",
    "            # If can't find that ID tweet, or other reasons skip\n",
    "            count += 1\n",
    "            continue\n",
    "\n",
    "        output_list.append(response._json)\n",
    "        # Save to json file\n",
    "        \n",
    "        # Sleep 15 minutes to avoid API restrictions after processing 900 tweets\n",
    "        #if loop_count == 8: \n",
    "            #time.sleep(15*60)\n",
    "            #loop_count = 0\n",
    "        if count>999 and count % 1000 == 0:\n",
    "            Extend_Json(output_list, JSON_PATH)\n",
    "            print(\"Saved to File! Current index of list: \", count)\n",
    "            output_list = [] # reset output list to free memory\n",
    "        count += 1\n",
    "    Extend_Json(output_list, JSON_PATH)\n",
    "    print(\"Total Tweeter :\", count)\n",
    "        "
   ]
  },
  {
   "cell_type": "code",
   "execution_count": 25,
   "id": "84b7302d",
   "metadata": {},
   "outputs": [
    {
     "ename": "Forbidden",
     "evalue": "403 Forbidden\n63 - User has been suspended.",
     "output_type": "error",
     "traceback": [
      "\u001b[0;31m---------------------------------------------------------------------------\u001b[0m",
      "\u001b[0;31mForbidden\u001b[0m                                 Traceback (most recent call last)",
      "\u001b[1;32m/Users/lich2000117/Documents/GitHub/Rumour-Detection-and-Analysis-on-Twitter/Twitter_CrawlerV2.ipynb Cell 12'\u001b[0m in \u001b[0;36m<cell line: 2>\u001b[0;34m()\u001b[0m\n\u001b[1;32m      <a href='vscode-notebook-cell:/Users/lich2000117/Documents/GitHub/Rumour-Detection-and-Analysis-on-Twitter/Twitter_CrawlerV2.ipynb#ch0000011?line=0'>1</a>\u001b[0m \u001b[39m# Run getter.\u001b[39;00m\n\u001b[0;32m----> <a href='vscode-notebook-cell:/Users/lich2000117/Documents/GitHub/Rumour-Detection-and-Analysis-on-Twitter/Twitter_CrawlerV2.ipynb#ch0000011?line=1'>2</a>\u001b[0m get_twitter_v2(api, total_id_list, JSON_PATH)\n",
      "\u001b[1;32m/Users/lich2000117/Documents/GitHub/Rumour-Detection-and-Analysis-on-Twitter/Twitter_CrawlerV2.ipynb Cell 11'\u001b[0m in \u001b[0;36mget_twitter_v2\u001b[0;34m(api, list_ids, JSON_PATH)\u001b[0m\n\u001b[1;32m      <a href='vscode-notebook-cell:/Users/lich2000117/Documents/GitHub/Rumour-Detection-and-Analysis-on-Twitter/Twitter_CrawlerV2.ipynb#ch0000010?line=7'>8</a>\u001b[0m \u001b[39mfor\u001b[39;00m tweet_id \u001b[39min\u001b[39;00m list_ids:\n\u001b[1;32m      <a href='vscode-notebook-cell:/Users/lich2000117/Documents/GitHub/Rumour-Detection-and-Analysis-on-Twitter/Twitter_CrawlerV2.ipynb#ch0000010?line=8'>9</a>\u001b[0m     \u001b[39m## Main loop to get twitter by chunks\u001b[39;00m\n\u001b[1;32m     <a href='vscode-notebook-cell:/Users/lich2000117/Documents/GitHub/Rumour-Detection-and-Analysis-on-Twitter/Twitter_CrawlerV2.ipynb#ch0000010?line=9'>10</a>\u001b[0m     \n\u001b[0;32m   (...)\u001b[0m\n\u001b[1;32m     <a href='vscode-notebook-cell:/Users/lich2000117/Documents/GitHub/Rumour-Detection-and-Analysis-on-Twitter/Twitter_CrawlerV2.ipynb#ch0000010?line=13'>14</a>\u001b[0m     \u001b[39m# By default, only the ID and text fields of each Tweet will be returned\u001b[39;00m\n\u001b[1;32m     <a href='vscode-notebook-cell:/Users/lich2000117/Documents/GitHub/Rumour-Detection-and-Analysis-on-Twitter/Twitter_CrawlerV2.ipynb#ch0000010?line=14'>15</a>\u001b[0m     \u001b[39m# Additional fields are retrieved using the tweet_fields parameter, selected by hands to make sure we capture useful informations\u001b[39;00m\n\u001b[1;32m     <a href='vscode-notebook-cell:/Users/lich2000117/Documents/GitHub/Rumour-Detection-and-Analysis-on-Twitter/Twitter_CrawlerV2.ipynb#ch0000010?line=15'>16</a>\u001b[0m     \u001b[39mtry\u001b[39;00m:\n\u001b[0;32m---> <a href='vscode-notebook-cell:/Users/lich2000117/Documents/GitHub/Rumour-Detection-and-Analysis-on-Twitter/Twitter_CrawlerV2.ipynb#ch0000010?line=16'>17</a>\u001b[0m         response \u001b[39m=\u001b[39m api\u001b[39m.\u001b[39;49mget_status(\u001b[39mid\u001b[39;49m\u001b[39m=\u001b[39;49mtweet_id)\n\u001b[1;32m     <a href='vscode-notebook-cell:/Users/lich2000117/Documents/GitHub/Rumour-Detection-and-Analysis-on-Twitter/Twitter_CrawlerV2.ipynb#ch0000010?line=17'>18</a>\u001b[0m     \u001b[39mexcept\u001b[39;00m tweepy\u001b[39m.\u001b[39merrors\u001b[39m.\u001b[39mNotFound:\n\u001b[1;32m     <a href='vscode-notebook-cell:/Users/lich2000117/Documents/GitHub/Rumour-Detection-and-Analysis-on-Twitter/Twitter_CrawlerV2.ipynb#ch0000010?line=18'>19</a>\u001b[0m         \u001b[39m# If can't find that ID tweet, skip\u001b[39;00m\n\u001b[1;32m     <a href='vscode-notebook-cell:/Users/lich2000117/Documents/GitHub/Rumour-Detection-and-Analysis-on-Twitter/Twitter_CrawlerV2.ipynb#ch0000010?line=19'>20</a>\u001b[0m         count \u001b[39m+\u001b[39m\u001b[39m=\u001b[39m \u001b[39m1\u001b[39m\n",
      "File \u001b[0;32m/Library/Frameworks/Python.framework/Versions/3.10/lib/python3.10/site-packages/tweepy/api.py:46\u001b[0m, in \u001b[0;36mpayload.<locals>.decorator.<locals>.wrapper\u001b[0;34m(*args, **kwargs)\u001b[0m\n\u001b[1;32m     <a href='file:///Library/Frameworks/Python.framework/Versions/3.10/lib/python3.10/site-packages/tweepy/api.py?line=43'>44</a>\u001b[0m kwargs[\u001b[39m'\u001b[39m\u001b[39mpayload_list\u001b[39m\u001b[39m'\u001b[39m] \u001b[39m=\u001b[39m payload_list\n\u001b[1;32m     <a href='file:///Library/Frameworks/Python.framework/Versions/3.10/lib/python3.10/site-packages/tweepy/api.py?line=44'>45</a>\u001b[0m kwargs[\u001b[39m'\u001b[39m\u001b[39mpayload_type\u001b[39m\u001b[39m'\u001b[39m] \u001b[39m=\u001b[39m payload_type\n\u001b[0;32m---> <a href='file:///Library/Frameworks/Python.framework/Versions/3.10/lib/python3.10/site-packages/tweepy/api.py?line=45'>46</a>\u001b[0m \u001b[39mreturn\u001b[39;00m method(\u001b[39m*\u001b[39;49margs, \u001b[39m*\u001b[39;49m\u001b[39m*\u001b[39;49mkwargs)\n",
      "File \u001b[0;32m/Library/Frameworks/Python.framework/Versions/3.10/lib/python3.10/site-packages/tweepy/api.py:896\u001b[0m, in \u001b[0;36mAPI.get_status\u001b[0;34m(self, id, **kwargs)\u001b[0m\n\u001b[1;32m    <a href='file:///Library/Frameworks/Python.framework/Versions/3.10/lib/python3.10/site-packages/tweepy/api.py?line=862'>863</a>\u001b[0m \u001b[39m@payload\u001b[39m(\u001b[39m'\u001b[39m\u001b[39mstatus\u001b[39m\u001b[39m'\u001b[39m)\n\u001b[1;32m    <a href='file:///Library/Frameworks/Python.framework/Versions/3.10/lib/python3.10/site-packages/tweepy/api.py?line=863'>864</a>\u001b[0m \u001b[39mdef\u001b[39;00m \u001b[39mget_status\u001b[39m(\u001b[39mself\u001b[39m, \u001b[39mid\u001b[39m, \u001b[39m*\u001b[39m\u001b[39m*\u001b[39mkwargs):\n\u001b[1;32m    <a href='file:///Library/Frameworks/Python.framework/Versions/3.10/lib/python3.10/site-packages/tweepy/api.py?line=864'>865</a>\u001b[0m     \u001b[39m\"\"\"get_status(id, *, trim_user, include_my_retweet, include_entities, \\\u001b[39;00m\n\u001b[1;32m    <a href='file:///Library/Frameworks/Python.framework/Versions/3.10/lib/python3.10/site-packages/tweepy/api.py?line=865'>866</a>\u001b[0m \u001b[39m                  include_ext_alt_text, include_card_uri)\u001b[39;00m\n\u001b[1;32m    <a href='file:///Library/Frameworks/Python.framework/Versions/3.10/lib/python3.10/site-packages/tweepy/api.py?line=866'>867</a>\u001b[0m \n\u001b[0;32m   (...)\u001b[0m\n\u001b[1;32m    <a href='file:///Library/Frameworks/Python.framework/Versions/3.10/lib/python3.10/site-packages/tweepy/api.py?line=893'>894</a>\u001b[0m \u001b[39m    https://developer.twitter.com/en/docs/twitter-api/v1/tweets/post-and-engage/api-reference/get-statuses-show-id\u001b[39;00m\n\u001b[1;32m    <a href='file:///Library/Frameworks/Python.framework/Versions/3.10/lib/python3.10/site-packages/tweepy/api.py?line=894'>895</a>\u001b[0m \u001b[39m    \"\"\"\u001b[39;00m\n\u001b[0;32m--> <a href='file:///Library/Frameworks/Python.framework/Versions/3.10/lib/python3.10/site-packages/tweepy/api.py?line=895'>896</a>\u001b[0m     \u001b[39mreturn\u001b[39;00m \u001b[39mself\u001b[39;49m\u001b[39m.\u001b[39;49mrequest(\n\u001b[1;32m    <a href='file:///Library/Frameworks/Python.framework/Versions/3.10/lib/python3.10/site-packages/tweepy/api.py?line=896'>897</a>\u001b[0m         \u001b[39m'\u001b[39;49m\u001b[39mGET\u001b[39;49m\u001b[39m'\u001b[39;49m, \u001b[39m'\u001b[39;49m\u001b[39mstatuses/show\u001b[39;49m\u001b[39m'\u001b[39;49m, endpoint_parameters\u001b[39m=\u001b[39;49m(\n\u001b[1;32m    <a href='file:///Library/Frameworks/Python.framework/Versions/3.10/lib/python3.10/site-packages/tweepy/api.py?line=897'>898</a>\u001b[0m             \u001b[39m'\u001b[39;49m\u001b[39mid\u001b[39;49m\u001b[39m'\u001b[39;49m, \u001b[39m'\u001b[39;49m\u001b[39mtrim_user\u001b[39;49m\u001b[39m'\u001b[39;49m, \u001b[39m'\u001b[39;49m\u001b[39minclude_my_retweet\u001b[39;49m\u001b[39m'\u001b[39;49m, \u001b[39m'\u001b[39;49m\u001b[39minclude_entities\u001b[39;49m\u001b[39m'\u001b[39;49m,\n\u001b[1;32m    <a href='file:///Library/Frameworks/Python.framework/Versions/3.10/lib/python3.10/site-packages/tweepy/api.py?line=898'>899</a>\u001b[0m             \u001b[39m'\u001b[39;49m\u001b[39minclude_ext_alt_text\u001b[39;49m\u001b[39m'\u001b[39;49m, \u001b[39m'\u001b[39;49m\u001b[39minclude_card_uri\u001b[39;49m\u001b[39m'\u001b[39;49m\n\u001b[1;32m    <a href='file:///Library/Frameworks/Python.framework/Versions/3.10/lib/python3.10/site-packages/tweepy/api.py?line=899'>900</a>\u001b[0m         ), \u001b[39mid\u001b[39;49m\u001b[39m=\u001b[39;49m\u001b[39mid\u001b[39;49m, \u001b[39m*\u001b[39;49m\u001b[39m*\u001b[39;49mkwargs\n\u001b[1;32m    <a href='file:///Library/Frameworks/Python.framework/Versions/3.10/lib/python3.10/site-packages/tweepy/api.py?line=900'>901</a>\u001b[0m     )\n",
      "File \u001b[0;32m/Library/Frameworks/Python.framework/Versions/3.10/lib/python3.10/site-packages/tweepy/api.py:259\u001b[0m, in \u001b[0;36mAPI.request\u001b[0;34m(self, method, endpoint, endpoint_parameters, params, headers, json_payload, parser, payload_list, payload_type, post_data, files, require_auth, return_cursors, upload_api, use_cache, **kwargs)\u001b[0m\n\u001b[1;32m    <a href='file:///Library/Frameworks/Python.framework/Versions/3.10/lib/python3.10/site-packages/tweepy/api.py?line=256'>257</a>\u001b[0m     \u001b[39mraise\u001b[39;00m Unauthorized(resp)\n\u001b[1;32m    <a href='file:///Library/Frameworks/Python.framework/Versions/3.10/lib/python3.10/site-packages/tweepy/api.py?line=257'>258</a>\u001b[0m \u001b[39mif\u001b[39;00m resp\u001b[39m.\u001b[39mstatus_code \u001b[39m==\u001b[39m \u001b[39m403\u001b[39m:\n\u001b[0;32m--> <a href='file:///Library/Frameworks/Python.framework/Versions/3.10/lib/python3.10/site-packages/tweepy/api.py?line=258'>259</a>\u001b[0m     \u001b[39mraise\u001b[39;00m Forbidden(resp)\n\u001b[1;32m    <a href='file:///Library/Frameworks/Python.framework/Versions/3.10/lib/python3.10/site-packages/tweepy/api.py?line=259'>260</a>\u001b[0m \u001b[39mif\u001b[39;00m resp\u001b[39m.\u001b[39mstatus_code \u001b[39m==\u001b[39m \u001b[39m404\u001b[39m:\n\u001b[1;32m    <a href='file:///Library/Frameworks/Python.framework/Versions/3.10/lib/python3.10/site-packages/tweepy/api.py?line=260'>261</a>\u001b[0m     \u001b[39mraise\u001b[39;00m NotFound(resp)\n",
      "\u001b[0;31mForbidden\u001b[0m: 403 Forbidden\n63 - User has been suspended."
     ]
    }
   ],
   "source": [
    "# Run getter.\n",
    "get_twitter_v2(api, total_id_list, JSON_PATH)"
   ]
  },
  {
   "cell_type": "code",
   "execution_count": 12,
   "id": "18a505fb",
   "metadata": {},
   "outputs": [
    {
     "name": "stdout",
     "output_type": "stream",
     "text": [
      "Number of twitter stored:  6001\n"
     ]
    }
   ],
   "source": [
    "with open(JSON_PATH, \"r\") as f:\n",
    "    data = json.load(f)\n",
    "    print(\"Number of twitter stored: \", len(data))"
   ]
  },
  {
   "cell_type": "code",
   "execution_count": 11,
   "id": "b15c3909",
   "metadata": {},
   "outputs": [],
   "source": [
    "#print(\"Number of Source Story crawled: \",len(data)/28633)\n",
    "#print(\"Number of Total Training Twitter crawled: \", 366/28633)"
   ]
  }
 ],
 "metadata": {
  "kernelspec": {
   "display_name": "Python 3 (ipykernel)",
   "language": "python",
   "name": "python3"
  },
  "language_info": {
   "codemirror_mode": {
    "name": "ipython",
    "version": 3
   },
   "file_extension": ".py",
   "mimetype": "text/x-python",
   "name": "python",
   "nbconvert_exporter": "python",
   "pygments_lexer": "ipython3",
   "version": "3.10.4"
  }
 },
 "nbformat": 4,
 "nbformat_minor": 5
}

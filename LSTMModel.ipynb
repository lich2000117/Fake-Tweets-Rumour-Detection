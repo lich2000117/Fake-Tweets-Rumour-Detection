{
  "nbformat": 4,
  "nbformat_minor": 0,
  "metadata": {
    "colab": {
      "name": "LSTMModel.ipynb",
      "provenance": [],
      "collapsed_sections": []
    },
    "kernelspec": {
      "name": "python3",
      "display_name": "Python 3"
    },
    "language_info": {
      "name": "python"
    }
  },
  "cells": [
    {
      "cell_type": "markdown",
      "source": [
        "TRY:\n",
        "converting LSTM to Bidirectional layer \\\n",
        "changing the loss function\\\n",
        "changing the embedding size?\\\n",
        "use the full data!\n",
        "\n"
      ],
      "metadata": {
        "id": "0zgrnfLzCjfY"
      }
    },
    {
      "cell_type": "code",
      "execution_count": null,
      "metadata": {
        "id": "pkhlQH92FvyB"
      },
      "outputs": [],
      "source": [
        "import pandas as pd \n",
        "SOURCE_TWITTER_PATH = \"./full_train_source_only.json\"\n",
        "FULL_TWITTER_PATH = \"./full_train.json\"\n",
        "Y_TRAIN_PATH = \"./train.label.txt\"\n",
        "X_TRAIN_PATH = \"./train.data.txt\"   # train\n",
        "SOURCE_STORY_ONLY = True"
      ]
    },
    {
      "cell_type": "code",
      "source": [
        "def full_data(LABEL_PATH, ID_PATH, DATA_PATH, dropna_on_column=\"text\"):\n",
        "    \"\"\"A function that joins data and id and their labels, return a dataframe that trims off twitter we don't have data\"\"\"\n",
        "    # Process Labels\n",
        "    if LABEL_PATH:\n",
        "        # 1: Rumour\n",
        "        # 0: NonRumour\n",
        "        with open(LABEL_PATH, \"r\") as f:\n",
        "            y_label = f.read().strip().split(\"\\n\") # remove next line\n",
        "        y_label = pd.DataFrame(y_label, columns = [\"label\"])\n",
        "        y_label[y_label[\"label\"]==\"rumour\"] = 1\n",
        "        y_label[y_label[\"label\"]==\"nonrumour\"] = 0\n",
        "    \n",
        "    \n",
        "    ## Get Dataframe Id\n",
        "    total_id_list = []\n",
        "    id_dict       = {}\n",
        "    with open(ID_PATH, \"r\") as f:\n",
        "        for line in f:\n",
        "            line = line.strip() # remove next line\n",
        "            line = line.split(',')\n",
        "            total_id_list.append(line[0])\n",
        "            id_dict[line[0]] = [line[1:]]\n",
        "           \n",
        "    id_df = pd.DataFrame(id_dict).transpose().reindex(total_id_list)\n",
        "    # join their labels\n",
        "    if LABEL_PATH:\n",
        "    # if we are processing testing data, don't add label\n",
        "        id_df[\"label\"] = y_label[\"label\"]\n",
        "    \n",
        "    return id_df"
      ],
      "metadata": {
        "id": "GD_E0dr2MSTN"
      },
      "execution_count": null,
      "outputs": []
    },
    {
      "cell_type": "code",
      "source": [
        "out = full_data(Y_TRAIN_PATH, X_TRAIN_PATH, FULL_TWITTER_PATH)\n",
        "out"
      ],
      "metadata": {
        "colab": {
          "base_uri": "https://localhost:8080/",
          "height": 423
        },
        "id": "vxh5GjWXMjNM",
        "outputId": "2fe37f90-ab79-4db1-acb0-0198ae1eb8e8"
      },
      "execution_count": null,
      "outputs": [
        {
          "output_type": "execute_result",
          "data": {
            "text/plain": [
              "                                                                     0 label\n",
              "1250219300389974016  [1250219116993974272, 1250219437027766273, 125...   NaN\n",
              "554886875303780352   [554894001946759168, 554959644125167617, 55492...   NaN\n",
              "1237901309011021825         [1237901311439450112, 1239862502516760577]   NaN\n",
              "524958128392376320   [524961934064754688, 524959028061798401, 52495...   NaN\n",
              "1239295488677085185                              [1239562248990806016]   NaN\n",
              "...                                                                ...   ...\n",
              "671181758692507648   [671200376843067392, 671184263329538048, 67133...   NaN\n",
              "672513234419638273   [672513853645717504, 672589162726297600, 67251...   NaN\n",
              "553508098825261056   [553511652587360256, 553509546602553344, 55355...   NaN\n",
              "1249479605582327808  [1249392473073487873, 1249539822915481602, 124...   NaN\n",
              "1241082793737818113  [1241041450084839424, 1241066200697835523, 124...   NaN\n",
              "\n",
              "[1895 rows x 2 columns]"
            ],
            "text/html": [
              "\n",
              "  <div id=\"df-e3933609-115c-4be0-ae0f-3b573867f6c4\">\n",
              "    <div class=\"colab-df-container\">\n",
              "      <div>\n",
              "<style scoped>\n",
              "    .dataframe tbody tr th:only-of-type {\n",
              "        vertical-align: middle;\n",
              "    }\n",
              "\n",
              "    .dataframe tbody tr th {\n",
              "        vertical-align: top;\n",
              "    }\n",
              "\n",
              "    .dataframe thead th {\n",
              "        text-align: right;\n",
              "    }\n",
              "</style>\n",
              "<table border=\"1\" class=\"dataframe\">\n",
              "  <thead>\n",
              "    <tr style=\"text-align: right;\">\n",
              "      <th></th>\n",
              "      <th>0</th>\n",
              "      <th>label</th>\n",
              "    </tr>\n",
              "  </thead>\n",
              "  <tbody>\n",
              "    <tr>\n",
              "      <th>1250219300389974016</th>\n",
              "      <td>[1250219116993974272, 1250219437027766273, 125...</td>\n",
              "      <td>NaN</td>\n",
              "    </tr>\n",
              "    <tr>\n",
              "      <th>554886875303780352</th>\n",
              "      <td>[554894001946759168, 554959644125167617, 55492...</td>\n",
              "      <td>NaN</td>\n",
              "    </tr>\n",
              "    <tr>\n",
              "      <th>1237901309011021825</th>\n",
              "      <td>[1237901311439450112, 1239862502516760577]</td>\n",
              "      <td>NaN</td>\n",
              "    </tr>\n",
              "    <tr>\n",
              "      <th>524958128392376320</th>\n",
              "      <td>[524961934064754688, 524959028061798401, 52495...</td>\n",
              "      <td>NaN</td>\n",
              "    </tr>\n",
              "    <tr>\n",
              "      <th>1239295488677085185</th>\n",
              "      <td>[1239562248990806016]</td>\n",
              "      <td>NaN</td>\n",
              "    </tr>\n",
              "    <tr>\n",
              "      <th>...</th>\n",
              "      <td>...</td>\n",
              "      <td>...</td>\n",
              "    </tr>\n",
              "    <tr>\n",
              "      <th>671181758692507648</th>\n",
              "      <td>[671200376843067392, 671184263329538048, 67133...</td>\n",
              "      <td>NaN</td>\n",
              "    </tr>\n",
              "    <tr>\n",
              "      <th>672513234419638273</th>\n",
              "      <td>[672513853645717504, 672589162726297600, 67251...</td>\n",
              "      <td>NaN</td>\n",
              "    </tr>\n",
              "    <tr>\n",
              "      <th>553508098825261056</th>\n",
              "      <td>[553511652587360256, 553509546602553344, 55355...</td>\n",
              "      <td>NaN</td>\n",
              "    </tr>\n",
              "    <tr>\n",
              "      <th>1249479605582327808</th>\n",
              "      <td>[1249392473073487873, 1249539822915481602, 124...</td>\n",
              "      <td>NaN</td>\n",
              "    </tr>\n",
              "    <tr>\n",
              "      <th>1241082793737818113</th>\n",
              "      <td>[1241041450084839424, 1241066200697835523, 124...</td>\n",
              "      <td>NaN</td>\n",
              "    </tr>\n",
              "  </tbody>\n",
              "</table>\n",
              "<p>1895 rows × 2 columns</p>\n",
              "</div>\n",
              "      <button class=\"colab-df-convert\" onclick=\"convertToInteractive('df-e3933609-115c-4be0-ae0f-3b573867f6c4')\"\n",
              "              title=\"Convert this dataframe to an interactive table.\"\n",
              "              style=\"display:none;\">\n",
              "        \n",
              "  <svg xmlns=\"http://www.w3.org/2000/svg\" height=\"24px\"viewBox=\"0 0 24 24\"\n",
              "       width=\"24px\">\n",
              "    <path d=\"M0 0h24v24H0V0z\" fill=\"none\"/>\n",
              "    <path d=\"M18.56 5.44l.94 2.06.94-2.06 2.06-.94-2.06-.94-.94-2.06-.94 2.06-2.06.94zm-11 1L8.5 8.5l.94-2.06 2.06-.94-2.06-.94L8.5 2.5l-.94 2.06-2.06.94zm10 10l.94 2.06.94-2.06 2.06-.94-2.06-.94-.94-2.06-.94 2.06-2.06.94z\"/><path d=\"M17.41 7.96l-1.37-1.37c-.4-.4-.92-.59-1.43-.59-.52 0-1.04.2-1.43.59L10.3 9.45l-7.72 7.72c-.78.78-.78 2.05 0 2.83L4 21.41c.39.39.9.59 1.41.59.51 0 1.02-.2 1.41-.59l7.78-7.78 2.81-2.81c.8-.78.8-2.07 0-2.86zM5.41 20L4 18.59l7.72-7.72 1.47 1.35L5.41 20z\"/>\n",
              "  </svg>\n",
              "      </button>\n",
              "      \n",
              "  <style>\n",
              "    .colab-df-container {\n",
              "      display:flex;\n",
              "      flex-wrap:wrap;\n",
              "      gap: 12px;\n",
              "    }\n",
              "\n",
              "    .colab-df-convert {\n",
              "      background-color: #E8F0FE;\n",
              "      border: none;\n",
              "      border-radius: 50%;\n",
              "      cursor: pointer;\n",
              "      display: none;\n",
              "      fill: #1967D2;\n",
              "      height: 32px;\n",
              "      padding: 0 0 0 0;\n",
              "      width: 32px;\n",
              "    }\n",
              "\n",
              "    .colab-df-convert:hover {\n",
              "      background-color: #E2EBFA;\n",
              "      box-shadow: 0px 1px 2px rgba(60, 64, 67, 0.3), 0px 1px 3px 1px rgba(60, 64, 67, 0.15);\n",
              "      fill: #174EA6;\n",
              "    }\n",
              "\n",
              "    [theme=dark] .colab-df-convert {\n",
              "      background-color: #3B4455;\n",
              "      fill: #D2E3FC;\n",
              "    }\n",
              "\n",
              "    [theme=dark] .colab-df-convert:hover {\n",
              "      background-color: #434B5C;\n",
              "      box-shadow: 0px 1px 3px 1px rgba(0, 0, 0, 0.15);\n",
              "      filter: drop-shadow(0px 1px 2px rgba(0, 0, 0, 0.3));\n",
              "      fill: #FFFFFF;\n",
              "    }\n",
              "  </style>\n",
              "\n",
              "      <script>\n",
              "        const buttonEl =\n",
              "          document.querySelector('#df-e3933609-115c-4be0-ae0f-3b573867f6c4 button.colab-df-convert');\n",
              "        buttonEl.style.display =\n",
              "          google.colab.kernel.accessAllowed ? 'block' : 'none';\n",
              "\n",
              "        async function convertToInteractive(key) {\n",
              "          const element = document.querySelector('#df-e3933609-115c-4be0-ae0f-3b573867f6c4');\n",
              "          const dataTable =\n",
              "            await google.colab.kernel.invokeFunction('convertToInteractive',\n",
              "                                                     [key], {});\n",
              "          if (!dataTable) return;\n",
              "\n",
              "          const docLinkHtml = 'Like what you see? Visit the ' +\n",
              "            '<a target=\"_blank\" href=https://colab.research.google.com/notebooks/data_table.ipynb>data table notebook</a>'\n",
              "            + ' to learn more about interactive tables.';\n",
              "          element.innerHTML = '';\n",
              "          dataTable['output_type'] = 'display_data';\n",
              "          await google.colab.output.renderOutput(dataTable, element);\n",
              "          const docLink = document.createElement('div');\n",
              "          docLink.innerHTML = docLinkHtml;\n",
              "          element.appendChild(docLink);\n",
              "        }\n",
              "      </script>\n",
              "    </div>\n",
              "  </div>\n",
              "  "
            ]
          },
          "metadata": {},
          "execution_count": 74
        }
      ]
    },
    {
      "cell_type": "code",
      "source": [
        "def join_data_id_label(LABEL_PATH, ID_PATH, DATA_PATH, dropna_on_column=\"text\", SOURCE_STORY_ONLY=False):\n",
        "    \"\"\"A function that joins data and id and their labels, return a dataframe that trims off twitter we don't have data\"\"\"\n",
        "    # Process Labels\n",
        "    if LABEL_PATH:\n",
        "        # 1: Rumour\n",
        "        # 0: NonRumour\n",
        "        with open(LABEL_PATH, \"r\") as f:\n",
        "            y_label = f.read().strip().split(\"\\n\") # remove next line\n",
        "        y_label = pd.DataFrame(y_label, columns = [\"label\"])\n",
        "        y_label[y_label[\"label\"]==\"rumour\"] = 1\n",
        "        y_label[y_label[\"label\"]==\"nonrumour\"] = 0\n",
        "    \n",
        "    \n",
        "    ## Get Dataframe Id\n",
        "    total_id_list = []\n",
        "    with open(ID_PATH, \"r\") as f:\n",
        "        for line in f:\n",
        "            line = line.strip() # remove next line\n",
        "            if SOURCE_STORY_ONLY:\n",
        "                line = line.split(',')[0] # split into list\\\n",
        "            else:\n",
        "                line = line.split(',')\n",
        "            total_id_list.append(line)\n",
        "            \n",
        "    if not SOURCE_STORY_ONLY:\n",
        "        total_id_list = [item for sublist in total_id_list for item in sublist] # Flat into a single list\n",
        "    total_id_list = total_id_list\n",
        "    id_df = pd.DataFrame(total_id_list, columns=[\"id\"])\n",
        "    id_df[\"id\"] = id_df[\"id\"].astype(str)\n",
        "    # join their labels\n",
        "    if LABEL_PATH:\n",
        "    # if we are processing testing data, don't add label\n",
        "        id_df[\"label\"] = y_label[\"label\"]\n",
        "    \n",
        "    ## Get Twitter Data\n",
        "    # Read Source Data\n",
        "    data_df = pd.read_json(DATA_PATH)\n",
        "    #source_df = pd.concat([source_df, y_train], axis=1)\n",
        "    data_df[\"id\"] = data_df[\"id\"].astype(str)\n",
        "    \n",
        "    ## Join the data file and IDs we got \n",
        "    ## Drop rows we don't have data on\n",
        "    combined_df = id_df.join(data_df.set_index('id'), on='id')\n",
        "    if dropna_on_column:\n",
        "        combined_df = combined_df.dropna(subset=['text', 'author_id']).reset_index(drop=True)\n",
        "    combined_df.reindex(total_id_list) # make sure we have the right order\n",
        "    return combined_df"
      ],
      "metadata": {
        "id": "wKymF1CvGMIj"
      },
      "execution_count": null,
      "outputs": []
    },
    {
      "cell_type": "code",
      "source": [
        "import re\n",
        "def remove_URL(original):\n",
        "    \"\"\"Remove url link in the text\"\"\"\n",
        "    result = re.sub(r\"http\\S+\", \"\", original)\n",
        "    result = re.sub(r\"www.\\S+\", \"\", result)\n",
        "    result = re.sub(r\"wasap.my+\", \"\", result)\n",
        "    return result"
      ],
      "metadata": {
        "id": "6TRGt1xsHN-X"
      },
      "execution_count": null,
      "outputs": []
    },
    {
      "cell_type": "code",
      "source": [
        "def preprocess():\n",
        "    \"\"\"Function to combine all the preprocessing steps\"\"\"\n",
        "    X_train = join_data_id_label(Y_TRAIN_PATH, X_TRAIN_PATH, FULL_TWITTER_PATH)\n",
        "    ## 1. Only keep english tweets as most of them are in english\n",
        "    ## 2. Based on the values count, drop irrelevant features \"reply_settings\" too\n",
        "    X_train = X_train[X_train.lang==\"en\"].reset_index(drop=True)\n",
        "    # Use only text data and tokenize\n",
        "    X_train[\"sentence\"] = X_train[\"text\"].apply(remove_URL)\n",
        "    X_train = X_train[['sentence','label']]\n",
        "    \n",
        "    return X_train"
      ],
      "metadata": {
        "id": "uFmxb4LRHQ8q"
      },
      "execution_count": null,
      "outputs": []
    },
    {
      "cell_type": "code",
      "source": [
        "data = preprocess()\n",
        "data"
      ],
      "metadata": {
        "colab": {
          "base_uri": "https://localhost:8080/",
          "height": 423
        },
        "id": "hu8er98PIL34",
        "outputId": "ab4d4aaa-0142-4640-e178-bc7005288d08"
      },
      "execution_count": null,
      "outputs": [
        {
          "output_type": "execute_result",
          "data": {
            "text/plain": [
              "                                                sentence label\n",
              "0      5. Can regularly rinsing your nose with saline...     0\n",
              "1      4. Can eating garlic help prevent infection wi...     1\n",
              "2      6. Do vaccines against pneumonia protect you a...     0\n",
              "3      7. Can spraying alcohol or chlorine all over y...     0\n",
              "4      8. How effective are thermal scanners in detec...     0\n",
              "...                                                  ...   ...\n",
              "19835  @rosierawle All good. Just been working out th...   NaN\n",
              "19836  @rosierawle Best timetable I've heard about! A...   NaN\n",
              "19837  @lynneSimpkin And this exactly why you need to...   NaN\n",
              "19838  @rosierawle I might have sent that twice by ac...   NaN\n",
              "19839  @rosierawle Best timetable yet! Apart from 'Mi...   NaN\n",
              "\n",
              "[19840 rows x 2 columns]"
            ],
            "text/html": [
              "\n",
              "  <div id=\"df-4467b3a5-a42d-4192-bc36-91e604b5bd30\">\n",
              "    <div class=\"colab-df-container\">\n",
              "      <div>\n",
              "<style scoped>\n",
              "    .dataframe tbody tr th:only-of-type {\n",
              "        vertical-align: middle;\n",
              "    }\n",
              "\n",
              "    .dataframe tbody tr th {\n",
              "        vertical-align: top;\n",
              "    }\n",
              "\n",
              "    .dataframe thead th {\n",
              "        text-align: right;\n",
              "    }\n",
              "</style>\n",
              "<table border=\"1\" class=\"dataframe\">\n",
              "  <thead>\n",
              "    <tr style=\"text-align: right;\">\n",
              "      <th></th>\n",
              "      <th>sentence</th>\n",
              "      <th>label</th>\n",
              "    </tr>\n",
              "  </thead>\n",
              "  <tbody>\n",
              "    <tr>\n",
              "      <th>0</th>\n",
              "      <td>5. Can regularly rinsing your nose with saline...</td>\n",
              "      <td>0</td>\n",
              "    </tr>\n",
              "    <tr>\n",
              "      <th>1</th>\n",
              "      <td>4. Can eating garlic help prevent infection wi...</td>\n",
              "      <td>1</td>\n",
              "    </tr>\n",
              "    <tr>\n",
              "      <th>2</th>\n",
              "      <td>6. Do vaccines against pneumonia protect you a...</td>\n",
              "      <td>0</td>\n",
              "    </tr>\n",
              "    <tr>\n",
              "      <th>3</th>\n",
              "      <td>7. Can spraying alcohol or chlorine all over y...</td>\n",
              "      <td>0</td>\n",
              "    </tr>\n",
              "    <tr>\n",
              "      <th>4</th>\n",
              "      <td>8. How effective are thermal scanners in detec...</td>\n",
              "      <td>0</td>\n",
              "    </tr>\n",
              "    <tr>\n",
              "      <th>...</th>\n",
              "      <td>...</td>\n",
              "      <td>...</td>\n",
              "    </tr>\n",
              "    <tr>\n",
              "      <th>19835</th>\n",
              "      <td>@rosierawle All good. Just been working out th...</td>\n",
              "      <td>NaN</td>\n",
              "    </tr>\n",
              "    <tr>\n",
              "      <th>19836</th>\n",
              "      <td>@rosierawle Best timetable I've heard about! A...</td>\n",
              "      <td>NaN</td>\n",
              "    </tr>\n",
              "    <tr>\n",
              "      <th>19837</th>\n",
              "      <td>@lynneSimpkin And this exactly why you need to...</td>\n",
              "      <td>NaN</td>\n",
              "    </tr>\n",
              "    <tr>\n",
              "      <th>19838</th>\n",
              "      <td>@rosierawle I might have sent that twice by ac...</td>\n",
              "      <td>NaN</td>\n",
              "    </tr>\n",
              "    <tr>\n",
              "      <th>19839</th>\n",
              "      <td>@rosierawle Best timetable yet! Apart from 'Mi...</td>\n",
              "      <td>NaN</td>\n",
              "    </tr>\n",
              "  </tbody>\n",
              "</table>\n",
              "<p>19840 rows × 2 columns</p>\n",
              "</div>\n",
              "      <button class=\"colab-df-convert\" onclick=\"convertToInteractive('df-4467b3a5-a42d-4192-bc36-91e604b5bd30')\"\n",
              "              title=\"Convert this dataframe to an interactive table.\"\n",
              "              style=\"display:none;\">\n",
              "        \n",
              "  <svg xmlns=\"http://www.w3.org/2000/svg\" height=\"24px\"viewBox=\"0 0 24 24\"\n",
              "       width=\"24px\">\n",
              "    <path d=\"M0 0h24v24H0V0z\" fill=\"none\"/>\n",
              "    <path d=\"M18.56 5.44l.94 2.06.94-2.06 2.06-.94-2.06-.94-.94-2.06-.94 2.06-2.06.94zm-11 1L8.5 8.5l.94-2.06 2.06-.94-2.06-.94L8.5 2.5l-.94 2.06-2.06.94zm10 10l.94 2.06.94-2.06 2.06-.94-2.06-.94-.94-2.06-.94 2.06-2.06.94z\"/><path d=\"M17.41 7.96l-1.37-1.37c-.4-.4-.92-.59-1.43-.59-.52 0-1.04.2-1.43.59L10.3 9.45l-7.72 7.72c-.78.78-.78 2.05 0 2.83L4 21.41c.39.39.9.59 1.41.59.51 0 1.02-.2 1.41-.59l7.78-7.78 2.81-2.81c.8-.78.8-2.07 0-2.86zM5.41 20L4 18.59l7.72-7.72 1.47 1.35L5.41 20z\"/>\n",
              "  </svg>\n",
              "      </button>\n",
              "      \n",
              "  <style>\n",
              "    .colab-df-container {\n",
              "      display:flex;\n",
              "      flex-wrap:wrap;\n",
              "      gap: 12px;\n",
              "    }\n",
              "\n",
              "    .colab-df-convert {\n",
              "      background-color: #E8F0FE;\n",
              "      border: none;\n",
              "      border-radius: 50%;\n",
              "      cursor: pointer;\n",
              "      display: none;\n",
              "      fill: #1967D2;\n",
              "      height: 32px;\n",
              "      padding: 0 0 0 0;\n",
              "      width: 32px;\n",
              "    }\n",
              "\n",
              "    .colab-df-convert:hover {\n",
              "      background-color: #E2EBFA;\n",
              "      box-shadow: 0px 1px 2px rgba(60, 64, 67, 0.3), 0px 1px 3px 1px rgba(60, 64, 67, 0.15);\n",
              "      fill: #174EA6;\n",
              "    }\n",
              "\n",
              "    [theme=dark] .colab-df-convert {\n",
              "      background-color: #3B4455;\n",
              "      fill: #D2E3FC;\n",
              "    }\n",
              "\n",
              "    [theme=dark] .colab-df-convert:hover {\n",
              "      background-color: #434B5C;\n",
              "      box-shadow: 0px 1px 3px 1px rgba(0, 0, 0, 0.15);\n",
              "      filter: drop-shadow(0px 1px 2px rgba(0, 0, 0, 0.3));\n",
              "      fill: #FFFFFF;\n",
              "    }\n",
              "  </style>\n",
              "\n",
              "      <script>\n",
              "        const buttonEl =\n",
              "          document.querySelector('#df-4467b3a5-a42d-4192-bc36-91e604b5bd30 button.colab-df-convert');\n",
              "        buttonEl.style.display =\n",
              "          google.colab.kernel.accessAllowed ? 'block' : 'none';\n",
              "\n",
              "        async function convertToInteractive(key) {\n",
              "          const element = document.querySelector('#df-4467b3a5-a42d-4192-bc36-91e604b5bd30');\n",
              "          const dataTable =\n",
              "            await google.colab.kernel.invokeFunction('convertToInteractive',\n",
              "                                                     [key], {});\n",
              "          if (!dataTable) return;\n",
              "\n",
              "          const docLinkHtml = 'Like what you see? Visit the ' +\n",
              "            '<a target=\"_blank\" href=https://colab.research.google.com/notebooks/data_table.ipynb>data table notebook</a>'\n",
              "            + ' to learn more about interactive tables.';\n",
              "          element.innerHTML = '';\n",
              "          dataTable['output_type'] = 'display_data';\n",
              "          await google.colab.output.renderOutput(dataTable, element);\n",
              "          const docLink = document.createElement('div');\n",
              "          docLink.innerHTML = docLinkHtml;\n",
              "          element.appendChild(docLink);\n",
              "        }\n",
              "      </script>\n",
              "    </div>\n",
              "  </div>\n",
              "  "
            ]
          },
          "metadata": {},
          "execution_count": 33
        }
      ]
    },
    {
      "cell_type": "code",
      "source": [
        "import random\n",
        "import numpy as np\n",
        "\n",
        "sentences = data['sentence'].values\n",
        "labels = data['label'].values\n",
        "\n",
        "#partition data into 80/10/10 for train/dev/test\n",
        "sentences_train, y_train = sentences[:1200], labels[:1200]\n",
        "sentences_dev, y_dev = sentences[1200:1350], labels[1200:1350]\n",
        "sentences_test, y_test = sentences[1350:], labels[1350:]\n",
        "\n",
        "#convert label list into arrays\n",
        "y_train = np.array(y_train).astype('float32')\n",
        "y_dev = np.array(y_dev).astype('float32')\n",
        "y_test = np.array(y_test).astype('float32')\n",
        "\n"
      ],
      "metadata": {
        "id": "avvhM-IvOtc5"
      },
      "execution_count": null,
      "outputs": []
    },
    {
      "cell_type": "code",
      "source": [
        "from keras.preprocessing.text import Tokenizer\n",
        "tokenizer = Tokenizer(oov_token=\"<UNK>\")\n",
        "tokenizer.fit_on_texts(sentences_train)\n",
        "\n",
        "x_train = tokenizer.texts_to_matrix(sentences_train, mode=\"count\") #BOW representation\n",
        "vocab_size = x_train.shape[1]\n",
        "\n",
        "print(\"Vocab size =\", vocab_size)"
      ],
      "metadata": {
        "colab": {
          "base_uri": "https://localhost:8080/"
        },
        "id": "OB8OGCBfUVyj",
        "outputId": "510b67e1-5902-4018-9959-6453b82a780d"
      },
      "execution_count": null,
      "outputs": [
        {
          "output_type": "stream",
          "name": "stdout",
          "text": [
            "Vocab size = 5097\n"
          ]
        }
      ]
    },
    {
      "cell_type": "code",
      "source": [
        "from keras.models import Sequential\n",
        "from keras import layers\n",
        "from keras.preprocessing.sequence import pad_sequences\n",
        "\n",
        "maxlen = 50\n",
        "# Sequence tokenization\n",
        "xseq_train = tokenizer.texts_to_sequences(sentences_train)\n",
        "xseq_dev = tokenizer.texts_to_sequences(sentences_dev)\n",
        "xseq_test = tokenizer.texts_to_sequences(sentences_test)\n",
        "# Padding\n",
        "xseq_train = pad_sequences(xseq_train, padding='post', maxlen=maxlen)\n",
        "xseq_dev = pad_sequences(xseq_dev, padding='post', maxlen=maxlen)\n",
        "xseq_test = pad_sequences(xseq_test, padding='post', maxlen=maxlen)"
      ],
      "metadata": {
        "id": "XDu530uuJ7D_"
      },
      "execution_count": null,
      "outputs": []
    },
    {
      "cell_type": "code",
      "source": [
        "embedding_dim = 10\n",
        "\n",
        "from keras.layers import LSTM\n",
        "\n",
        "#word order preserved with this architecture\n",
        "lstm = Sequential(name=\"lstm\")\n",
        "lstm.add(layers.Embedding(input_dim=vocab_size, \n",
        "                           output_dim=embedding_dim, \n",
        "                           input_length=maxlen))\n",
        "lstm.add(LSTM(10))\n",
        "lstm.add(layers.Dense(1, activation='sigmoid'))\n",
        "lstm.compile(optimizer='adam',\n",
        "              loss='binary_crossentropy',\n",
        "              metrics=['accuracy'])\n",
        "lstm.summary()"
      ],
      "metadata": {
        "colab": {
          "base_uri": "https://localhost:8080/"
        },
        "id": "ZH6Zd6_mRXtU",
        "outputId": "67bdaaac-313e-4d1a-b038-5251c9e99e8b"
      },
      "execution_count": null,
      "outputs": [
        {
          "output_type": "stream",
          "name": "stdout",
          "text": [
            "Model: \"lstm\"\n",
            "_________________________________________________________________\n",
            " Layer (type)                Output Shape              Param #   \n",
            "=================================================================\n",
            " embedding (Embedding)       (None, 50, 10)            50970     \n",
            "                                                                 \n",
            " lstm (LSTM)                 (None, 10)                840       \n",
            "                                                                 \n",
            " dense (Dense)               (None, 1)                 11        \n",
            "                                                                 \n",
            "=================================================================\n",
            "Total params: 51,821\n",
            "Trainable params: 51,821\n",
            "Non-trainable params: 0\n",
            "_________________________________________________________________\n"
          ]
        }
      ]
    },
    {
      "cell_type": "code",
      "source": [
        "lstm.fit(xseq_train, y_train, epochs=20, verbose=True, validation_data=(xseq_dev, y_dev), batch_size=10)\n",
        "\n",
        "loss, accuracy = lstm.evaluate(xseq_test, y_test, verbose=False)\n",
        "print(\"Testing Accuracy:  {:.4f}\".format(accuracy))"
      ],
      "metadata": {
        "colab": {
          "base_uri": "https://localhost:8080/"
        },
        "id": "D1Us5BrWRuT1",
        "outputId": "0651fe64-21bc-441c-f9d4-399b20c35743"
      },
      "execution_count": null,
      "outputs": [
        {
          "output_type": "stream",
          "name": "stdout",
          "text": [
            "Epoch 1/20\n",
            "120/120 [==============================] - 2s 16ms/step - loss: 0.0217 - accuracy: 0.9958 - val_loss: 0.5997 - val_accuracy: 0.8733\n",
            "Epoch 2/20\n",
            "120/120 [==============================] - 3s 23ms/step - loss: 0.0216 - accuracy: 0.9958 - val_loss: 0.6105 - val_accuracy: 0.8733\n",
            "Epoch 3/20\n",
            "120/120 [==============================] - 3s 26ms/step - loss: 0.0183 - accuracy: 0.9967 - val_loss: 0.6607 - val_accuracy: 0.8667\n",
            "Epoch 4/20\n",
            "120/120 [==============================] - 3s 25ms/step - loss: 0.0181 - accuracy: 0.9967 - val_loss: 0.6761 - val_accuracy: 0.8667\n",
            "Epoch 5/20\n",
            "120/120 [==============================] - 4s 29ms/step - loss: 0.0180 - accuracy: 0.9967 - val_loss: 0.6847 - val_accuracy: 0.8667\n",
            "Epoch 6/20\n",
            "120/120 [==============================] - 4s 31ms/step - loss: 0.0179 - accuracy: 0.9967 - val_loss: 0.6979 - val_accuracy: 0.8667\n",
            "Epoch 7/20\n",
            "120/120 [==============================] - 3s 27ms/step - loss: 0.0178 - accuracy: 0.9967 - val_loss: 0.6971 - val_accuracy: 0.8667\n",
            "Epoch 8/20\n",
            "120/120 [==============================] - 3s 27ms/step - loss: 0.0178 - accuracy: 0.9967 - val_loss: 0.7039 - val_accuracy: 0.8667\n",
            "Epoch 9/20\n",
            "120/120 [==============================] - 4s 30ms/step - loss: 0.0143 - accuracy: 0.9975 - val_loss: 0.7159 - val_accuracy: 0.8667\n",
            "Epoch 10/20\n",
            "120/120 [==============================] - 3s 25ms/step - loss: 0.0142 - accuracy: 0.9975 - val_loss: 0.6924 - val_accuracy: 0.8733\n",
            "Epoch 11/20\n",
            "120/120 [==============================] - 2s 14ms/step - loss: 0.0105 - accuracy: 0.9983 - val_loss: 0.7155 - val_accuracy: 0.8733\n",
            "Epoch 12/20\n",
            "120/120 [==============================] - 2s 14ms/step - loss: 0.0205 - accuracy: 0.9967 - val_loss: 0.6771 - val_accuracy: 0.8800\n",
            "Epoch 13/20\n",
            "120/120 [==============================] - 2s 14ms/step - loss: 0.0104 - accuracy: 0.9983 - val_loss: 0.6863 - val_accuracy: 0.8800\n",
            "Epoch 14/20\n",
            "120/120 [==============================] - 2s 14ms/step - loss: 0.0103 - accuracy: 0.9983 - val_loss: 0.6951 - val_accuracy: 0.8800\n",
            "Epoch 15/20\n",
            "120/120 [==============================] - 2s 14ms/step - loss: 0.0102 - accuracy: 0.9983 - val_loss: 0.7037 - val_accuracy: 0.8800\n",
            "Epoch 16/20\n",
            "120/120 [==============================] - 2s 14ms/step - loss: 0.0101 - accuracy: 0.9983 - val_loss: 0.7126 - val_accuracy: 0.8800\n",
            "Epoch 17/20\n",
            "120/120 [==============================] - 2s 14ms/step - loss: 0.0101 - accuracy: 0.9983 - val_loss: 0.7176 - val_accuracy: 0.8800\n",
            "Epoch 18/20\n",
            "120/120 [==============================] - 2s 14ms/step - loss: 0.0101 - accuracy: 0.9983 - val_loss: 0.7460 - val_accuracy: 0.8733\n",
            "Epoch 19/20\n",
            "120/120 [==============================] - 2s 14ms/step - loss: 0.0101 - accuracy: 0.9983 - val_loss: 0.7462 - val_accuracy: 0.8733\n",
            "Epoch 20/20\n",
            "120/120 [==============================] - 2s 15ms/step - loss: 0.0141 - accuracy: 0.9975 - val_loss: 0.8567 - val_accuracy: 0.8733\n",
            "Testing Accuracy:  0.9036\n"
          ]
        }
      ]
    },
    {
      "cell_type": "code",
      "source": [
        "from sklearn.feature_extraction.text import TfidfVectorizer\n",
        "\n",
        "vectorizer = TfidfVectorizer()\n",
        "vectorizer.fit(sentences_train)\n",
        "\n",
        "xtf_train = vectorizer.transform(sentences_train)\n",
        "xtf_dev = vectorizer.transform(sentences_dev)\n",
        "xtf_test = vectorizer.transform(sentences_test)\n",
        "\n",
        "# Padding\n",
        "xtf_train = pad_sequences(xseq_train, padding='post', maxlen=maxlen)\n",
        "xtf_dev = pad_sequences(xseq_dev, padding='post', maxlen=maxlen)\n",
        "xtf_test = pad_sequences(xseq_test, padding='post', maxlen=maxlen)"
      ],
      "metadata": {
        "id": "t1uuWrFzVBwS"
      },
      "execution_count": null,
      "outputs": []
    },
    {
      "cell_type": "code",
      "source": [
        ""
      ],
      "metadata": {
        "id": "906ZwhXAstaK",
        "colab": {
          "base_uri": "https://localhost:8080/"
        },
        "outputId": "22ca6dde-b496-4229-febe-0b2c81a2e18e"
      },
      "execution_count": null,
      "outputs": [
        {
          "output_type": "execute_result",
          "data": {
            "text/plain": [
              "array([  11,   67,    7,    8,  369,   27,    2,  270, 1094,   57,   24,\n",
              "        106,    4,   89,    5,   63,  165, 1094,   39,    5,  630,   33,\n",
              "        175,  254,  447,    9, 1095,    6,    4,   89, 1094,   46,    9,\n",
              "         39,    5,  175,  208,    0,    0,    0,    0,    0,    0,    0,\n",
              "          0,    0,    0,    0,    0,    0], dtype=int32)"
            ]
          },
          "metadata": {},
          "execution_count": 24
        }
      ]
    },
    {
      "cell_type": "code",
      "source": [
        "lstm.fit(xtf_train, y_train, epochs=10, verbose=True, validation_data=(xtf_dev, y_dev), batch_size=10)\n",
        "\n",
        "loss, accuracy = lstm.evaluate(xtf_test, y_test, verbose=False)\n",
        "print(\"Testing Accuracy:  {:.4f}\".format(accuracy))"
      ],
      "metadata": {
        "colab": {
          "base_uri": "https://localhost:8080/"
        },
        "id": "TG-pR0_xBtGi",
        "outputId": "8b0a7163-09c0-4a45-fc1f-7323564147d5"
      },
      "execution_count": null,
      "outputs": [
        {
          "output_type": "stream",
          "name": "stdout",
          "text": [
            "Epoch 1/10\n",
            "120/120 [==============================] - 2s 15ms/step - loss: 0.0189 - accuracy: 0.9975 - val_loss: 0.4829 - val_accuracy: 0.9067\n",
            "Epoch 2/10\n",
            "120/120 [==============================] - 2s 15ms/step - loss: 0.0150 - accuracy: 0.9983 - val_loss: 0.5020 - val_accuracy: 0.9067\n",
            "Epoch 3/10\n",
            "120/120 [==============================] - 2s 15ms/step - loss: 0.0095 - accuracy: 0.9992 - val_loss: 0.5238 - val_accuracy: 0.9067\n",
            "Epoch 4/10\n",
            "120/120 [==============================] - 2s 15ms/step - loss: 0.0088 - accuracy: 0.9992 - val_loss: 0.4998 - val_accuracy: 0.9133\n",
            "Epoch 5/10\n",
            "120/120 [==============================] - 2s 19ms/step - loss: 0.0035 - accuracy: 1.0000 - val_loss: 0.5188 - val_accuracy: 0.9133\n",
            "Epoch 6/10\n",
            "120/120 [==============================] - 2s 15ms/step - loss: 0.0029 - accuracy: 1.0000 - val_loss: 0.5350 - val_accuracy: 0.9133\n",
            "Epoch 7/10\n",
            "120/120 [==============================] - 2s 15ms/step - loss: 0.0025 - accuracy: 1.0000 - val_loss: 0.5492 - val_accuracy: 0.9133\n",
            "Epoch 8/10\n",
            "120/120 [==============================] - 2s 15ms/step - loss: 0.0022 - accuracy: 1.0000 - val_loss: 0.5618 - val_accuracy: 0.9133\n",
            "Epoch 9/10\n",
            "120/120 [==============================] - 2s 15ms/step - loss: 0.0019 - accuracy: 1.0000 - val_loss: 0.5734 - val_accuracy: 0.9133\n",
            "Epoch 10/10\n",
            "120/120 [==============================] - 2s 15ms/step - loss: 0.0017 - accuracy: 1.0000 - val_loss: 0.5841 - val_accuracy: 0.9133\n",
            "Testing Accuracy:  0.9086\n"
          ]
        }
      ]
    },
    {
      "cell_type": "code",
      "source": [
        ""
      ],
      "metadata": {
        "id": "qB7zg3j1DQd0"
      },
      "execution_count": null,
      "outputs": []
    }
  ]
}